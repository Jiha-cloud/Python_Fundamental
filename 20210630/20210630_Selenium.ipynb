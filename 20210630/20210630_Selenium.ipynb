{
 "cells": [
  {
   "cell_type": "code",
   "execution_count": 105,
   "id": "d3d70258",
   "metadata": {},
   "outputs": [],
   "source": [
    "from selenium import webdriver\n",
    "from selenium.webdriver.common.keys import Keys\n",
    "from bs4 import BeautifulSoup as bs\n",
    "import requests\n",
    "import urllib.request"
   ]
  },
  {
   "cell_type": "code",
   "execution_count": 211,
   "id": "f0e4faed",
   "metadata": {},
   "outputs": [],
   "source": [
    "driver = webdriver.Chrome('C:/Users/학생/0.pjha/chromedriver')"
   ]
  },
  {
   "cell_type": "code",
   "execution_count": 42,
   "id": "c98389a2",
   "metadata": {},
   "outputs": [],
   "source": [
    "driver.get('http://www.python.org')"
   ]
  },
  {
   "cell_type": "code",
   "execution_count": 39,
   "id": "8e6284e6",
   "metadata": {},
   "outputs": [
    {
     "data": {
      "text/plain": [
       "'Welcome to Python.org'"
      ]
     },
     "execution_count": 39,
     "metadata": {},
     "output_type": "execute_result"
    }
   ],
   "source": [
    "driver.title"
   ]
  },
  {
   "cell_type": "code",
   "execution_count": 43,
   "id": "07bf4443",
   "metadata": {},
   "outputs": [
    {
     "ename": "AssertionError",
     "evalue": "",
     "output_type": "error",
     "traceback": [
      "\u001b[1;31m---------------------------------------------------------------------------\u001b[0m",
      "\u001b[1;31mAssertionError\u001b[0m                            Traceback (most recent call last)",
      "\u001b[1;32m<ipython-input-43-ac060b7d6fdc>\u001b[0m in \u001b[0;36m<module>\u001b[1;34m\u001b[0m\n\u001b[1;32m----> 1\u001b[1;33m \u001b[1;32massert\u001b[0m \u001b[1;34m'Python1222'\u001b[0m \u001b[1;32min\u001b[0m \u001b[0mdriver\u001b[0m\u001b[1;33m.\u001b[0m\u001b[0mtitle\u001b[0m\u001b[1;33m\u001b[0m\u001b[1;33m\u001b[0m\u001b[0m\n\u001b[0m",
      "\u001b[1;31mAssertionError\u001b[0m: "
     ]
    }
   ],
   "source": [
    "assert 'Python1222' in driver.title"
   ]
  },
  {
   "cell_type": "code",
   "execution_count": 44,
   "id": "0ba5453a",
   "metadata": {},
   "outputs": [],
   "source": [
    "elem = driver.find_element_by_name('q')"
   ]
  },
  {
   "cell_type": "code",
   "execution_count": 45,
   "id": "207f59af",
   "metadata": {},
   "outputs": [],
   "source": [
    "elem.clear()\n",
    "elem.send_keys('pycon123')"
   ]
  },
  {
   "cell_type": "code",
   "execution_count": 46,
   "id": "51e9e7b8",
   "metadata": {},
   "outputs": [
    {
     "data": {
      "text/plain": [
       "<selenium.webdriver.remote.webelement.WebElement (session=\"9944dcf03712220fa2c7801c93bbc6d2\", element=\"0bacbbcd-ddcf-405e-9395-d7ab29064584\")>"
      ]
     },
     "execution_count": 46,
     "metadata": {},
     "output_type": "execute_result"
    }
   ],
   "source": [
    "elem"
   ]
  },
  {
   "cell_type": "code",
   "execution_count": 47,
   "id": "a2d6bad2",
   "metadata": {},
   "outputs": [],
   "source": [
    "elem.send_keys(Keys.RETURN)"
   ]
  },
  {
   "cell_type": "code",
   "execution_count": 48,
   "id": "65270f7e",
   "metadata": {},
   "outputs": [
    {
     "name": "stdout",
     "output_type": "stream",
     "text": [
      "['ADD', 'ALT', 'ARROW_DOWN', 'ARROW_LEFT', 'ARROW_RIGHT', 'ARROW_UP', 'BACKSPACE', 'BACK_SPACE', 'CANCEL', 'CLEAR', 'COMMAND', 'CONTROL', 'DECIMAL', 'DELETE', 'DIVIDE', 'DOWN', 'END', 'ENTER', 'EQUALS', 'ESCAPE', 'F1', 'F10', 'F11', 'F12', 'F2', 'F3', 'F4', 'F5', 'F6', 'F7', 'F8', 'F9', 'HELP', 'HOME', 'INSERT', 'LEFT', 'LEFT_ALT', 'LEFT_CONTROL', 'LEFT_SHIFT', 'META', 'MULTIPLY', 'NULL', 'NUMPAD0', 'NUMPAD1', 'NUMPAD2', 'NUMPAD3', 'NUMPAD4', 'NUMPAD5', 'NUMPAD6', 'NUMPAD7', 'NUMPAD8', 'NUMPAD9', 'PAGE_DOWN', 'PAGE_UP', 'PAUSE', 'RETURN', 'RIGHT', 'SEMICOLON', 'SEPARATOR', 'SHIFT', 'SPACE', 'SUBTRACT', 'TAB', 'UP', '__class__', '__delattr__', '__dict__', '__dir__', '__doc__', '__eq__', '__format__', '__ge__', '__getattribute__', '__gt__', '__hash__', '__init__', '__init_subclass__', '__le__', '__lt__', '__module__', '__ne__', '__new__', '__reduce__', '__reduce_ex__', '__repr__', '__setattr__', '__sizeof__', '__str__', '__subclasshook__', '__weakref__']\n"
     ]
    }
   ],
   "source": [
    "print(dir(Keys))"
   ]
  },
  {
   "cell_type": "code",
   "execution_count": 49,
   "id": "4219d2f1",
   "metadata": {},
   "outputs": [
    {
     "ename": "AssertionError",
     "evalue": "",
     "output_type": "error",
     "traceback": [
      "\u001b[1;31m---------------------------------------------------------------------------\u001b[0m",
      "\u001b[1;31mAssertionError\u001b[0m                            Traceback (most recent call last)",
      "\u001b[1;32m<ipython-input-49-339c5c42f8f4>\u001b[0m in \u001b[0;36m<module>\u001b[1;34m\u001b[0m\n\u001b[1;32m----> 1\u001b[1;33m \u001b[1;32massert\u001b[0m \u001b[1;34m'No results found'\u001b[0m \u001b[1;32mnot\u001b[0m \u001b[1;32min\u001b[0m \u001b[0mdriver\u001b[0m\u001b[1;33m.\u001b[0m\u001b[0mpage_source\u001b[0m\u001b[1;33m\u001b[0m\u001b[1;33m\u001b[0m\u001b[0m\n\u001b[0m",
      "\u001b[1;31mAssertionError\u001b[0m: "
     ]
    }
   ],
   "source": [
    "assert 'No results found' not in driver.page_source"
   ]
  },
  {
   "cell_type": "code",
   "execution_count": 55,
   "id": "9a8a416c",
   "metadata": {},
   "outputs": [
    {
     "data": {
      "text/plain": [
       "<selenium.webdriver.remote.webelement.WebElement (session=\"9944dcf03712220fa2c7801c93bbc6d2\", element=\"63ad4695-483b-48ce-ae0a-a0ada6da5e6b\")>"
      ]
     },
     "execution_count": 55,
     "metadata": {},
     "output_type": "execute_result"
    }
   ],
   "source": [
    "elem = driver.find_element_by_class_name('donate-button')\n",
    "elem"
   ]
  },
  {
   "cell_type": "code",
   "execution_count": 56,
   "id": "f74e5d03",
   "metadata": {},
   "outputs": [],
   "source": [
    "elem.send_keys(Keys.RETURN)"
   ]
  },
  {
   "cell_type": "code",
   "execution_count": 60,
   "id": "b9151a07",
   "metadata": {},
   "outputs": [
    {
     "name": "stdout",
     "output_type": "stream",
     "text": [
      "6\n"
     ]
    }
   ],
   "source": [
    "menu =driver.find_elements_by_css_selector('#top > nav > ul > li')\n",
    "print(len(menu))"
   ]
  },
  {
   "cell_type": "code",
   "execution_count": 62,
   "id": "656fa9f5",
   "metadata": {},
   "outputs": [
    {
     "data": {
      "text/plain": [
       "'PyPI'"
      ]
     },
     "execution_count": 62,
     "metadata": {},
     "output_type": "execute_result"
    }
   ],
   "source": [
    "menu[3].text"
   ]
  },
  {
   "cell_type": "code",
   "execution_count": 64,
   "id": "8663cbdf",
   "metadata": {},
   "outputs": [
    {
     "name": "stdout",
     "output_type": "stream",
     "text": [
      "1 =  Python\n",
      "1 =  PSF\n",
      "1 =  Docs\n",
      "1 =  PyPI\n",
      "1 =  Jobs\n",
      "2 = Jobs\n",
      "1 =  Community\n"
     ]
    }
   ],
   "source": [
    "pypi = ''\n",
    "for m in menu:\n",
    "    print('1 = ', m.text)\n",
    "    if m.text == 'Jobs':\n",
    "        pypi = m\n",
    "        print('2 =', m.text)\n",
    "        \n",
    "pypi.click()"
   ]
  },
  {
   "cell_type": "code",
   "execution_count": 107,
   "id": "f3b59370",
   "metadata": {},
   "outputs": [],
   "source": [
    "driver.get('http://google.com')"
   ]
  },
  {
   "cell_type": "code",
   "execution_count": 108,
   "id": "3b0af5fe",
   "metadata": {},
   "outputs": [],
   "source": [
    "ele_search = driver.find_element_by_name('q')"
   ]
  },
  {
   "cell_type": "code",
   "execution_count": 109,
   "id": "f899924e",
   "metadata": {},
   "outputs": [],
   "source": [
    "ele_search.send_keys('나몰라패밀리')"
   ]
  },
  {
   "cell_type": "code",
   "execution_count": 110,
   "id": "87f6cd03",
   "metadata": {},
   "outputs": [],
   "source": [
    "ele_search.send_keys(Keys.RETURN)"
   ]
  },
  {
   "cell_type": "code",
   "execution_count": 117,
   "id": "0ccda764",
   "metadata": {},
   "outputs": [],
   "source": [
    "ele_namu = driver.find_element_by_class_name(\"yuRUbf\")"
   ]
  },
  {
   "cell_type": "code",
   "execution_count": 118,
   "id": "5f5d146c",
   "metadata": {},
   "outputs": [
    {
     "data": {
      "text/plain": [
       "<selenium.webdriver.remote.webelement.WebElement (session=\"244b1ee27ae9223f8caeba14609447bc\", element=\"ee137e1e-c388-4b12-ba9b-90eae3cee907\")>"
      ]
     },
     "execution_count": 118,
     "metadata": {},
     "output_type": "execute_result"
    }
   ],
   "source": [
    "ele_namu"
   ]
  },
  {
   "cell_type": "code",
   "execution_count": 119,
   "id": "652046f6",
   "metadata": {},
   "outputs": [],
   "source": [
    "ele_namu.click()"
   ]
  },
  {
   "cell_type": "code",
   "execution_count": 127,
   "id": "7b904d62",
   "metadata": {},
   "outputs": [],
   "source": [
    "ele_login = driver.find_element_by_class_name('gb_Se')"
   ]
  },
  {
   "cell_type": "code",
   "execution_count": 128,
   "id": "7f349166",
   "metadata": {},
   "outputs": [],
   "source": [
    "ele_login.click()"
   ]
  },
  {
   "cell_type": "code",
   "execution_count": 129,
   "id": "801d9010",
   "metadata": {},
   "outputs": [],
   "source": [
    "driver.get('http://naver.com')"
   ]
  },
  {
   "cell_type": "code",
   "execution_count": 130,
   "id": "99ea512c",
   "metadata": {},
   "outputs": [],
   "source": [
    "ele_login1 = driver.find_element_by_class_name('link_login')"
   ]
  },
  {
   "cell_type": "code",
   "execution_count": 131,
   "id": "7b1be928",
   "metadata": {},
   "outputs": [],
   "source": [
    "ele_login1.click()"
   ]
  },
  {
   "cell_type": "code",
   "execution_count": 139,
   "id": "5140f380",
   "metadata": {},
   "outputs": [],
   "source": [
    "ele_login_id = driver.find_element_by_id('id')"
   ]
  },
  {
   "cell_type": "code",
   "execution_count": 140,
   "id": "61442dc4",
   "metadata": {},
   "outputs": [],
   "source": [
    "ele_login_id.send_keys('qpal748596')"
   ]
  },
  {
   "cell_type": "code",
   "execution_count": 141,
   "id": "06e2818c",
   "metadata": {},
   "outputs": [],
   "source": [
    "ele_login_pw = driver.find_element_by_id('pw')"
   ]
  },
  {
   "cell_type": "code",
   "execution_count": 142,
   "id": "28732dc6",
   "metadata": {},
   "outputs": [],
   "source": [
    "ele_login_pw.send_keys('qkrwlgk0102@')"
   ]
  },
  {
   "cell_type": "code",
   "execution_count": 143,
   "id": "90a03746",
   "metadata": {},
   "outputs": [],
   "source": [
    "ele_login_submit = driver.find_element_by_id('log.login')"
   ]
  },
  {
   "cell_type": "code",
   "execution_count": 144,
   "id": "b0a1c791",
   "metadata": {},
   "outputs": [],
   "source": [
    "ele_login_submit.click()"
   ]
  },
  {
   "cell_type": "code",
   "execution_count": 212,
   "id": "ae55cd15",
   "metadata": {},
   "outputs": [],
   "source": [
    "driver.get('http://youtube.com')"
   ]
  },
  {
   "cell_type": "code",
   "execution_count": 213,
   "id": "32c0f492",
   "metadata": {},
   "outputs": [],
   "source": [
    "driver.find_element_by_id('search').send_keys('파이썬 데이터분석')"
   ]
  },
  {
   "cell_type": "code",
   "execution_count": 214,
   "id": "f0d28af1",
   "metadata": {},
   "outputs": [],
   "source": [
    "driver.find_element_by_id('search-icon-legacy').click()"
   ]
  },
  {
   "cell_type": "code",
   "execution_count": 215,
   "id": "3db15c38",
   "metadata": {},
   "outputs": [
    {
     "name": "stdout",
     "output_type": "stream",
     "text": [
      "3866615\n"
     ]
    }
   ],
   "source": [
    "source = driver.page_source\n",
    "print(len(source))"
   ]
  },
  {
   "cell_type": "code",
   "execution_count": 216,
   "id": "14b089ab",
   "metadata": {},
   "outputs": [],
   "source": [
    "soup = bs(source, 'html.parser')"
   ]
  },
  {
   "cell_type": "code",
   "execution_count": 217,
   "id": "bd60ba32",
   "metadata": {},
   "outputs": [],
   "source": [
    "options = webdriver.ChromeOptions()\n",
    "options.add_argument('headless')\n",
    "\n",
    "driver = webdriver.Chrome('C:/Users/학생/0.pjha/chromedriver',options=options)"
   ]
  },
  {
   "cell_type": "code",
   "execution_count": 218,
   "id": "528fcc8d",
   "metadata": {},
   "outputs": [
    {
     "name": "stdout",
     "output_type": "stream",
     "text": [
      "page_down\n",
      "page_down\n",
      "page_down\n",
      "page_down\n",
      "page_down\n",
      "page_down\n",
      "page_down\n",
      "page_down\n",
      "page_down\n",
      "page_down\n",
      "39\n"
     ]
    }
   ],
   "source": [
    "import time\n",
    "body = driver.find_element_by_tag_name('body')\n",
    "for page_down in range(0,10):\n",
    "    body.send_keys(Keys.PAGE_DOWN)\n",
    "    print('page_down')\n",
    "    time.sleep(0.5)\n",
    "    \n",
    "res = driver.page_source\n",
    "print(len(res))"
   ]
  },
  {
   "cell_type": "code",
   "execution_count": null,
   "id": "0c7ce599",
   "metadata": {},
   "outputs": [],
   "source": []
  }
 ],
 "metadata": {
  "kernelspec": {
   "display_name": "Python 3",
   "language": "python",
   "name": "python3"
  },
  "language_info": {
   "codemirror_mode": {
    "name": "ipython",
    "version": 3
   },
   "file_extension": ".py",
   "mimetype": "text/x-python",
   "name": "python",
   "nbconvert_exporter": "python",
   "pygments_lexer": "ipython3",
   "version": "3.8.8"
  }
 },
 "nbformat": 4,
 "nbformat_minor": 5
}
