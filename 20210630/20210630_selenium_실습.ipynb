{
 "cells": [
  {
   "cell_type": "code",
   "execution_count": 1,
   "id": "529932f4",
   "metadata": {},
   "outputs": [],
   "source": [
    "# 화면에서 검색어를 입력받아\n",
    "# selenium으로 키워드 검색\n",
    "# 검색결과를 수집( 단일 영상 타입)\n",
    "# - 채널명, 영상제목, 영상url, 조회수, 영상등록날짜\n",
    "# - 'h3',{'class':'title-and-badge style-scope ytd-video-renderer'}\n",
    "# 검색결과를 수집( 재생목록 타입)\n",
    "# - 'div',{'class':'style-scope ytd-playlist-renderer'}\n",
    "# - 채널명, 재생목록제목, 재생목록url\n",
    "# 데이터 프레임 만들기\n",
    "# - 단일영상타입 데이터 프레임\n",
    "# - 재생목록타입 데이터 프레임"
   ]
  },
  {
   "cell_type": "code",
   "execution_count": 100,
   "id": "6c4a0fe4",
   "metadata": {},
   "outputs": [],
   "source": [
    "from selenium import webdriver as wb\n",
    "from selenium.webdriver.common.keys import Keys\n",
    "from bs4 import BeautifulSoup as bs\n",
    "import requests\n",
    "import urllib.request\n",
    "import pandas as pd"
   ]
  },
  {
   "cell_type": "code",
   "execution_count": 5,
   "id": "2faafee7",
   "metadata": {},
   "outputs": [],
   "source": [
    "driver = wb.Chrome('C:/Users/학생/0.pjha/chromedriver')"
   ]
  },
  {
   "cell_type": "code",
   "execution_count": 6,
   "id": "1a41f71f",
   "metadata": {},
   "outputs": [],
   "source": [
    "driver.get('http://youtube.com')"
   ]
  },
  {
   "cell_type": "code",
   "execution_count": 7,
   "id": "42dcf040",
   "metadata": {},
   "outputs": [],
   "source": [
    "driver.find_element_by_id('search').send_keys('selenium')"
   ]
  },
  {
   "cell_type": "code",
   "execution_count": 8,
   "id": "9a537d6a",
   "metadata": {},
   "outputs": [],
   "source": [
    "driver.find_element_by_id('search-icon-legacy').click()"
   ]
  },
  {
   "cell_type": "code",
   "execution_count": 9,
   "id": "0a529c84",
   "metadata": {},
   "outputs": [],
   "source": [
    "source = driver.page_source"
   ]
  },
  {
   "cell_type": "code",
   "execution_count": 142,
   "id": "31cdd13e",
   "metadata": {},
   "outputs": [],
   "source": [
    "soup = bs(source, 'html.parser')"
   ]
  },
  {
   "cell_type": "code",
   "execution_count": 160,
   "id": "b734c1fd",
   "metadata": {},
   "outputs": [],
   "source": [
    "b = soup.find_all('ytd-item-section-renderer',{'class':'style-scope ytd-section-list-renderer'})"
   ]
  },
  {
   "cell_type": "code",
   "execution_count": 168,
   "id": "2e0ab21f",
   "metadata": {},
   "outputs": [],
   "source": [
    "single_type = soup.find_all('h3',{'class':'title-and-badge style-scope ytd-video-renderer'}) "
   ]
  },
  {
   "cell_type": "code",
   "execution_count": 161,
   "id": "d53c74e5",
   "metadata": {},
   "outputs": [
    {
     "data": {
      "text/plain": [
       "['파이썬 자동화 selenium 사용법 브라우저 매크로 프로그램 만들기',\n",
       " '시자: 프로그래머 김플 스튜디오 1년 전 12분 9초 조회수 35,596회']"
      ]
     },
     "execution_count": 161,
     "metadata": {},
     "output_type": "execute_result"
    }
   ],
   "source": [
    "single_type[0].find('a')['aria-label'].split(' 게')[0]"
   ]
  },
  {
   "cell_type": "code",
   "execution_count": 164,
   "id": "dfdd33d6",
   "metadata": {},
   "outputs": [
    {
     "data": {
      "text/plain": [
       "'/watch?v=ZFmTwbRQ0uc'"
      ]
     },
     "execution_count": 164,
     "metadata": {},
     "output_type": "execute_result"
    }
   ],
   "source": [
    "single_type[0].find('a')['href']"
   ]
  },
  {
   "cell_type": "code",
   "execution_count": 115,
   "id": "d082b7dc",
   "metadata": {},
   "outputs": [
    {
     "data": {
      "text/plain": [
       "19"
      ]
     },
     "execution_count": 115,
     "metadata": {},
     "output_type": "execute_result"
    }
   ],
   "source": [
    "len(single_type)"
   ]
  },
  {
   "cell_type": "code",
   "execution_count": 94,
   "id": "9945c846",
   "metadata": {},
   "outputs": [
    {
     "data": {
      "text/plain": [
       "5"
      ]
     },
     "execution_count": 94,
     "metadata": {},
     "output_type": "execute_result"
    }
   ],
   "source": [
    "list_type = soup.find_all('div',{'class':'style-scope ytd-playlist-renderer'})\n",
    "len(list_type)"
   ]
  },
  {
   "cell_type": "code",
   "execution_count": 99,
   "id": "f409497a",
   "metadata": {},
   "outputs": [],
   "source": [
    "searchlist_list_type_title = []\n",
    "searchlist_list_type_channel = []\n",
    "searchlist_list_type_url = []\n",
    "for i in range(len(list_type)):\n",
    "    searchlist_list_type_title.append(list_type[i].find('span')['title'])\n",
    "    searchlist_list_type_channel.append(list_type[i].find('div',{'id':'tooltip'}).text.replace('\\n','').replace(' ',''))\n",
    "    list_type_url = 'https://www.youtube.com' + list_type[i].find('a')['href']\n",
    "    searchlist_list_type_url.append(list_type_url)"
   ]
  },
  {
   "cell_type": "code",
   "execution_count": 101,
   "id": "36f5bedd",
   "metadata": {},
   "outputs": [
    {
     "data": {
      "text/html": [
       "<div>\n",
       "<style scoped>\n",
       "    .dataframe tbody tr th:only-of-type {\n",
       "        vertical-align: middle;\n",
       "    }\n",
       "\n",
       "    .dataframe tbody tr th {\n",
       "        vertical-align: top;\n",
       "    }\n",
       "\n",
       "    .dataframe thead th {\n",
       "        text-align: right;\n",
       "    }\n",
       "</style>\n",
       "<table border=\"1\" class=\"dataframe\">\n",
       "  <thead>\n",
       "    <tr style=\"text-align: right;\">\n",
       "      <th></th>\n",
       "      <th>리스트제목</th>\n",
       "      <th>채널명</th>\n",
       "      <th>url</th>\n",
       "    </tr>\n",
       "  </thead>\n",
       "  <tbody>\n",
       "    <tr>\n",
       "      <th>0</th>\n",
       "      <td>Python Selenium Tutorials</td>\n",
       "      <td>TechWithTim</td>\n",
       "      <td>https://www.youtube.com/watch?v=Xjv1sY630Uc&amp;li...</td>\n",
       "    </tr>\n",
       "    <tr>\n",
       "      <th>1</th>\n",
       "      <td>파이썬 selenium(셀레니움) 강의</td>\n",
       "      <td>프로그래머김플스튜디오</td>\n",
       "      <td>https://www.youtube.com/watch?v=j_BW5vNrcxA&amp;li...</td>\n",
       "    </tr>\n",
       "    <tr>\n",
       "      <th>2</th>\n",
       "      <td>Python+Selenium入门教学</td>\n",
       "      <td>Inty</td>\n",
       "      <td>https://www.youtube.com/watch?v=o6yzNaRAzW8&amp;li...</td>\n",
       "    </tr>\n",
       "    <tr>\n",
       "      <th>3</th>\n",
       "      <td>Selenium with Python</td>\n",
       "      <td>SDET-QAAutomationTechie</td>\n",
       "      <td>https://www.youtube.com/watch?v=IYILCEV5j6s&amp;li...</td>\n",
       "    </tr>\n",
       "    <tr>\n",
       "      <th>4</th>\n",
       "      <td>SELENIUM WEBDRIVER TUTORIAL - Learn Selenium A...</td>\n",
       "      <td>SoftwareTestingMentor</td>\n",
       "      <td>https://www.youtube.com/watch?v=25U-KUpWd1c&amp;li...</td>\n",
       "    </tr>\n",
       "  </tbody>\n",
       "</table>\n",
       "</div>"
      ],
      "text/plain": [
       "                                               리스트제목                      채널명  \\\n",
       "0                          Python Selenium Tutorials              TechWithTim   \n",
       "1                              파이썬 selenium(셀레니움) 강의              프로그래머김플스튜디오   \n",
       "2                                Python+Selenium入门教学                     Inty   \n",
       "3                               Selenium with Python  SDET-QAAutomationTechie   \n",
       "4  SELENIUM WEBDRIVER TUTORIAL - Learn Selenium A...    SoftwareTestingMentor   \n",
       "\n",
       "                                                 url  \n",
       "0  https://www.youtube.com/watch?v=Xjv1sY630Uc&li...  \n",
       "1  https://www.youtube.com/watch?v=j_BW5vNrcxA&li...  \n",
       "2  https://www.youtube.com/watch?v=o6yzNaRAzW8&li...  \n",
       "3  https://www.youtube.com/watch?v=IYILCEV5j6s&li...  \n",
       "4  https://www.youtube.com/watch?v=25U-KUpWd1c&li...  "
      ]
     },
     "execution_count": 101,
     "metadata": {},
     "output_type": "execute_result"
    }
   ],
   "source": [
    "list_df = pd.DataFrame(list(zip(searchlist_list_type_title,searchlist_list_type_channel,\n",
    "                               searchlist_list_type_url)),columns=['리스트제목',\n",
    "                                                                  '채널명','url'])\n",
    "list_df"
   ]
  },
  {
   "cell_type": "code",
   "execution_count": 167,
   "id": "d5770faa",
   "metadata": {},
   "outputs": [
    {
     "data": {
      "text/html": [
       "<div>\n",
       "<style scoped>\n",
       "    .dataframe tbody tr th:only-of-type {\n",
       "        vertical-align: middle;\n",
       "    }\n",
       "\n",
       "    .dataframe tbody tr th {\n",
       "        vertical-align: top;\n",
       "    }\n",
       "\n",
       "    .dataframe thead th {\n",
       "        text-align: right;\n",
       "    }\n",
       "</style>\n",
       "<table border=\"1\" class=\"dataframe\">\n",
       "  <thead>\n",
       "    <tr style=\"text-align: right;\">\n",
       "      <th></th>\n",
       "      <th>제목</th>\n",
       "      <th>채널</th>\n",
       "      <th>url</th>\n",
       "      <th>날짜</th>\n",
       "      <th>조회수</th>\n",
       "    </tr>\n",
       "  </thead>\n",
       "  <tbody>\n",
       "    <tr>\n",
       "      <th>0</th>\n",
       "      <td>파이썬 자동화 selenium 사용법 브라우저 매크로 프로그램 만들기</td>\n",
       "      <td>프로그래머 김플 스튜디오</td>\n",
       "      <td>https://www.youtube.com/watch?v=ZFmTwbRQ0uc</td>\n",
       "      <td>1년 전</td>\n",
       "      <td>조회수 3.5만회</td>\n",
       "    </tr>\n",
       "    <tr>\n",
       "      <th>1</th>\n",
       "      <td>Selenium 기초 끝내기 - 셀레니움과 웹 드라이버 설치부터 웹사이트 스크래핑 ...</td>\n",
       "      <td>이수안컴퓨터연구소</td>\n",
       "      <td>https://www.youtube.com/watch?v=dDEESB4Iw8g</td>\n",
       "      <td>10개월 전</td>\n",
       "      <td>조회수 2.7천회</td>\n",
       "    </tr>\n",
       "    <tr>\n",
       "      <th>2</th>\n",
       "      <td>떠오르는 영양제 셀레늄! 과연 내 몸에 득일까 독일까?</td>\n",
       "      <td>내과전문의 닥터케이 Dr.K</td>\n",
       "      <td>https://www.youtube.com/watch?v=1i96FPkqREk</td>\n",
       "      <td>4개월 전</td>\n",
       "      <td>조회수 4.4천회</td>\n",
       "    </tr>\n",
       "    <tr>\n",
       "      <th>3</th>\n",
       "      <td>[파이썬 매크로 만들기] 6. Selenium으로 홈페이지 맘대로 주무르기</td>\n",
       "      <td>초보코딩</td>\n",
       "      <td>https://www.youtube.com/watch?v=_gkhgS33QIc</td>\n",
       "      <td>1년 전</td>\n",
       "      <td>조회수 6.4천회</td>\n",
       "    </tr>\n",
       "    <tr>\n",
       "      <th>4</th>\n",
       "      <td>Selenium - 동적페이지 크롤링 (동적vs정적 페이지)</td>\n",
       "      <td>생각하는코딩</td>\n",
       "      <td>https://www.youtube.com/watch?v=9H9aTzj00lg</td>\n",
       "      <td>1년 전</td>\n",
       "      <td>조회수 1.4천회</td>\n",
       "    </tr>\n",
       "    <tr>\n",
       "      <th>5</th>\n",
       "      <td>웹크롤링의 여정 - 5 Selenium</td>\n",
       "      <td>박성준</td>\n",
       "      <td>https://www.youtube.com/watch?v=i3zXATaxBHc</td>\n",
       "      <td>1년 전</td>\n",
       "      <td>조회수 4천회</td>\n",
       "    </tr>\n",
       "    <tr>\n",
       "      <th>6</th>\n",
       "      <td>Python Selenium 튜토리얼 # 1-웹 스크랩 핑, 봇 및 테스트</td>\n",
       "      <td>Tech With Tim</td>\n",
       "      <td>https://www.youtube.com/watch?v=Xjv1sY630Uc&amp;pp...</td>\n",
       "      <td>1년 전</td>\n",
       "      <td>조회수 53만회</td>\n",
       "    </tr>\n",
       "    <tr>\n",
       "      <th>7</th>\n",
       "      <td>Selenium Full Course - Learn Selenium in 12 Ho...</td>\n",
       "      <td>edureka!</td>\n",
       "      <td>https://www.youtube.com/watch?v=FRn5J31eAMw</td>\n",
       "      <td>1년 전</td>\n",
       "      <td>조회수 49만회</td>\n",
       "    </tr>\n",
       "    <tr>\n",
       "      <th>8</th>\n",
       "      <td>고급 Python 프로그래밍 : Selenium을 사용한 브라우저 자동화</td>\n",
       "      <td>TheCodex</td>\n",
       "      <td>https://www.youtube.com/watch?v=GJjMjB3rkJM&amp;pp...</td>\n",
       "      <td>3년 전</td>\n",
       "      <td>조회수 31만회</td>\n",
       "    </tr>\n",
       "    <tr>\n",
       "      <th>9</th>\n",
       "      <td>파이썬 코딩 무료 강의 (기본편) - 6시간 뒤면 여러분도 개발자가 될 수 있어요 ...</td>\n",
       "      <td>나도코딩</td>\n",
       "      <td>https://www.youtube.com/watch?v=kWiCuklohdY</td>\n",
       "      <td>1년 전</td>\n",
       "      <td>조회수 189만회</td>\n",
       "    </tr>\n",
       "    <tr>\n",
       "      <th>10</th>\n",
       "      <td>파이썬(Python) 배우기 - 초심자를 위한 기초강의모음</td>\n",
       "      <td>freeCodeCamp.org</td>\n",
       "      <td>https://www.youtube.com/watch?v=rfscVS0vtbw</td>\n",
       "      <td>2년 전</td>\n",
       "      <td>조회수 2505만회</td>\n",
       "    </tr>\n",
       "    <tr>\n",
       "      <th>11</th>\n",
       "      <td>마그네슘, 칼슘, 아연, 크롬, 셀레늄? 이거 하나만 드시면 됩니다 (비타민K2, ...</td>\n",
       "      <td>약사가 들려주는 약 이야기</td>\n",
       "      <td>https://www.youtube.com/watch?v=kePYsBUc7og</td>\n",
       "      <td>1개월 전</td>\n",
       "      <td>조회수 23만회</td>\n",
       "    </tr>\n",
       "    <tr>\n",
       "      <th>12</th>\n",
       "      <td>코딩 1시간만에 배우기 - 파이썬 (ft. 실리콘밸리 엔지니어)</td>\n",
       "      <td>Teccboi Wonie</td>\n",
       "      <td>https://www.youtube.com/watch?v=M6kQTpIqpLs</td>\n",
       "      <td>1년 전</td>\n",
       "      <td>조회수 67만회</td>\n",
       "    </tr>\n",
       "    <tr>\n",
       "      <th>13</th>\n",
       "      <td>셀레늄이란? 초보자를위한 튜토리얼</td>\n",
       "      <td>Guru99</td>\n",
       "      <td>https://www.youtube.com/watch?v=BL4-_tVx2rE&amp;pp...</td>\n",
       "      <td>6년 전</td>\n",
       "      <td>조회수 25만회</td>\n",
       "    </tr>\n",
       "    <tr>\n",
       "      <th>14</th>\n",
       "      <td>Selenium IDE Demo A tutorial for beginners</td>\n",
       "      <td>Martin O'Connor</td>\n",
       "      <td>https://www.youtube.com/watch?v=ZG3VFDMaAlk</td>\n",
       "      <td>2년 전</td>\n",
       "      <td>조회수 5.8만회</td>\n",
       "    </tr>\n",
       "    <tr>\n",
       "      <th>15</th>\n",
       "      <td>[파이썬 매크로 만들기] 7. Selenium으로 KTX 취소표를 사보자</td>\n",
       "      <td>초보코딩</td>\n",
       "      <td>https://www.youtube.com/watch?v=_0JGnYS2StE</td>\n",
       "      <td>1년 전</td>\n",
       "      <td>조회수 5.7천회</td>\n",
       "    </tr>\n",
       "    <tr>\n",
       "      <th>16</th>\n",
       "      <td>셀레늄-주기율표 비디오</td>\n",
       "      <td>Periodic Videos</td>\n",
       "      <td>https://www.youtube.com/watch?v=IHrUtKjcAFE&amp;pp...</td>\n",
       "      <td>12년 전</td>\n",
       "      <td>조회수 27만회</td>\n",
       "    </tr>\n",
       "    <tr>\n",
       "      <th>17</th>\n",
       "      <td>12 Amazing Benefits of Selenium</td>\n",
       "      <td>Dr. Eric Berg DC</td>\n",
       "      <td>https://www.youtube.com/watch?v=BR2VC6d53D4</td>\n",
       "      <td>1년 전</td>\n",
       "      <td>조회수 8.3만회</td>\n",
       "    </tr>\n",
       "    <tr>\n",
       "      <th>18</th>\n",
       "      <td>파이썬 셀레니움 웹드라이버(selenium webdriver) 시간 대기 방법 Im...</td>\n",
       "      <td>프로그래머 김플 스튜디오</td>\n",
       "      <td>https://www.youtube.com/watch?v=ItvnZHG_AJk</td>\n",
       "      <td>1년 전</td>\n",
       "      <td>조회수 4.5천회</td>\n",
       "    </tr>\n",
       "  </tbody>\n",
       "</table>\n",
       "</div>"
      ],
      "text/plain": [
       "                                                   제목                채널  \\\n",
       "0              파이썬 자동화 selenium 사용법 브라우저 매크로 프로그램 만들기     프로그래머 김플 스튜디오   \n",
       "1   Selenium 기초 끝내기 - 셀레니움과 웹 드라이버 설치부터 웹사이트 스크래핑 ...         이수안컴퓨터연구소   \n",
       "2                      떠오르는 영양제 셀레늄! 과연 내 몸에 득일까 독일까?   내과전문의 닥터케이 Dr.K   \n",
       "3           [파이썬 매크로 만들기] 6. Selenium으로 홈페이지 맘대로 주무르기              초보코딩   \n",
       "4                   Selenium - 동적페이지 크롤링 (동적vs정적 페이지)            생각하는코딩   \n",
       "5                               웹크롤링의 여정 - 5 Selenium               박성준   \n",
       "6           Python Selenium 튜토리얼 # 1-웹 스크랩 핑, 봇 및 테스트     Tech With Tim   \n",
       "7   Selenium Full Course - Learn Selenium in 12 Ho...          edureka!   \n",
       "8            고급 Python 프로그래밍 : Selenium을 사용한 브라우저 자동화          TheCodex   \n",
       "9   파이썬 코딩 무료 강의 (기본편) - 6시간 뒤면 여러분도 개발자가 될 수 있어요 ...              나도코딩   \n",
       "10                   파이썬(Python) 배우기 - 초심자를 위한 기초강의모음  freeCodeCamp.org   \n",
       "11  마그네슘, 칼슘, 아연, 크롬, 셀레늄? 이거 하나만 드시면 됩니다 (비타민K2, ...    약사가 들려주는 약 이야기   \n",
       "12                코딩 1시간만에 배우기 - 파이썬 (ft. 실리콘밸리 엔지니어)     Teccboi Wonie   \n",
       "13                                 셀레늄이란? 초보자를위한 튜토리얼            Guru99   \n",
       "14         Selenium IDE Demo A tutorial for beginners   Martin O'Connor   \n",
       "15           [파이썬 매크로 만들기] 7. Selenium으로 KTX 취소표를 사보자              초보코딩   \n",
       "16                                       셀레늄-주기율표 비디오   Periodic Videos   \n",
       "17                    12 Amazing Benefits of Selenium  Dr. Eric Berg DC   \n",
       "18  파이썬 셀레니움 웹드라이버(selenium webdriver) 시간 대기 방법 Im...     프로그래머 김플 스튜디오   \n",
       "\n",
       "                                                  url      날짜         조회수  \n",
       "0         https://www.youtube.com/watch?v=ZFmTwbRQ0uc    1년 전   조회수 3.5만회  \n",
       "1         https://www.youtube.com/watch?v=dDEESB4Iw8g  10개월 전   조회수 2.7천회  \n",
       "2         https://www.youtube.com/watch?v=1i96FPkqREk   4개월 전   조회수 4.4천회  \n",
       "3         https://www.youtube.com/watch?v=_gkhgS33QIc    1년 전   조회수 6.4천회  \n",
       "4         https://www.youtube.com/watch?v=9H9aTzj00lg    1년 전   조회수 1.4천회  \n",
       "5         https://www.youtube.com/watch?v=i3zXATaxBHc    1년 전     조회수 4천회  \n",
       "6   https://www.youtube.com/watch?v=Xjv1sY630Uc&pp...    1년 전    조회수 53만회  \n",
       "7         https://www.youtube.com/watch?v=FRn5J31eAMw    1년 전    조회수 49만회  \n",
       "8   https://www.youtube.com/watch?v=GJjMjB3rkJM&pp...    3년 전    조회수 31만회  \n",
       "9         https://www.youtube.com/watch?v=kWiCuklohdY    1년 전   조회수 189만회  \n",
       "10        https://www.youtube.com/watch?v=rfscVS0vtbw    2년 전  조회수 2505만회  \n",
       "11        https://www.youtube.com/watch?v=kePYsBUc7og   1개월 전    조회수 23만회  \n",
       "12        https://www.youtube.com/watch?v=M6kQTpIqpLs    1년 전    조회수 67만회  \n",
       "13  https://www.youtube.com/watch?v=BL4-_tVx2rE&pp...    6년 전    조회수 25만회  \n",
       "14        https://www.youtube.com/watch?v=ZG3VFDMaAlk    2년 전   조회수 5.8만회  \n",
       "15        https://www.youtube.com/watch?v=_0JGnYS2StE    1년 전   조회수 5.7천회  \n",
       "16  https://www.youtube.com/watch?v=IHrUtKjcAFE&pp...   12년 전    조회수 27만회  \n",
       "17        https://www.youtube.com/watch?v=BR2VC6d53D4    1년 전   조회수 8.3만회  \n",
       "18        https://www.youtube.com/watch?v=ItvnZHG_AJk    1년 전   조회수 4.5천회  "
      ]
     },
     "execution_count": 167,
     "metadata": {},
     "output_type": "execute_result"
    }
   ],
   "source": [
    "searchlist_single_type_channel = []\n",
    "searchlist_single_type_title = []\n",
    "searchlist_single_type_date = []\n",
    "searchlist_single_type_clicks = []\n",
    "searchlist_single_type_url = []\n",
    "for i in range(len(single_type)):\n",
    "    searchlist_single_type_channel.append(soup.find_all('div',{'id':'channel-info'})[i].find('a',{'class':'yt-simple-endpoint style-scope yt-formatted-string'}).text)\n",
    "    searchlist_single_type_title.append(single_type[i].find('a')['aria-label'].split(' 게')[0])\n",
    "    url = 'https://www.youtube.com'+single_type[i].find('a')['href']\n",
    "    searchlist_single_type_url.append(url)\n",
    "for i in range(0,38):\n",
    "    if i%2 == 1:\n",
    "        searchlist_single_type_date.append(b[1].find_all('span',{'class':'style-scope ytd-video-meta-block'})[i].text)\n",
    "    else:\n",
    "        searchlist_single_type_clicks.append(b[1].find_all('span',{'class':'style-scope ytd-video-meta-block'})[i].text)\n",
    "\n",
    "single_df = pd.DataFrame(list(zip(searchlist_single_type_title,searchlist_single_type_channel,\n",
    "                                searchlist_single_type_url,searchlist_single_type_date,searchlist_single_type_clicks)),\n",
    "                             columns=['제목','채널','url','날짜','조회수'])\n",
    "single_df"
   ]
  },
  {
   "cell_type": "code",
   "execution_count": null,
   "id": "137dc96c",
   "metadata": {},
   "outputs": [],
   "source": []
  }
 ],
 "metadata": {
  "kernelspec": {
   "display_name": "Python 3",
   "language": "python",
   "name": "python3"
  },
  "language_info": {
   "codemirror_mode": {
    "name": "ipython",
    "version": 3
   },
   "file_extension": ".py",
   "mimetype": "text/x-python",
   "name": "python",
   "nbconvert_exporter": "python",
   "pygments_lexer": "ipython3",
   "version": "3.8.8"
  }
 },
 "nbformat": 4,
 "nbformat_minor": 5
}
