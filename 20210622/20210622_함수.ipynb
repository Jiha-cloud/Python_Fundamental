{
 "cells": [
  {
   "cell_type": "code",
   "execution_count": 1,
   "id": "9f3d1277",
   "metadata": {},
   "outputs": [
    {
     "name": "stdout",
     "output_type": "stream",
     "text": [
      "18\n",
      "res =  18\n"
     ]
    }
   ],
   "source": [
    "def fun(a,b):\n",
    "    c = a*b\n",
    "    print(c)\n",
    "    return c\n",
    "\n",
    "res = fun(3,6)\n",
    "print('res = ',res)"
   ]
  },
  {
   "cell_type": "code",
   "execution_count": 2,
   "id": "0b96e6a6",
   "metadata": {},
   "outputs": [
    {
     "name": "stdout",
     "output_type": "stream",
     "text": [
      "18\n",
      "res =  18\n"
     ]
    }
   ],
   "source": [
    "res = fun(3,6)\n",
    "print('res = ',res)"
   ]
  },
  {
   "cell_type": "code",
   "execution_count": 3,
   "id": "0542f91f",
   "metadata": {},
   "outputs": [],
   "source": [
    "def gracias():\n",
    "    print('Gracias')"
   ]
  },
  {
   "cell_type": "code",
   "execution_count": 4,
   "id": "c8937629",
   "metadata": {},
   "outputs": [
    {
     "name": "stdout",
     "output_type": "stream",
     "text": [
      "Gracias\n"
     ]
    }
   ],
   "source": [
    "gracias()"
   ]
  },
  {
   "cell_type": "code",
   "execution_count": 9,
   "id": "7529f260",
   "metadata": {},
   "outputs": [],
   "source": [
    "def sum_many(*args): # 입력값이 몇개인지 모를때\n",
    "    print(\"args = \", args)\n",
    "    total = 0\n",
    "    for i in args:\n",
    "        print('i = ', i)\n",
    "        total += i\n",
    "    return total"
   ]
  },
  {
   "cell_type": "code",
   "execution_count": 10,
   "id": "0795a63b",
   "metadata": {},
   "outputs": [
    {
     "name": "stdout",
     "output_type": "stream",
     "text": [
      "args =  (1, 2, 3, 4, 5)\n",
      "i =  1\n",
      "i =  2\n",
      "i =  3\n",
      "i =  4\n",
      "i =  5\n"
     ]
    },
    {
     "data": {
      "text/plain": [
       "15"
      ]
     },
     "execution_count": 10,
     "metadata": {},
     "output_type": "execute_result"
    }
   ],
   "source": [
    "sum_many(1,2,3,4,5)"
   ]
  },
  {
   "cell_type": "code",
   "execution_count": 17,
   "id": "790d955f",
   "metadata": {},
   "outputs": [],
   "source": [
    "# 변수명과 값을 (key,value)를 한꺼번에 받아서 처리\n",
    "\n",
    "def name(**kwargs):\n",
    "    print('kw = ',kwargs)\n",
    "    for u in kwargs.items():\n",
    "        print(u)\n",
    "    return"
   ]
  },
  {
   "cell_type": "code",
   "execution_count": 18,
   "id": "00729800",
   "metadata": {},
   "outputs": [
    {
     "name": "stdout",
     "output_type": "stream",
     "text": [
      "kw =  {'age': '33', 'name': 'jiha'}\n",
      "('age', '33')\n",
      "('name', 'jiha')\n"
     ]
    }
   ],
   "source": [
    "name(age = '33', name='jiha')"
   ]
  },
  {
   "cell_type": "code",
   "execution_count": 19,
   "id": "2b467457",
   "metadata": {},
   "outputs": [],
   "source": [
    "def std_arg(arg):\n",
    "    print('std_arg = ',arg)\n",
    "def pos_only_arg(arg,/):\n",
    "    print('pos_only_arg = ',arg)\n",
    "def kwd_only_arg(*, arg):\n",
    "    print('kwd_only_arg = ',arg)\n",
    "def combined_example(pos_only, /, standard, *, kwd_only):\n",
    "    print(pos_only, standard, kwd_only)"
   ]
  },
  {
   "cell_type": "code",
   "execution_count": null,
   "id": "963f53ed",
   "metadata": {},
   "outputs": [],
   "source": [
    "std_arg(10)\n",
    "pos_only_arg(10)\n",
    "kwd_only_arg(10,100)"
   ]
  }
 ],
 "metadata": {
  "kernelspec": {
   "display_name": "Python 3",
   "language": "python",
   "name": "python3"
  },
  "language_info": {
   "codemirror_mode": {
    "name": "ipython",
    "version": 3
   },
   "file_extension": ".py",
   "mimetype": "text/x-python",
   "name": "python",
   "nbconvert_exporter": "python",
   "pygments_lexer": "ipython3",
   "version": "3.8.8"
  }
 },
 "nbformat": 4,
 "nbformat_minor": 5
}
