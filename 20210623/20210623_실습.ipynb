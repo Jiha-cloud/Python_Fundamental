{
 "cells": [
  {
   "cell_type": "code",
   "execution_count": 5,
   "id": "6ceb55ac",
   "metadata": {},
   "outputs": [
    {
     "name": "stdout",
     "output_type": "stream",
     "text": [
      "섭씨 온도를 입력하세요 => 25.0\n",
      "화씨 온도는 =>  77.0\n"
     ]
    }
   ],
   "source": [
    "fahr = float(input(\"섭씨 온도를 입력하세요 => \"))\n",
    "celcius = 0.0\n",
    "\n",
    "def conv_fahr(fahr):\n",
    "    celcius = ((9/5)*fahr)+32\n",
    "    return celcius\n",
    "\n",
    "print(\"화씨 온도는 => \",conv_fahr(fahr))"
   ]
  },
  {
   "cell_type": "code",
   "execution_count": 14,
   "id": "eef009e8",
   "metadata": {},
   "outputs": [
    {
     "name": "stdout",
     "output_type": "stream",
     "text": [
      "섭씨 온도들을 입력 (쉼표입력해) => 20,30,4\n",
      "[68.0, 86.0, 39.2]\n"
     ]
    }
   ],
   "source": [
    "fahr = list(input(\"섭씨 온도들을 입력 (쉼표입력해) => \").split(','))\n",
    "celcius = []\n",
    "\n",
    "def conv_fahr(fahr):\n",
    "    for i in fahr:\n",
    "        celcius.append(((9/5)*float(i))+32)\n",
    "    return celcius\n",
    "\n",
    "print(conv_fahr(fahr))"
   ]
  },
  {
   "cell_type": "code",
   "execution_count": 23,
   "id": "89879187",
   "metadata": {},
   "outputs": [
    {
     "name": "stdout",
     "output_type": "stream",
     "text": [
      "숫자 받아라 0\n",
      "0\n"
     ]
    }
   ],
   "source": [
    "num=0\n",
    "number=0\n",
    "while True:\n",
    "    number = input(\"숫자 받아라 \")\n",
    "    print(number)\n",
    "    num+=1\n",
    "    if (number == '0') | (num == 5):\n",
    "        break"
   ]
  },
  {
   "cell_type": "code",
   "execution_count": null,
   "id": "9d8b68ae",
   "metadata": {},
   "outputs": [],
   "source": []
  }
 ],
 "metadata": {
  "kernelspec": {
   "display_name": "Python 3",
   "language": "python",
   "name": "python3"
  },
  "language_info": {
   "codemirror_mode": {
    "name": "ipython",
    "version": 3
   },
   "file_extension": ".py",
   "mimetype": "text/x-python",
   "name": "python",
   "nbconvert_exporter": "python",
   "pygments_lexer": "ipython3",
   "version": "3.8.8"
  }
 },
 "nbformat": 4,
 "nbformat_minor": 5
}
