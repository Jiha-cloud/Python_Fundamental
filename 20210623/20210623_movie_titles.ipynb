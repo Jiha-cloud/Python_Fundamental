{
 "cells": [
  {
   "cell_type": "code",
   "execution_count": 5,
   "id": "92869a51",
   "metadata": {},
   "outputs": [],
   "source": [
    "import pandas as pd\n",
    "import numpy as np"
   ]
  },
  {
   "cell_type": "code",
   "execution_count": 6,
   "id": "a8f76a70",
   "metadata": {},
   "outputs": [
    {
     "data": {
      "text/html": [
       "<div>\n",
       "<style scoped>\n",
       "    .dataframe tbody tr th:only-of-type {\n",
       "        vertical-align: middle;\n",
       "    }\n",
       "\n",
       "    .dataframe tbody tr th {\n",
       "        vertical-align: top;\n",
       "    }\n",
       "\n",
       "    .dataframe thead th {\n",
       "        text-align: right;\n",
       "    }\n",
       "</style>\n",
       "<table border=\"1\" class=\"dataframe\">\n",
       "  <thead>\n",
       "    <tr style=\"text-align: right;\">\n",
       "      <th></th>\n",
       "      <th>title</th>\n",
       "      <th>year</th>\n",
       "    </tr>\n",
       "  </thead>\n",
       "  <tbody>\n",
       "    <tr>\n",
       "      <th>0</th>\n",
       "      <td>The Rising Son</td>\n",
       "      <td>1990</td>\n",
       "    </tr>\n",
       "    <tr>\n",
       "      <th>1</th>\n",
       "      <td>Ashes of Kukulcan</td>\n",
       "      <td>2016</td>\n",
       "    </tr>\n",
       "    <tr>\n",
       "      <th>2</th>\n",
       "      <td>The Thousand Plane Raid</td>\n",
       "      <td>1969</td>\n",
       "    </tr>\n",
       "    <tr>\n",
       "      <th>3</th>\n",
       "      <td>Crucea de piatra</td>\n",
       "      <td>1993</td>\n",
       "    </tr>\n",
       "    <tr>\n",
       "      <th>4</th>\n",
       "      <td>The 86</td>\n",
       "      <td>2015</td>\n",
       "    </tr>\n",
       "  </tbody>\n",
       "</table>\n",
       "</div>"
      ],
      "text/plain": [
       "                     title  year\n",
       "0           The Rising Son  1990\n",
       "1        Ashes of Kukulcan  2016\n",
       "2  The Thousand Plane Raid  1969\n",
       "3         Crucea de piatra  1993\n",
       "4                   The 86  2015"
      ]
     },
     "execution_count": 6,
     "metadata": {},
     "output_type": "execute_result"
    }
   ],
   "source": [
    "titles = pd.read_csv('C:/Users/학생/Downloads/movies_title.csv',sep=',')\n",
    "titles.head()"
   ]
  },
  {
   "cell_type": "code",
   "execution_count": 7,
   "id": "56833709",
   "metadata": {},
   "outputs": [
    {
     "name": "stdout",
     "output_type": "stream",
     "text": [
      "전체 영화는 215981개 입니다.\n"
     ]
    }
   ],
   "source": [
    "# 4. 전체 영화는 몇개인가? \n",
    "total_num = titles['title'].count()\n",
    "print('전체 영화는 {}개 입니다.'.format(total_num))"
   ]
  },
  {
   "cell_type": "code",
   "execution_count": 8,
   "id": "0691cc2a",
   "metadata": {},
   "outputs": [
    {
     "name": "stdout",
     "output_type": "stream",
     "text": [
      "<class 'pandas.core.frame.DataFrame'>\n",
      "RangeIndex: 215981 entries, 0 to 215980\n",
      "Data columns (total 2 columns):\n",
      " #   Column  Non-Null Count   Dtype \n",
      "---  ------  --------------   ----- \n",
      " 0   title   215981 non-null  object\n",
      " 1   year    215981 non-null  int64 \n",
      "dtypes: int64(1), object(1)\n",
      "memory usage: 3.3+ MB\n"
     ]
    },
    {
     "data": {
      "text/plain": [
       "title    0\n",
       "year     0\n",
       "dtype: int64"
      ]
     },
     "execution_count": 8,
     "metadata": {},
     "output_type": "execute_result"
    }
   ],
   "source": [
    "titles.info()\n",
    "titles.isnull().sum()"
   ]
  },
  {
   "cell_type": "code",
   "execution_count": 9,
   "id": "0bb9118b",
   "metadata": {},
   "outputs": [
    {
     "name": "stdout",
     "output_type": "stream",
     "text": [
      "가장 빠른 시기에 제작된 영화 두개는 Miss Jerry와 Reproduction of the Corbett and Fitzsimmons Fight입니다\n"
     ]
    }
   ],
   "source": [
    "old_movies = []\n",
    "old_movies.append(titles.sort_values(by='year',ascending=True).iloc[0,0])\n",
    "old_movies.append(titles.sort_values(by='year',ascending=True).iloc[1,0])\n",
    "print('가장 빠른 시기에 제작된 영화 두개는 {}와 {}입니다'.format(old_movies[0],old_movies[1]))"
   ]
  },
  {
   "cell_type": "code",
   "execution_count": 47,
   "id": "17702917",
   "metadata": {},
   "outputs": [
    {
     "name": "stdout",
     "output_type": "stream",
     "text": [
      "제목이 Hamlet인 영화의 개수는 19개입니다.\n"
     ]
    }
   ],
   "source": [
    "movies_of_Hamlet = len(titles.loc[titles.title == 'Hamlet'])\n",
    "print('제목이 Hamlet인 영화의 개수는 {}개입니다.'.format(movies_of_Hamlet))"
   ]
  },
  {
   "cell_type": "code",
   "execution_count": 48,
   "id": "d4950561",
   "metadata": {},
   "outputs": [
    {
     "name": "stdout",
     "output_type": "stream",
     "text": [
      "제목이 Treasure Island인 영화의 개수는 8개입니다.\n"
     ]
    },
    {
     "data": {
      "text/html": [
       "<div>\n",
       "<style scoped>\n",
       "    .dataframe tbody tr th:only-of-type {\n",
       "        vertical-align: middle;\n",
       "    }\n",
       "\n",
       "    .dataframe tbody tr th {\n",
       "        vertical-align: top;\n",
       "    }\n",
       "\n",
       "    .dataframe thead th {\n",
       "        text-align: right;\n",
       "    }\n",
       "</style>\n",
       "<table border=\"1\" class=\"dataframe\">\n",
       "  <thead>\n",
       "    <tr style=\"text-align: right;\">\n",
       "      <th></th>\n",
       "      <th>title</th>\n",
       "      <th>year</th>\n",
       "    </tr>\n",
       "  </thead>\n",
       "  <tbody>\n",
       "    <tr>\n",
       "      <th>191379</th>\n",
       "      <td>Treasure Island</td>\n",
       "      <td>1918</td>\n",
       "    </tr>\n",
       "    <tr>\n",
       "      <th>47769</th>\n",
       "      <td>Treasure Island</td>\n",
       "      <td>1920</td>\n",
       "    </tr>\n",
       "    <tr>\n",
       "      <th>192917</th>\n",
       "      <td>Treasure Island</td>\n",
       "      <td>1934</td>\n",
       "    </tr>\n",
       "    <tr>\n",
       "      <th>90175</th>\n",
       "      <td>Treasure Island</td>\n",
       "      <td>1950</td>\n",
       "    </tr>\n",
       "    <tr>\n",
       "      <th>104714</th>\n",
       "      <td>Treasure Island</td>\n",
       "      <td>1972</td>\n",
       "    </tr>\n",
       "    <tr>\n",
       "      <th>103646</th>\n",
       "      <td>Treasure Island</td>\n",
       "      <td>1973</td>\n",
       "    </tr>\n",
       "    <tr>\n",
       "      <th>190792</th>\n",
       "      <td>Treasure Island</td>\n",
       "      <td>1985</td>\n",
       "    </tr>\n",
       "    <tr>\n",
       "      <th>166675</th>\n",
       "      <td>Treasure Island</td>\n",
       "      <td>1999</td>\n",
       "    </tr>\n",
       "  </tbody>\n",
       "</table>\n",
       "</div>"
      ],
      "text/plain": [
       "                  title  year\n",
       "191379  Treasure Island  1918\n",
       "47769   Treasure Island  1920\n",
       "192917  Treasure Island  1934\n",
       "90175   Treasure Island  1950\n",
       "104714  Treasure Island  1972\n",
       "103646  Treasure Island  1973\n",
       "190792  Treasure Island  1985\n",
       "166675  Treasure Island  1999"
      ]
     },
     "execution_count": 48,
     "metadata": {},
     "output_type": "execute_result"
    }
   ],
   "source": [
    "movies_of_Treasure_Island = len(titles.loc[titles.title == 'Treasure Island'].sort_values(by='year',ascending=True))\n",
    "print('제목이 Treasure Island인 영화의 개수는 {}개입니다.'.format(movies_of_Treasure_Island))\n",
    "titles.loc[titles.title == 'Treasure Island'].sort_values(by='year',ascending=True)"
   ]
  },
  {
   "cell_type": "code",
   "execution_count": 49,
   "id": "eea7fb8c",
   "metadata": {},
   "outputs": [
    {
     "name": "stdout",
     "output_type": "stream",
     "text": [
      "1950년에서 1959년사이에 만들어진 영화는 12120개입니다.\n"
     ]
    }
   ],
   "source": [
    "movies_num = len(titles.loc[(titles.year<=1959)&(titles.year>=1950)])\n",
    "print('1950년에서 1959년사이에 만들어진 영화는 {}개입니다.'.format(movies_num))"
   ]
  },
  {
   "cell_type": "code",
   "execution_count": 34,
   "id": "f85c92f1",
   "metadata": {},
   "outputs": [
    {
     "name": "stdout",
     "output_type": "stream",
     "text": [
      "년도별 영화를 가장 많이 제작한 해 중 1위는 2015\n",
      "년도별 영화를 가장 많이 제작한 해 중 2위는 2014\n",
      "년도별 영화를 가장 많이 제작한 해 중 3위는 2013\n",
      "년도별 영화를 가장 많이 제작한 해 중 4위는 2012\n",
      "년도별 영화를 가장 많이 제작한 해 중 5위는 2011\n"
     ]
    }
   ],
   "source": [
    "movies_year = titles.groupby('year').count().sort_values(by = 'title', ascending=False)\n",
    "for i in range(5):\n",
    "    print(\"년도별 영화를 가장 많이 제작한 해 중 {}위는 {}\".format(i+1,movies_year.index[i]))"
   ]
  },
  {
   "cell_type": "code",
   "execution_count": null,
   "id": "2a05ed24",
   "metadata": {},
   "outputs": [],
   "source": []
  }
 ],
 "metadata": {
  "kernelspec": {
   "display_name": "Python 3",
   "language": "python",
   "name": "python3"
  },
  "language_info": {
   "codemirror_mode": {
    "name": "ipython",
    "version": 3
   },
   "file_extension": ".py",
   "mimetype": "text/x-python",
   "name": "python",
   "nbconvert_exporter": "python",
   "pygments_lexer": "ipython3",
   "version": "3.8.8"
  }
 },
 "nbformat": 4,
 "nbformat_minor": 5
}
