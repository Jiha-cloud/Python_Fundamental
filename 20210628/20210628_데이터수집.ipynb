{
 "cells": [
  {
   "cell_type": "code",
   "execution_count": 3,
   "id": "2c759184",
   "metadata": {},
   "outputs": [],
   "source": [
    "import requests\n",
    "from bs4 import BeautifulSoup as bs"
   ]
  },
  {
   "cell_type": "code",
   "execution_count": 4,
   "id": "e9d2d6a1",
   "metadata": {},
   "outputs": [],
   "source": [
    "headers = {'User-Agent':'Mozilla/5.0'}\n",
    "url = 'https://news.naver.com/main/list.nhn?mode=LSD&mid=sec&sid1=001'\n",
    "html = requests.get(url, headers = headers).text"
   ]
  },
  {
   "cell_type": "code",
   "execution_count": 5,
   "id": "e58ece02",
   "metadata": {},
   "outputs": [],
   "source": [
    "soup = bs(html, 'html.parser')\n",
    "type06 = soup.find('ul',{'class':'type06_headline'})\n",
    "dl = type06.find_all('dl')"
   ]
  },
  {
   "cell_type": "code",
   "execution_count": 6,
   "id": "8699eb2f",
   "metadata": {},
   "outputs": [
    {
     "name": "stdout",
     "output_type": "stream",
     "text": [
      "img =  https://imgnews.pstatic.net/image/origin/091/2021/06/28/8824597.jpg?type=nf106_72\n",
      "--------------------------\n",
      "img =  https://imgnews.pstatic.net/image/origin/091/2021/06/28/8824596.jpg?type=nf106_72\n",
      "--------------------------\n",
      "img =  https://imgnews.pstatic.net/image/origin/091/2021/06/28/8824595.jpg?type=nf106_72\n",
      "--------------------------\n",
      "img =  https://imgnews.pstatic.net/image/origin/056/2021/06/28/11072090.jpg?type=nf106_72\n",
      "--------------------------\n",
      "No image\n",
      "img =  https://imgnews.pstatic.net/image/origin/021/2021/06/28/2476323.jpg?type=nf106_72\n",
      "--------------------------\n",
      "No image\n",
      "img =  https://imgnews.pstatic.net/image/origin/366/2021/06/28/739647.jpg?type=nf106_72\n",
      "--------------------------\n",
      "img =  https://imgnews.pstatic.net/image/origin/021/2021/06/28/2476322.jpg?type=nf106_72\n",
      "--------------------------\n",
      "img =  https://imgnews.pstatic.net/image/origin/021/2021/06/28/2476321.jpg?type=nf106_72\n",
      "--------------------------\n"
     ]
    }
   ],
   "source": [
    "for item2 in dl:\n",
    "    try:\n",
    "        img = item2.find('dt',{'class':'photo'}).find('img')\n",
    "        print('img = ',img['src'])\n",
    "        print('--------------------------')\n",
    "    except:\n",
    "        print('No image')"
   ]
  },
  {
   "cell_type": "code",
   "execution_count": 7,
   "id": "78a16db5",
   "metadata": {},
   "outputs": [
    {
     "name": "stdout",
     "output_type": "stream",
     "text": [
      "https://news.naver.com/main/read.nhn?mode=LSD&mid=sec&sid1=001&oid=091&aid=0008824597\n",
      " CHINA COMMUNIST PARTY CENTENARY\r\n",
      "https://news.naver.com/main/read.nhn?mode=LSD&mid=sec&sid1=001&oid=091&aid=0008824596\n",
      " CHINA COMMUNIST PARTY CENTENARY\r\n",
      "https://news.naver.com/main/read.nhn?mode=LSD&mid=sec&sid1=001&oid=091&aid=0008824595\n",
      " CHINA COMMUNIST PARTY CENTENARY\r\n",
      "https://news.naver.com/main/read.nhn?mode=LSD&mid=sec&sid1=001&oid=056&aid=0011072090\n",
      " ‘소급 대신 피해 지원’ 손실보상법 상임위 통과\r\n",
      "https://news.naver.com/main/read.nhn?mode=LSD&mid=sec&sid1=001&oid=469&aid=0000613863\n",
      " [인사] 외교부 외\r\n",
      "https://news.naver.com/main/read.nhn?mode=LSD&mid=sec&sid1=001&oid=021&aid=0002476323\n",
      " 병영문화개선 민관군 합동위 출범…제도개선 흉내내기 시늉 우려도\r\n",
      "https://news.naver.com/main/read.nhn?mode=LSD&mid=sec&sid1=001&oid=374&aid=0000249050\n",
      " 서울시, 시내버스 운전기사에 백신 유급휴가제 도입\r\n",
      "https://news.naver.com/main/read.nhn?mode=LSD&mid=sec&sid1=001&oid=366&aid=0000739647\n",
      " SK바이오사이언스, 국내 첫 코로나19 백신 임상 3상 신청… “내년 상용화”\r\n",
      "https://news.naver.com/main/read.nhn?mode=LSD&mid=sec&sid1=001&oid=021&aid=0002476322\n",
      " 광복회 사상 초유의 오물투척 사건…김원웅 광복회장 책상에 오물 2통 뿌려\r\n",
      "https://news.naver.com/main/read.nhn?mode=LSD&mid=sec&sid1=001&oid=021&aid=0002476321\n",
      " 국방부 방문 野 의원들 “女중사 사망, 한 점 의혹 없는 규명” 촉구\r\n"
     ]
    }
   ],
   "source": [
    "for item2 in dl:\n",
    "    link = item2.find('dt',{'class':''}).find('a')\n",
    "    print(link['href'])\n",
    "    print(link.text.replace('\\t','').replace('\\n','')[1:len(link.text)+1])"
   ]
  },
  {
   "cell_type": "code",
   "execution_count": 8,
   "id": "26641284",
   "metadata": {},
   "outputs": [
    {
     "name": "stdout",
     "output_type": "stream",
     "text": [
      "No image\n",
      "No image\n",
      "No image\n",
      "No image\n",
      "No image\n",
      "No image\n",
      "No image\n",
      "No image\n",
      "No image\n",
      "No image\n"
     ]
    }
   ],
   "source": [
    "for item2 in dl:\n",
    "    try:\n",
    "        content = tem2.find('dd')\n",
    "        print(content.text.replace('\\t','').replace('\\t','').split('...')[0])\n",
    "    except:\n",
    "        print('No image')"
   ]
  },
  {
   "cell_type": "code",
   "execution_count": null,
   "id": "c78d63b4",
   "metadata": {},
   "outputs": [],
   "source": []
  }
 ],
 "metadata": {
  "kernelspec": {
   "display_name": "Python 3",
   "language": "python",
   "name": "python3"
  },
  "language_info": {
   "codemirror_mode": {
    "name": "ipython",
    "version": 3
   },
   "file_extension": ".py",
   "mimetype": "text/x-python",
   "name": "python",
   "nbconvert_exporter": "python",
   "pygments_lexer": "ipython3",
   "version": "3.8.8"
  }
 },
 "nbformat": 4,
 "nbformat_minor": 5
}
