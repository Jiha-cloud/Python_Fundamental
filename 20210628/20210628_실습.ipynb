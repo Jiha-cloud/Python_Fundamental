{
 "cells": [
  {
   "cell_type": "code",
   "execution_count": 1,
   "id": "95700d51",
   "metadata": {},
   "outputs": [],
   "source": [
    "##  실습) 1~1000에서 각 숫자의 개수 구하기\n",
    "\n",
    "## ex) 10~15까지 숫자의 개수는 \n",
    "##  - 10 -> 1,0\n",
    "##  - 12 -> 1,2"
   ]
  },
  {
   "cell_type": "code",
   "execution_count": 19,
   "id": "301696e1",
   "metadata": {},
   "outputs": [
    {
     "name": "stdout",
     "output_type": "stream",
     "text": [
      " 1의 갯수는 301, \n",
      " 2의 갯수는 300, \n",
      " 3의 갯수는 300, \n",
      " 4의 갯수는 300, \n",
      " 5의 갯수는 300, \n",
      " 6의 갯수는 300\n",
      " 7의 갯수는 300, \n",
      " 8의 갯수는 300, \n",
      " 9의 갯수는 300, \n",
      " 0의 갯수는 192\n"
     ]
    }
   ],
   "source": [
    "numbers = []\n",
    "for i in range(1,1001):\n",
    "    numbers.append(i)\n",
    "\n",
    "zero = 0\n",
    "one = 0\n",
    "two = 0\n",
    "three = 0\n",
    "four = 0\n",
    "five = 0\n",
    "six = 0\n",
    "seven = 0\n",
    "eight = 0\n",
    "nine = 0\n",
    "\n",
    "for i in numbers:\n",
    "    num = list(map(int, str(i)))\n",
    "    for j in num:\n",
    "        if j == 1:\n",
    "            one += 1\n",
    "        elif j == 2:\n",
    "            two += 1\n",
    "        elif j == 3:\n",
    "            three += 1\n",
    "        elif j == 4:\n",
    "            four += 1\n",
    "        elif j == 5:\n",
    "            five += 1\n",
    "        elif j == 6:\n",
    "            six += 1\n",
    "        elif j == 7:\n",
    "            seven += 1\n",
    "        elif j == 8:\n",
    "            eight += 1\n",
    "        elif j == 9:\n",
    "            nine += 1\n",
    "        else:\n",
    "            zero += 1\n",
    "            \n",
    "print(\" 1의 갯수는 {}, \\n 2의 갯수는 {}, \\n 3의 갯수는 {}, \\n 4의 갯수는 {}, \\n 5의 갯수는 {}, \\n 6의 갯수는 {}\".format(one,two,three,four,five,six))\n",
    "print(\" 7의 갯수는 {}, \\n 8의 갯수는 {}, \\n 9의 갯수는 {}, \\n 0의 갯수는 {}\".format(seven,eight,nine,zero))\n"
   ]
  },
  {
   "cell_type": "code",
   "execution_count": 20,
   "id": "4fc3a5ad",
   "metadata": {},
   "outputs": [
    {
     "name": "stdout",
     "output_type": "stream",
     "text": [
      "num =  [192, 301, 300, 300, 300, 300, 300, 300, 300, 300]\n"
     ]
    }
   ],
   "source": [
    "num = [0,0,0,0,0,0,0,0,0,0]\n",
    "for i in range(1,1001):\n",
    "    for j in str(i):\n",
    "        num[int(j)] += 1\n",
    "\n",
    "print(\"num = \",num)"
   ]
  },
  {
   "cell_type": "code",
   "execution_count": 18,
   "id": "0a3cb4f3",
   "metadata": {},
   "outputs": [
    {
     "data": {
      "text/plain": [
       "['서', '울', '시', ' ', '노', '원', '구', ' ', '은', '행', '사', '거', '리']"
      ]
     },
     "execution_count": 18,
     "metadata": {},
     "output_type": "execute_result"
    }
   ],
   "source": [
    "sti = \"서울시 노원구 은행사거리\"\n",
    "a = list(map(str, sti))\n",
    "a"
   ]
  },
  {
   "cell_type": "code",
   "execution_count": null,
   "id": "91dccbfc",
   "metadata": {},
   "outputs": [],
   "source": []
  }
 ],
 "metadata": {
  "kernelspec": {
   "display_name": "Python 3",
   "language": "python",
   "name": "python3"
  },
  "language_info": {
   "codemirror_mode": {
    "name": "ipython",
    "version": 3
   },
   "file_extension": ".py",
   "mimetype": "text/x-python",
   "name": "python",
   "nbconvert_exporter": "python",
   "pygments_lexer": "ipython3",
   "version": "3.8.8"
  }
 },
 "nbformat": 4,
 "nbformat_minor": 5
}
