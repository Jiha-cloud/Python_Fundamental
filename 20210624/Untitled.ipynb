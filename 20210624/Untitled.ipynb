{
 "cells": [
  {
   "cell_type": "code",
   "execution_count": 1,
   "id": "227f0b92",
   "metadata": {},
   "outputs": [],
   "source": [
    "ages = [5,12,17,18,24,32]"
   ]
  },
  {
   "cell_type": "code",
   "execution_count": 3,
   "id": "10663469",
   "metadata": {},
   "outputs": [
    {
     "data": {
      "text/plain": [
       "[24, 32]"
      ]
     },
     "execution_count": 3,
     "metadata": {},
     "output_type": "execute_result"
    }
   ],
   "source": [
    "list(filter(lambda x:x>20, ages))"
   ]
  },
  {
   "cell_type": "code",
   "execution_count": 5,
   "id": "e5789617",
   "metadata": {},
   "outputs": [
    {
     "name": "stdout",
     "output_type": "stream",
     "text": [
      "[18, 9, 24, 12, 27]\n"
     ]
    }
   ],
   "source": [
    "# filter 함수\n",
    "\n",
    "b = [2,18,9,22,17,24,8,12,27]\n",
    "nums = list(filter(lambda x : x%3==0, b))\n",
    "print(nums)"
   ]
  },
  {
   "cell_type": "code",
   "execution_count": 6,
   "id": "9a5d23e0",
   "metadata": {},
   "outputs": [],
   "source": [
    "def myfunc(a,b):\n",
    "    return a + \"-\" + b"
   ]
  },
  {
   "cell_type": "code",
   "execution_count": 7,
   "id": "16447d13",
   "metadata": {},
   "outputs": [
    {
     "data": {
      "text/plain": [
       "['appleorange', 'bananalemon', 'cherrypineapple']"
      ]
     },
     "execution_count": 7,
     "metadata": {},
     "output_type": "execute_result"
    }
   ],
   "source": [
    "a = ('apple','banana','cherry')\n",
    "b = ('orange','lemon','pineapple')\n",
    "list(map(myfunc,a,b))"
   ]
  },
  {
   "cell_type": "code",
   "execution_count": 9,
   "id": "61ea7ea6",
   "metadata": {},
   "outputs": [
    {
     "data": {
      "text/plain": [
       "[1, 2, 3, 4, 5, 6, 7, 8, 9, 10]"
      ]
     },
     "execution_count": 9,
     "metadata": {},
     "output_type": "execute_result"
    }
   ],
   "source": [
    "target = list(range(1,11))\n",
    "target"
   ]
  },
  {
   "cell_type": "code",
   "execution_count": 11,
   "id": "def9bead",
   "metadata": {},
   "outputs": [
    {
     "data": {
      "text/plain": [
       "[1, 8, 27, 64, 125, 216, 343, 512, 729, 1000]"
      ]
     },
     "execution_count": 11,
     "metadata": {},
     "output_type": "execute_result"
    }
   ],
   "source": [
    "def func(a):\n",
    "    return a**3\n",
    "\n",
    "list(map(func, target))"
   ]
  },
  {
   "cell_type": "code",
   "execution_count": 12,
   "id": "8b77f259",
   "metadata": {},
   "outputs": [
    {
     "data": {
      "text/plain": [
       "[1, 8, 27, 64, 125, 216, 343, 512, 729, 1000]"
      ]
     },
     "execution_count": 12,
     "metadata": {},
     "output_type": "execute_result"
    }
   ],
   "source": [
    "list(map(lambda x: x**3,target))"
   ]
  },
  {
   "cell_type": "code",
   "execution_count": 13,
   "id": "b3a00e7f",
   "metadata": {},
   "outputs": [
    {
     "name": "stdout",
     "output_type": "stream",
     "text": [
      "23\n"
     ]
    }
   ],
   "source": [
    "def sumOfDigits(num):\n",
    "    digits = map(int, list(str(num)))\n",
    "    return sum(digits)\n",
    "\n",
    "print(sumOfDigits(472523))"
   ]
  },
  {
   "cell_type": "code",
   "execution_count": 14,
   "id": "a91be912",
   "metadata": {},
   "outputs": [
    {
     "data": {
      "text/plain": [
       "[1, '3', 4, 5, 4, '3', '3', 5, 5, '6', 4]"
      ]
     },
     "execution_count": 14,
     "metadata": {},
     "output_type": "execute_result"
    }
   ],
   "source": [
    "a = [1,3,4,5,4,3,3,5,5,6,4]\n",
    "list(map(lambda x: str(x) if x%3 == 0 else x,a))"
   ]
  },
  {
   "cell_type": "code",
   "execution_count": 29,
   "id": "ac2087af",
   "metadata": {},
   "outputs": [
    {
     "name": "stdout",
     "output_type": "stream",
     "text": [
      "[3, 4, 5, 6, 7]\n",
      "[3, 4, 5, 6, 7]\n"
     ]
    }
   ],
   "source": [
    "def plus_two(x):\n",
    "    return x+2\n",
    "\n",
    "result = list(map(plus_two, [1,2,3,4,5]))\n",
    "print(result)\n",
    "\n",
    "result2 = list(map((lambda x : x +2), [1,2,3,4,5]))\n",
    "print(result2)"
   ]
  },
  {
   "cell_type": "code",
   "execution_count": 30,
   "id": "35e2705e",
   "metadata": {},
   "outputs": [
    {
     "name": "stdout",
     "output_type": "stream",
     "text": [
      "[0, 2, 4, 6, 8]\n",
      "[0, 2, 4, 6, 8]\n"
     ]
    }
   ],
   "source": [
    "def is_even(x):\n",
    "    return x % 2 == 0\n",
    "\n",
    "result1 = list(filter(is_even, range(10)))\n",
    "print(result1)\n",
    "\n",
    "result2 = list(filter((lambda x : x%2 == 0),range(10)))\n",
    "print(result2)"
   ]
  },
  {
   "cell_type": "code",
   "execution_count": null,
   "id": "11a86e71",
   "metadata": {},
   "outputs": [],
   "source": []
  }
 ],
 "metadata": {
  "kernelspec": {
   "display_name": "Python 3",
   "language": "python",
   "name": "python3"
  },
  "language_info": {
   "codemirror_mode": {
    "name": "ipython",
    "version": 3
   },
   "file_extension": ".py",
   "mimetype": "text/x-python",
   "name": "python",
   "nbconvert_exporter": "python",
   "pygments_lexer": "ipython3",
   "version": "3.8.8"
  }
 },
 "nbformat": 4,
 "nbformat_minor": 5
}
