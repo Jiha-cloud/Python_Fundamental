{
 "cells": [
  {
   "cell_type": "code",
   "execution_count": 10,
   "id": "5c66ddf3",
   "metadata": {},
   "outputs": [
    {
     "name": "stdout",
     "output_type": "stream",
     "text": [
      "연도를 입력하세요 = 202\n"
     ]
    }
   ],
   "source": [
    "import pandas as pd\n",
    "year = int(input('연도를 입력하세요 = '))"
   ]
  },
  {
   "cell_type": "code",
   "execution_count": 8,
   "id": "ee6270ba",
   "metadata": {},
   "outputs": [
    {
     "name": "stdout",
     "output_type": "stream",
     "text": [
      "과연?  윤년\n"
     ]
    }
   ],
   "source": [
    "def leap_year(year):\n",
    "    if year % 4 == 0:\n",
    "        if year % 100 == 0:\n",
    "            if year % 400 == 0:\n",
    "                answer = \"윤년\"\n",
    "            else:\n",
    "                answer = \"평년\"\n",
    "        else:\n",
    "            answer = \"윤년\"\n",
    "    else:\n",
    "        answer = \"평년\"\n",
    "    return answer\n",
    "\n",
    "print(\"과연? \",leap_year(year))"
   ]
  },
  {
   "cell_type": "code",
   "execution_count": 24,
   "id": "893da320",
   "metadata": {},
   "outputs": [
    {
     "name": "stdout",
     "output_type": "stream",
     "text": [
      "년도는 (0이면 종료) ?2000\n",
      "년도 2000는 윤년입니다\n",
      "년도는 (0이면 종료) ?2001\n",
      "년도 2001는 평년입니다\n",
      "년도는 (0이면 종료) ?2002\n",
      "년도 2002는 평년입니다\n",
      "년도는 (0이면 종료) ?2003\n",
      "년도 2003는 평년입니다\n",
      "년도는 (0이면 종료) ?2004\n",
      "년도 2004는 윤년입니다\n",
      "년도는 (0이면 종료) ?0\n"
     ]
    },
    {
     "data": {
      "text/html": [
       "<div>\n",
       "<style scoped>\n",
       "    .dataframe tbody tr th:only-of-type {\n",
       "        vertical-align: middle;\n",
       "    }\n",
       "\n",
       "    .dataframe tbody tr th {\n",
       "        vertical-align: top;\n",
       "    }\n",
       "\n",
       "    .dataframe thead th {\n",
       "        text-align: right;\n",
       "    }\n",
       "</style>\n",
       "<table border=\"1\" class=\"dataframe\">\n",
       "  <thead>\n",
       "    <tr style=\"text-align: right;\">\n",
       "      <th></th>\n",
       "      <th>년도</th>\n",
       "      <th>윤년여부</th>\n",
       "    </tr>\n",
       "  </thead>\n",
       "  <tbody>\n",
       "    <tr>\n",
       "      <th>0</th>\n",
       "      <td>2000</td>\n",
       "      <td>윤년</td>\n",
       "    </tr>\n",
       "    <tr>\n",
       "      <th>1</th>\n",
       "      <td>2001</td>\n",
       "      <td>평년</td>\n",
       "    </tr>\n",
       "    <tr>\n",
       "      <th>2</th>\n",
       "      <td>2002</td>\n",
       "      <td>평년</td>\n",
       "    </tr>\n",
       "    <tr>\n",
       "      <th>3</th>\n",
       "      <td>2003</td>\n",
       "      <td>평년</td>\n",
       "    </tr>\n",
       "    <tr>\n",
       "      <th>4</th>\n",
       "      <td>2004</td>\n",
       "      <td>윤년</td>\n",
       "    </tr>\n",
       "  </tbody>\n",
       "</table>\n",
       "</div>"
      ],
      "text/plain": [
       "     년도 윤년여부\n",
       "0  2000   윤년\n",
       "1  2001   평년\n",
       "2  2002   평년\n",
       "3  2003   평년\n",
       "4  2004   윤년"
      ]
     },
     "execution_count": 24,
     "metadata": {},
     "output_type": "execute_result"
    }
   ],
   "source": [
    "years = []\n",
    "while True:\n",
    "    year = int(input('년도는 (0이면 종료) ?'))\n",
    "    if year == 0:\n",
    "        break\n",
    "    result = leap_year(year)\n",
    "    print(\"년도 %s는 %s입니다\"%(year, result))\n",
    "    years.append([year, result])\n",
    "    \n",
    "years_df2 = pd.DataFrame(years,columns=['년도','윤년여부'])\n",
    "years_df2"
   ]
  },
  {
   "cell_type": "code",
   "execution_count": 26,
   "id": "240b782c",
   "metadata": {},
   "outputs": [
    {
     "name": "stdout",
     "output_type": "stream",
     "text": [
      "년도는 (0이면 종료) ?2007\n",
      "년도 2007는 평년입니다\n",
      "년도는 (0이면 종료) ?2008\n",
      "년도 2008는 윤년입니다\n",
      "년도는 (0이면 종료) ?2009\n",
      "년도 2009는 평년입니다\n",
      "년도는 (0이면 종료) ?2010\n",
      "년도 2010는 평년입니다\n",
      "년도는 (0이면 종료) ?2011\n",
      "년도 2011는 평년입니다\n",
      "년도는 (0이면 종료) ?2012\n",
      "년도 2012는 윤년입니다\n",
      "년도는 (0이면 종료) ?0\n"
     ]
    },
    {
     "data": {
      "text/html": [
       "<div>\n",
       "<style scoped>\n",
       "    .dataframe tbody tr th:only-of-type {\n",
       "        vertical-align: middle;\n",
       "    }\n",
       "\n",
       "    .dataframe tbody tr th {\n",
       "        vertical-align: top;\n",
       "    }\n",
       "\n",
       "    .dataframe thead th {\n",
       "        text-align: right;\n",
       "    }\n",
       "</style>\n",
       "<table border=\"1\" class=\"dataframe\">\n",
       "  <thead>\n",
       "    <tr style=\"text-align: right;\">\n",
       "      <th></th>\n",
       "      <th>년도</th>\n",
       "      <th>윤년여부</th>\n",
       "    </tr>\n",
       "  </thead>\n",
       "  <tbody>\n",
       "    <tr>\n",
       "      <th>0</th>\n",
       "      <td>2007</td>\n",
       "      <td>평년</td>\n",
       "    </tr>\n",
       "    <tr>\n",
       "      <th>1</th>\n",
       "      <td>2008</td>\n",
       "      <td>윤년</td>\n",
       "    </tr>\n",
       "    <tr>\n",
       "      <th>2</th>\n",
       "      <td>2009</td>\n",
       "      <td>평년</td>\n",
       "    </tr>\n",
       "    <tr>\n",
       "      <th>3</th>\n",
       "      <td>2010</td>\n",
       "      <td>평년</td>\n",
       "    </tr>\n",
       "    <tr>\n",
       "      <th>4</th>\n",
       "      <td>2011</td>\n",
       "      <td>평년</td>\n",
       "    </tr>\n",
       "    <tr>\n",
       "      <th>5</th>\n",
       "      <td>2012</td>\n",
       "      <td>윤년</td>\n",
       "    </tr>\n",
       "  </tbody>\n",
       "</table>\n",
       "</div>"
      ],
      "text/plain": [
       "     년도 윤년여부\n",
       "0  2007   평년\n",
       "1  2008   윤년\n",
       "2  2009   평년\n",
       "3  2010   평년\n",
       "4  2011   평년\n",
       "5  2012   윤년"
      ]
     },
     "execution_count": 26,
     "metadata": {},
     "output_type": "execute_result"
    }
   ],
   "source": [
    "years = []\n",
    "while True:\n",
    "    year = int(input('년도는 (0이면 종료) ?'))\n",
    "    if year == 0:\n",
    "        break\n",
    "    result = leap_year(year)\n",
    "    print(\"년도 %s는 %s입니다\"%(year, result))\n",
    "    years.append([year, result])\n",
    "    \n",
    "years_df1 = pd.DataFrame(years,columns=['년도','윤년여부'])\n",
    "years_df1"
   ]
  },
  {
   "cell_type": "code",
   "execution_count": 42,
   "id": "e7762f81",
   "metadata": {},
   "outputs": [],
   "source": [
    "years_df3 = pd.concat([years_df1,years_df2])"
   ]
  },
  {
   "cell_type": "code",
   "execution_count": 45,
   "id": "17dea7b9",
   "metadata": {},
   "outputs": [
    {
     "name": "stdout",
     "output_type": "stream",
     "text": [
      "년도는 (0이면 종료) ?2021\n",
      "년도 2021는 평년입니다\n",
      "년도는 (0이면 종료) ?2020\n",
      "년도 2020는 윤년입니다\n",
      "년도는 (0이면 종료) ?2019\n",
      "년도 2019는 평년입니다\n",
      "년도는 (0이면 종료) ?2018\n",
      "년도 2018는 평년입니다\n",
      "년도는 (0이면 종료) ?2017\n",
      "년도 2017는 평년입니다\n",
      "년도는 (0이면 종료) ?0\n"
     ]
    },
    {
     "data": {
      "text/plain": [
       "{2021: '평년', 2020: '윤년', 2019: '평년', 2018: '평년', 2017: '평년'}"
      ]
     },
     "execution_count": 45,
     "metadata": {},
     "output_type": "execute_result"
    }
   ],
   "source": [
    "years2 = {}\n",
    "while True:\n",
    "    year = int(input('년도는 (0이면 종료) ?'))\n",
    "    if year == 0:\n",
    "        break\n",
    "    result = leap_year(year)\n",
    "    print(\"년도 %s는 %s입니다\"%(year, result))\n",
    "    years2[year] = result\n",
    "    \n",
    "years2"
   ]
  },
  {
   "cell_type": "code",
   "execution_count": 48,
   "id": "159e0bad",
   "metadata": {},
   "outputs": [
    {
     "name": "stdout",
     "output_type": "stream",
     "text": [
      "년도는 (0이면 종료) ?2021\n",
      "년도 2021는 평년입니다\n",
      "년도는 (0이면 종료) ?20\n",
      "년도 20는 윤년입니다\n",
      "년도는 (0이면 종료) ?2014\n",
      "년도 2014는 평년입니다\n",
      "년도는 (0이면 종료) ?2012\n",
      "년도 2012는 윤년입니다\n",
      "년도는 (0이면 종료) ?2010\n",
      "년도 2010는 평년입니다\n",
      "년도는 (0이면 종료) ?2008\n",
      "년도 2008는 윤년입니다\n",
      "년도는 (0이면 종료) ?2007\n",
      "년도 2007는 평년입니다\n",
      "년도는 (0이면 종료) ?2006\n",
      "년도 2006는 평년입니다\n",
      "년도는 (0이면 종료) ?0\n"
     ]
    }
   ],
   "source": [
    "years3 = {}\n",
    "common = []\n",
    "leap = []\n",
    "while True:\n",
    "    year = int(input('년도는 (0이면 종료) ?'))\n",
    "    if year == 0:\n",
    "        break\n",
    "    result = leap_year(year)\n",
    "    print(\"년도 %s는 %s입니다\"%(year, result))\n",
    "    if result == '평년':\n",
    "        common.append(year)\n",
    "    else:\n",
    "        leap.append(year)\n",
    "    years3['평년'] = common\n",
    "    years3['윤년'] = leap"
   ]
  },
  {
   "cell_type": "code",
   "execution_count": 49,
   "id": "129fa7c6",
   "metadata": {},
   "outputs": [
    {
     "data": {
      "text/plain": [
       "{'평년': [2021, 2014, 2010, 2007, 2006], '윤년': [20, 2012, 2008]}"
      ]
     },
     "execution_count": 49,
     "metadata": {},
     "output_type": "execute_result"
    }
   ],
   "source": [
    "years3"
   ]
  },
  {
   "cell_type": "code",
   "execution_count": 46,
   "id": "62057f54",
   "metadata": {},
   "outputs": [
    {
     "data": {
      "text/html": [
       "<div>\n",
       "<style scoped>\n",
       "    .dataframe tbody tr th:only-of-type {\n",
       "        vertical-align: middle;\n",
       "    }\n",
       "\n",
       "    .dataframe tbody tr th {\n",
       "        vertical-align: top;\n",
       "    }\n",
       "\n",
       "    .dataframe thead th {\n",
       "        text-align: right;\n",
       "    }\n",
       "</style>\n",
       "<table border=\"1\" class=\"dataframe\">\n",
       "  <thead>\n",
       "    <tr style=\"text-align: right;\">\n",
       "      <th></th>\n",
       "      <th>2021</th>\n",
       "      <th>2020</th>\n",
       "      <th>2019</th>\n",
       "      <th>2018</th>\n",
       "      <th>2017</th>\n",
       "    </tr>\n",
       "  </thead>\n",
       "  <tbody>\n",
       "    <tr>\n",
       "      <th>0</th>\n",
       "      <td>평년</td>\n",
       "      <td>윤년</td>\n",
       "      <td>평년</td>\n",
       "      <td>평년</td>\n",
       "      <td>평년</td>\n",
       "    </tr>\n",
       "  </tbody>\n",
       "</table>\n",
       "</div>"
      ],
      "text/plain": [
       "  2021 2020 2019 2018 2017\n",
       "0   평년   윤년   평년   평년   평년"
      ]
     },
     "execution_count": 46,
     "metadata": {},
     "output_type": "execute_result"
    }
   ],
   "source": [
    "pd.DataFrame(years2, index=[0])"
   ]
  },
  {
   "cell_type": "code",
   "execution_count": 37,
   "id": "0da9d4d3",
   "metadata": {},
   "outputs": [],
   "source": [
    "# years_df3.to_csv('y_df.csv', index=False)\n",
    "years_df3.to_csv('y_df.csv')"
   ]
  },
  {
   "cell_type": "code",
   "execution_count": 41,
   "id": "bd15a5c1",
   "metadata": {},
   "outputs": [
    {
     "data": {
      "text/plain": [
       "Index(['년도', '윤년여부'], dtype='object')"
      ]
     },
     "execution_count": 41,
     "metadata": {},
     "output_type": "execute_result"
    }
   ],
   "source": [
    "years_df4 = pd.read_csv('y_df.csv').drop('Unnamed: 0',axis=1)\n",
    "years_df4.columns"
   ]
  },
  {
   "cell_type": "code",
   "execution_count": null,
   "id": "f5373595",
   "metadata": {},
   "outputs": [],
   "source": []
  }
 ],
 "metadata": {
  "kernelspec": {
   "display_name": "Python 3",
   "language": "python",
   "name": "python3"
  },
  "language_info": {
   "codemirror_mode": {
    "name": "ipython",
    "version": 3
   },
   "file_extension": ".py",
   "mimetype": "text/x-python",
   "name": "python",
   "nbconvert_exporter": "python",
   "pygments_lexer": "ipython3",
   "version": "3.8.8"
  }
 },
 "nbformat": 4,
 "nbformat_minor": 5
}
