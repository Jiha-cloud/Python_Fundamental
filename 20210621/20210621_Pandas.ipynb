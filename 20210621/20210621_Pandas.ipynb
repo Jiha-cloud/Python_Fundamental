{
 "cells": [
  {
   "cell_type": "code",
   "execution_count": 4,
   "id": "c7692eea",
   "metadata": {},
   "outputs": [
    {
     "data": {
      "text/plain": [
       "apple     2500\n",
       "banana    3000\n",
       "mango     4000\n",
       "tomato    5000\n",
       "dtype: int64"
      ]
     },
     "execution_count": 4,
     "metadata": {},
     "output_type": "execute_result"
    }
   ],
   "source": [
    "import pandas as pd\n",
    "series = pd.Series([2500,3000,4000,5000], index = [\"apple\",'banana','mango','tomato'])\n",
    "series"
   ]
  },
  {
   "cell_type": "code",
   "execution_count": 5,
   "id": "8d4ff8dc",
   "metadata": {},
   "outputs": [
    {
     "data": {
      "text/plain": [
       "array([2500, 3000, 4000, 5000], dtype=int64)"
      ]
     },
     "execution_count": 5,
     "metadata": {},
     "output_type": "execute_result"
    }
   ],
   "source": [
    "series.values"
   ]
  },
  {
   "cell_type": "code",
   "execution_count": 6,
   "id": "5da5426f",
   "metadata": {},
   "outputs": [
    {
     "ename": "TypeError",
     "evalue": "'numpy.ndarray' object is not callable",
     "output_type": "error",
     "traceback": [
      "\u001b[1;31m---------------------------------------------------------------------------\u001b[0m",
      "\u001b[1;31mTypeError\u001b[0m                                 Traceback (most recent call last)",
      "\u001b[1;32m<ipython-input-6-41965b95b337>\u001b[0m in \u001b[0;36m<module>\u001b[1;34m\u001b[0m\n\u001b[1;32m----> 1\u001b[1;33m \u001b[0mseries\u001b[0m\u001b[1;33m.\u001b[0m\u001b[0mvalues\u001b[0m\u001b[1;33m(\u001b[0m\u001b[1;33m)\u001b[0m\u001b[1;33m\u001b[0m\u001b[1;33m\u001b[0m\u001b[0m\n\u001b[0m",
      "\u001b[1;31mTypeError\u001b[0m: 'numpy.ndarray' object is not callable"
     ]
    }
   ],
   "source": [
    "series.values()"
   ]
  },
  {
   "cell_type": "code",
   "execution_count": 10,
   "id": "4bc7f6f4",
   "metadata": {},
   "outputs": [
    {
     "data": {
      "text/plain": [
       "apple     2500\n",
       "banana    3000\n",
       "mango     4000\n",
       "tomato    5000\n",
       "dtype: int64"
      ]
     },
     "execution_count": 10,
     "metadata": {},
     "output_type": "execute_result"
    }
   ],
   "source": [
    "fruit_series = pd.Series([2500,3000,4000,5000],index = [\"apple\",'banana','mango','tomato'])\n",
    "fruit_series"
   ]
  },
  {
   "cell_type": "code",
   "execution_count": 11,
   "id": "c620ddd5",
   "metadata": {},
   "outputs": [
    {
     "data": {
      "text/plain": [
       "apple     2500\n",
       "banana    3000\n",
       "mango     4000\n",
       "tomato    5000\n",
       "dtype: int64"
      ]
     },
     "execution_count": 11,
     "metadata": {},
     "output_type": "execute_result"
    }
   ],
   "source": [
    "fruit_series"
   ]
  },
  {
   "cell_type": "code",
   "execution_count": 13,
   "id": "86996c5e",
   "metadata": {},
   "outputs": [],
   "source": [
    "fruit_series.name = \"fruit_menu\""
   ]
  },
  {
   "cell_type": "code",
   "execution_count": 14,
   "id": "ca83b51e",
   "metadata": {},
   "outputs": [
    {
     "data": {
      "text/plain": [
       "apple     2500\n",
       "banana    3000\n",
       "mango     4000\n",
       "tomato    5000\n",
       "Name: fruit_menu, dtype: int64"
      ]
     },
     "execution_count": 14,
     "metadata": {},
     "output_type": "execute_result"
    }
   ],
   "source": [
    "fruit_series"
   ]
  },
  {
   "cell_type": "code",
   "execution_count": 35,
   "id": "bb0df827",
   "metadata": {},
   "outputs": [
    {
     "ename": "SyntaxError",
     "evalue": "invalid syntax (<ipython-input-35-583d52ef72e1>, line 2)",
     "output_type": "error",
     "traceback": [
      "\u001b[1;36m  File \u001b[1;32m\"<ipython-input-35-583d52ef72e1>\"\u001b[1;36m, line \u001b[1;32m2\u001b[0m\n\u001b[1;33m    index = ['apple','banana','tomato','mango'],\u001b[0m\n\u001b[1;37m          ^\u001b[0m\n\u001b[1;31mSyntaxError\u001b[0m\u001b[1;31m:\u001b[0m invalid syntax\n"
     ]
    }
   ],
   "source": [
    "fruit_catalog = pd.DataFrame({\n",
    "    \"fruit_name\" : ['apple','banana','tomato','mango'],\n",
    "    \"fruit_price\" : [2000,3000,4000,2500],\n",
    "    \"fruit_qty\" : [3,10,5,7]\n",
    "})"
   ]
  },
  {
   "cell_type": "code",
   "execution_count": 16,
   "id": "22de17d6",
   "metadata": {},
   "outputs": [
    {
     "data": {
      "text/plain": [
       "0    good\n",
       "1     bad\n",
       "2     bad\n",
       "3    good\n",
       "dtype: object"
      ]
     },
     "execution_count": 16,
     "metadata": {},
     "output_type": "execute_result"
    }
   ],
   "source": [
    "fruit_status = pd.Series([\n",
    "    \"good\",\"bad\",\"bad\",\"good\"\n",
    "])\n",
    "fruit_status"
   ]
  },
  {
   "cell_type": "code",
   "execution_count": 18,
   "id": "bab89e30",
   "metadata": {},
   "outputs": [],
   "source": [
    "fruit_catalog['fruit_status'] = fruit_status"
   ]
  },
  {
   "cell_type": "code",
   "execution_count": 19,
   "id": "e1c903e7",
   "metadata": {},
   "outputs": [
    {
     "data": {
      "text/html": [
       "<div>\n",
       "<style scoped>\n",
       "    .dataframe tbody tr th:only-of-type {\n",
       "        vertical-align: middle;\n",
       "    }\n",
       "\n",
       "    .dataframe tbody tr th {\n",
       "        vertical-align: top;\n",
       "    }\n",
       "\n",
       "    .dataframe thead th {\n",
       "        text-align: right;\n",
       "    }\n",
       "</style>\n",
       "<table border=\"1\" class=\"dataframe\">\n",
       "  <thead>\n",
       "    <tr style=\"text-align: right;\">\n",
       "      <th></th>\n",
       "      <th>fruit_name</th>\n",
       "      <th>fruit_price</th>\n",
       "      <th>fruit_qty</th>\n",
       "      <th>fruit_status</th>\n",
       "    </tr>\n",
       "  </thead>\n",
       "  <tbody>\n",
       "    <tr>\n",
       "      <th>0</th>\n",
       "      <td>apple</td>\n",
       "      <td>2000</td>\n",
       "      <td>3</td>\n",
       "      <td>good</td>\n",
       "    </tr>\n",
       "    <tr>\n",
       "      <th>1</th>\n",
       "      <td>banana</td>\n",
       "      <td>3000</td>\n",
       "      <td>10</td>\n",
       "      <td>bad</td>\n",
       "    </tr>\n",
       "    <tr>\n",
       "      <th>2</th>\n",
       "      <td>tomato</td>\n",
       "      <td>4000</td>\n",
       "      <td>5</td>\n",
       "      <td>bad</td>\n",
       "    </tr>\n",
       "    <tr>\n",
       "      <th>3</th>\n",
       "      <td>mango</td>\n",
       "      <td>2500</td>\n",
       "      <td>7</td>\n",
       "      <td>good</td>\n",
       "    </tr>\n",
       "  </tbody>\n",
       "</table>\n",
       "</div>"
      ],
      "text/plain": [
       "  fruit_name  fruit_price  fruit_qty fruit_status\n",
       "0      apple         2000          3         good\n",
       "1     banana         3000         10          bad\n",
       "2     tomato         4000          5          bad\n",
       "3      mango         2500          7         good"
      ]
     },
     "execution_count": 19,
     "metadata": {},
     "output_type": "execute_result"
    }
   ],
   "source": [
    "fruit_catalog"
   ]
  },
  {
   "cell_type": "code",
   "execution_count": 21,
   "id": "a80a0b34",
   "metadata": {},
   "outputs": [
    {
     "data": {
      "text/html": [
       "<div>\n",
       "<style scoped>\n",
       "    .dataframe tbody tr th:only-of-type {\n",
       "        vertical-align: middle;\n",
       "    }\n",
       "\n",
       "    .dataframe tbody tr th {\n",
       "        vertical-align: top;\n",
       "    }\n",
       "\n",
       "    .dataframe thead th {\n",
       "        text-align: right;\n",
       "    }\n",
       "</style>\n",
       "<table border=\"1\" class=\"dataframe\">\n",
       "  <thead>\n",
       "    <tr style=\"text-align: right;\">\n",
       "      <th></th>\n",
       "      <th>fruit_name</th>\n",
       "      <th>fruit_price</th>\n",
       "      <th>fruit_qty</th>\n",
       "      <th>fruit_status</th>\n",
       "    </tr>\n",
       "  </thead>\n",
       "  <tbody>\n",
       "    <tr>\n",
       "      <th>0</th>\n",
       "      <td>apple</td>\n",
       "      <td>2000</td>\n",
       "      <td>3</td>\n",
       "      <td>good</td>\n",
       "    </tr>\n",
       "    <tr>\n",
       "      <th>1</th>\n",
       "      <td>banana</td>\n",
       "      <td>3000</td>\n",
       "      <td>10</td>\n",
       "      <td>bad</td>\n",
       "    </tr>\n",
       "    <tr>\n",
       "      <th>3</th>\n",
       "      <td>mango</td>\n",
       "      <td>2500</td>\n",
       "      <td>7</td>\n",
       "      <td>good</td>\n",
       "    </tr>\n",
       "  </tbody>\n",
       "</table>\n",
       "</div>"
      ],
      "text/plain": [
       "  fruit_name  fruit_price  fruit_qty fruit_status\n",
       "0      apple         2000          3         good\n",
       "1     banana         3000         10          bad\n",
       "3      mango         2500          7         good"
      ]
     },
     "execution_count": 21,
     "metadata": {},
     "output_type": "execute_result"
    }
   ],
   "source": [
    "fruit_catalog2 = fruit_catalog.drop([2])\n",
    "fruit_catalog2"
   ]
  },
  {
   "cell_type": "code",
   "execution_count": 30,
   "id": "cc121b75",
   "metadata": {},
   "outputs": [],
   "source": [
    "fruit_name = fruit_catalog['fruit_name']\n",
    "fruit_catalog3 = pd.DataFrame(fruit_catalog, index = fruit_name, columns=['fruit_price','fruit_qty','fruit_status'])"
   ]
  },
  {
   "cell_type": "code",
   "execution_count": 32,
   "id": "a7847c2d",
   "metadata": {},
   "outputs": [
    {
     "data": {
      "text/plain": [
       "pandas.core.frame.DataFrame"
      ]
     },
     "execution_count": 32,
     "metadata": {},
     "output_type": "execute_result"
    }
   ],
   "source": [
    "type(fruit_catalog)"
   ]
  },
  {
   "cell_type": "code",
   "execution_count": 33,
   "id": "5b92969a",
   "metadata": {},
   "outputs": [],
   "source": [
    "fruit_catalog3 = pd.DataFrame(fruit_catalog, index = fruit_name)"
   ]
  },
  {
   "cell_type": "code",
   "execution_count": 34,
   "id": "810bd0f0",
   "metadata": {},
   "outputs": [
    {
     "data": {
      "text/html": [
       "<div>\n",
       "<style scoped>\n",
       "    .dataframe tbody tr th:only-of-type {\n",
       "        vertical-align: middle;\n",
       "    }\n",
       "\n",
       "    .dataframe tbody tr th {\n",
       "        vertical-align: top;\n",
       "    }\n",
       "\n",
       "    .dataframe thead th {\n",
       "        text-align: right;\n",
       "    }\n",
       "</style>\n",
       "<table border=\"1\" class=\"dataframe\">\n",
       "  <thead>\n",
       "    <tr style=\"text-align: right;\">\n",
       "      <th></th>\n",
       "      <th>fruit_name</th>\n",
       "      <th>fruit_price</th>\n",
       "      <th>fruit_qty</th>\n",
       "      <th>fruit_status</th>\n",
       "    </tr>\n",
       "    <tr>\n",
       "      <th>fruit_name</th>\n",
       "      <th></th>\n",
       "      <th></th>\n",
       "      <th></th>\n",
       "      <th></th>\n",
       "    </tr>\n",
       "  </thead>\n",
       "  <tbody>\n",
       "    <tr>\n",
       "      <th>apple</th>\n",
       "      <td>NaN</td>\n",
       "      <td>NaN</td>\n",
       "      <td>NaN</td>\n",
       "      <td>NaN</td>\n",
       "    </tr>\n",
       "    <tr>\n",
       "      <th>banana</th>\n",
       "      <td>NaN</td>\n",
       "      <td>NaN</td>\n",
       "      <td>NaN</td>\n",
       "      <td>NaN</td>\n",
       "    </tr>\n",
       "    <tr>\n",
       "      <th>tomato</th>\n",
       "      <td>NaN</td>\n",
       "      <td>NaN</td>\n",
       "      <td>NaN</td>\n",
       "      <td>NaN</td>\n",
       "    </tr>\n",
       "    <tr>\n",
       "      <th>mango</th>\n",
       "      <td>NaN</td>\n",
       "      <td>NaN</td>\n",
       "      <td>NaN</td>\n",
       "      <td>NaN</td>\n",
       "    </tr>\n",
       "  </tbody>\n",
       "</table>\n",
       "</div>"
      ],
      "text/plain": [
       "           fruit_name  fruit_price  fruit_qty fruit_status\n",
       "fruit_name                                                \n",
       "apple             NaN          NaN        NaN          NaN\n",
       "banana            NaN          NaN        NaN          NaN\n",
       "tomato            NaN          NaN        NaN          NaN\n",
       "mango             NaN          NaN        NaN          NaN"
      ]
     },
     "execution_count": 34,
     "metadata": {},
     "output_type": "execute_result"
    }
   ],
   "source": [
    "fruit_catalog3"
   ]
  },
  {
   "cell_type": "code",
   "execution_count": 45,
   "id": "9653cf57",
   "metadata": {},
   "outputs": [],
   "source": [
    "fruit = pd.Series([2500,3000,1200,6000], index = ['apple','banana','mango','tomato'])"
   ]
  },
  {
   "cell_type": "code",
   "execution_count": 46,
   "id": "eb813a85",
   "metadata": {},
   "outputs": [
    {
     "data": {
      "text/plain": [
       "apple     2500\n",
       "banana    3000\n",
       "mango     1200\n",
       "dtype: int64"
      ]
     },
     "execution_count": 46,
     "metadata": {},
     "output_type": "execute_result"
    }
   ],
   "source": [
    "fruit['apple':'mango']"
   ]
  },
  {
   "cell_type": "code",
   "execution_count": 78,
   "id": "f1a821a8",
   "metadata": {},
   "outputs": [],
   "source": [
    "fruit_data = pd.DataFrame(fruit)"
   ]
  },
  {
   "cell_type": "code",
   "execution_count": 79,
   "id": "5c9a1c5f",
   "metadata": {},
   "outputs": [],
   "source": [
    "fruit_data['fruit_qty']=[4,5,10,9]\n",
    "fruit_data['fruit_status']=['good','bad','bad','good']"
   ]
  },
  {
   "cell_type": "code",
   "execution_count": 80,
   "id": "df8bbbd8",
   "metadata": {},
   "outputs": [],
   "source": [
    "fruit_data.columns = ['fruit_price','fruit_qty','fruit_status']"
   ]
  },
  {
   "cell_type": "code",
   "execution_count": 81,
   "id": "15bedc1c",
   "metadata": {},
   "outputs": [
    {
     "data": {
      "text/html": [
       "<div>\n",
       "<style scoped>\n",
       "    .dataframe tbody tr th:only-of-type {\n",
       "        vertical-align: middle;\n",
       "    }\n",
       "\n",
       "    .dataframe tbody tr th {\n",
       "        vertical-align: top;\n",
       "    }\n",
       "\n",
       "    .dataframe thead th {\n",
       "        text-align: right;\n",
       "    }\n",
       "</style>\n",
       "<table border=\"1\" class=\"dataframe\">\n",
       "  <thead>\n",
       "    <tr style=\"text-align: right;\">\n",
       "      <th></th>\n",
       "      <th>fruit_price</th>\n",
       "      <th>fruit_qty</th>\n",
       "      <th>fruit_status</th>\n",
       "    </tr>\n",
       "  </thead>\n",
       "  <tbody>\n",
       "    <tr>\n",
       "      <th>apple</th>\n",
       "      <td>2500</td>\n",
       "      <td>4</td>\n",
       "      <td>good</td>\n",
       "    </tr>\n",
       "    <tr>\n",
       "      <th>banana</th>\n",
       "      <td>3000</td>\n",
       "      <td>5</td>\n",
       "      <td>bad</td>\n",
       "    </tr>\n",
       "    <tr>\n",
       "      <th>mango</th>\n",
       "      <td>1200</td>\n",
       "      <td>10</td>\n",
       "      <td>bad</td>\n",
       "    </tr>\n",
       "    <tr>\n",
       "      <th>tomato</th>\n",
       "      <td>6000</td>\n",
       "      <td>9</td>\n",
       "      <td>good</td>\n",
       "    </tr>\n",
       "  </tbody>\n",
       "</table>\n",
       "</div>"
      ],
      "text/plain": [
       "        fruit_price  fruit_qty fruit_status\n",
       "apple          2500          4         good\n",
       "banana         3000          5          bad\n",
       "mango          1200         10          bad\n",
       "tomato         6000          9         good"
      ]
     },
     "execution_count": 81,
     "metadata": {},
     "output_type": "execute_result"
    }
   ],
   "source": [
    "fruit_data"
   ]
  },
  {
   "cell_type": "code",
   "execution_count": 82,
   "id": "e5df25ad",
   "metadata": {},
   "outputs": [
    {
     "data": {
      "text/html": [
       "<div>\n",
       "<style scoped>\n",
       "    .dataframe tbody tr th:only-of-type {\n",
       "        vertical-align: middle;\n",
       "    }\n",
       "\n",
       "    .dataframe tbody tr th {\n",
       "        vertical-align: top;\n",
       "    }\n",
       "\n",
       "    .dataframe thead th {\n",
       "        text-align: right;\n",
       "    }\n",
       "</style>\n",
       "<table border=\"1\" class=\"dataframe\">\n",
       "  <thead>\n",
       "    <tr style=\"text-align: right;\">\n",
       "      <th></th>\n",
       "      <th>fruit_price</th>\n",
       "      <th>fruit_qty</th>\n",
       "      <th>fruit_status</th>\n",
       "      <th>fruit_size</th>\n",
       "    </tr>\n",
       "  </thead>\n",
       "  <tbody>\n",
       "    <tr>\n",
       "      <th>apple</th>\n",
       "      <td>2500</td>\n",
       "      <td>4</td>\n",
       "      <td>good</td>\n",
       "      <td>not_small</td>\n",
       "    </tr>\n",
       "    <tr>\n",
       "      <th>banana</th>\n",
       "      <td>3000</td>\n",
       "      <td>5</td>\n",
       "      <td>bad</td>\n",
       "      <td>medium</td>\n",
       "    </tr>\n",
       "    <tr>\n",
       "      <th>mango</th>\n",
       "      <td>1200</td>\n",
       "      <td>10</td>\n",
       "      <td>bad</td>\n",
       "      <td>not_small</td>\n",
       "    </tr>\n",
       "    <tr>\n",
       "      <th>tomato</th>\n",
       "      <td>6000</td>\n",
       "      <td>9</td>\n",
       "      <td>good</td>\n",
       "      <td>small</td>\n",
       "    </tr>\n",
       "  </tbody>\n",
       "</table>\n",
       "</div>"
      ],
      "text/plain": [
       "        fruit_price  fruit_qty fruit_status fruit_size\n",
       "apple          2500          4         good  not_small\n",
       "banana         3000          5          bad     medium\n",
       "mango          1200         10          bad  not_small\n",
       "tomato         6000          9         good      small"
      ]
     },
     "execution_count": 82,
     "metadata": {},
     "output_type": "execute_result"
    }
   ],
   "source": [
    "fruit_size = pd.Series(['small','not_small','medium','not_small'],index=['tomato','mango','banana','apple'])\n",
    "fruit_data['fruit_size']=fruit_size\n",
    "fruit_data"
   ]
  },
  {
   "cell_type": "code",
   "execution_count": 83,
   "id": "4040301f",
   "metadata": {},
   "outputs": [],
   "source": [
    "new_fruit = [4000,15,'good','medium']\n",
    "fruit_data.loc['grape']=new_fruit"
   ]
  },
  {
   "cell_type": "code",
   "execution_count": 68,
   "id": "548d5de5",
   "metadata": {},
   "outputs": [
    {
     "data": {
      "text/html": [
       "<div>\n",
       "<style scoped>\n",
       "    .dataframe tbody tr th:only-of-type {\n",
       "        vertical-align: middle;\n",
       "    }\n",
       "\n",
       "    .dataframe tbody tr th {\n",
       "        vertical-align: top;\n",
       "    }\n",
       "\n",
       "    .dataframe thead th {\n",
       "        text-align: right;\n",
       "    }\n",
       "</style>\n",
       "<table border=\"1\" class=\"dataframe\">\n",
       "  <thead>\n",
       "    <tr style=\"text-align: right;\">\n",
       "      <th></th>\n",
       "      <th>fruit_price</th>\n",
       "      <th>fruit_qty</th>\n",
       "      <th>fruit_status</th>\n",
       "      <th>fruit_size</th>\n",
       "    </tr>\n",
       "  </thead>\n",
       "  <tbody>\n",
       "    <tr>\n",
       "      <th>apple</th>\n",
       "      <td>2500</td>\n",
       "      <td>4</td>\n",
       "      <td>good</td>\n",
       "      <td>not_small</td>\n",
       "    </tr>\n",
       "    <tr>\n",
       "      <th>banana</th>\n",
       "      <td>3000</td>\n",
       "      <td>5</td>\n",
       "      <td>bad</td>\n",
       "      <td>medium</td>\n",
       "    </tr>\n",
       "    <tr>\n",
       "      <th>mango</th>\n",
       "      <td>1200</td>\n",
       "      <td>10</td>\n",
       "      <td>bad</td>\n",
       "      <td>not_small</td>\n",
       "    </tr>\n",
       "    <tr>\n",
       "      <th>tomato</th>\n",
       "      <td>6000</td>\n",
       "      <td>9</td>\n",
       "      <td>good</td>\n",
       "      <td>small</td>\n",
       "    </tr>\n",
       "    <tr>\n",
       "      <th>grape</th>\n",
       "      <td>4000</td>\n",
       "      <td>15</td>\n",
       "      <td>good</td>\n",
       "      <td>medium</td>\n",
       "    </tr>\n",
       "  </tbody>\n",
       "</table>\n",
       "</div>"
      ],
      "text/plain": [
       "        fruit_price  fruit_qty fruit_status fruit_size\n",
       "apple          2500          4         good  not_small\n",
       "banana         3000          5          bad     medium\n",
       "mango          1200         10          bad  not_small\n",
       "tomato         6000          9         good      small\n",
       "grape          4000         15         good     medium"
      ]
     },
     "execution_count": 68,
     "metadata": {},
     "output_type": "execute_result"
    }
   ],
   "source": [
    "fruit_data"
   ]
  },
  {
   "cell_type": "code",
   "execution_count": 70,
   "id": "345e536c",
   "metadata": {},
   "outputs": [
    {
     "data": {
      "text/html": [
       "<div>\n",
       "<style scoped>\n",
       "    .dataframe tbody tr th:only-of-type {\n",
       "        vertical-align: middle;\n",
       "    }\n",
       "\n",
       "    .dataframe tbody tr th {\n",
       "        vertical-align: top;\n",
       "    }\n",
       "\n",
       "    .dataframe thead th {\n",
       "        text-align: right;\n",
       "    }\n",
       "</style>\n",
       "<table border=\"1\" class=\"dataframe\">\n",
       "  <thead>\n",
       "    <tr style=\"text-align: right;\">\n",
       "      <th></th>\n",
       "      <th>fruit_price</th>\n",
       "      <th>fruit_qty</th>\n",
       "      <th>fruit_status</th>\n",
       "      <th>fruit_size</th>\n",
       "    </tr>\n",
       "  </thead>\n",
       "  <tbody>\n",
       "    <tr>\n",
       "      <th>apple</th>\n",
       "      <td>2500</td>\n",
       "      <td>4</td>\n",
       "      <td>good</td>\n",
       "      <td>not_small</td>\n",
       "    </tr>\n",
       "    <tr>\n",
       "      <th>banana</th>\n",
       "      <td>3000</td>\n",
       "      <td>5</td>\n",
       "      <td>bad</td>\n",
       "      <td>medium</td>\n",
       "    </tr>\n",
       "    <tr>\n",
       "      <th>mango</th>\n",
       "      <td>1200</td>\n",
       "      <td>10</td>\n",
       "      <td>bad</td>\n",
       "      <td>not_small</td>\n",
       "    </tr>\n",
       "    <tr>\n",
       "      <th>tomato</th>\n",
       "      <td>6000</td>\n",
       "      <td>9</td>\n",
       "      <td>good</td>\n",
       "      <td>small</td>\n",
       "    </tr>\n",
       "  </tbody>\n",
       "</table>\n",
       "</div>"
      ],
      "text/plain": [
       "        fruit_price  fruit_qty fruit_status fruit_size\n",
       "apple          2500          4         good  not_small\n",
       "banana         3000          5          bad     medium\n",
       "mango          1200         10          bad  not_small\n",
       "tomato         6000          9         good      small"
      ]
     },
     "execution_count": 70,
     "metadata": {},
     "output_type": "execute_result"
    }
   ],
   "source": [
    "fruit_grape=fruit_data.drop('grape')\n",
    "fruit_grape"
   ]
  },
  {
   "cell_type": "code",
   "execution_count": 84,
   "id": "5985e611",
   "metadata": {},
   "outputs": [],
   "source": [
    "fruit_data2 = fruit_data.drop('fruit_size',axis=1)"
   ]
  },
  {
   "cell_type": "code",
   "execution_count": 86,
   "id": "fb5efee9",
   "metadata": {},
   "outputs": [
    {
     "data": {
      "text/html": [
       "<div>\n",
       "<style scoped>\n",
       "    .dataframe tbody tr th:only-of-type {\n",
       "        vertical-align: middle;\n",
       "    }\n",
       "\n",
       "    .dataframe tbody tr th {\n",
       "        vertical-align: top;\n",
       "    }\n",
       "\n",
       "    .dataframe thead th {\n",
       "        text-align: right;\n",
       "    }\n",
       "</style>\n",
       "<table border=\"1\" class=\"dataframe\">\n",
       "  <thead>\n",
       "    <tr style=\"text-align: right;\">\n",
       "      <th></th>\n",
       "      <th>fruit_price</th>\n",
       "      <th>fruit_qty</th>\n",
       "      <th>fruit_status</th>\n",
       "    </tr>\n",
       "  </thead>\n",
       "  <tbody>\n",
       "    <tr>\n",
       "      <th>apple</th>\n",
       "      <td>2500</td>\n",
       "      <td>4</td>\n",
       "      <td>good</td>\n",
       "    </tr>\n",
       "    <tr>\n",
       "      <th>banana</th>\n",
       "      <td>3000</td>\n",
       "      <td>5</td>\n",
       "      <td>bad</td>\n",
       "    </tr>\n",
       "    <tr>\n",
       "      <th>mango</th>\n",
       "      <td>1200</td>\n",
       "      <td>10</td>\n",
       "      <td>bad</td>\n",
       "    </tr>\n",
       "    <tr>\n",
       "      <th>tomato</th>\n",
       "      <td>6000</td>\n",
       "      <td>9</td>\n",
       "      <td>good</td>\n",
       "    </tr>\n",
       "    <tr>\n",
       "      <th>grape</th>\n",
       "      <td>4000</td>\n",
       "      <td>15</td>\n",
       "      <td>good</td>\n",
       "    </tr>\n",
       "  </tbody>\n",
       "</table>\n",
       "</div>"
      ],
      "text/plain": [
       "        fruit_price  fruit_qty fruit_status\n",
       "apple          2500          4         good\n",
       "banana         3000          5          bad\n",
       "mango          1200         10          bad\n",
       "tomato         6000          9         good\n",
       "grape          4000         15         good"
      ]
     },
     "execution_count": 86,
     "metadata": {},
     "output_type": "execute_result"
    }
   ],
   "source": [
    "fruit_data2"
   ]
  },
  {
   "cell_type": "code",
   "execution_count": 87,
   "id": "db1b888c",
   "metadata": {},
   "outputs": [
    {
     "data": {
      "text/html": [
       "<div>\n",
       "<style scoped>\n",
       "    .dataframe tbody tr th:only-of-type {\n",
       "        vertical-align: middle;\n",
       "    }\n",
       "\n",
       "    .dataframe tbody tr th {\n",
       "        vertical-align: top;\n",
       "    }\n",
       "\n",
       "    .dataframe thead th {\n",
       "        text-align: right;\n",
       "    }\n",
       "</style>\n",
       "<table border=\"1\" class=\"dataframe\">\n",
       "  <thead>\n",
       "    <tr style=\"text-align: right;\">\n",
       "      <th></th>\n",
       "      <th>fruit_price</th>\n",
       "      <th>fruit_qty</th>\n",
       "      <th>fruit_status</th>\n",
       "      <th>fruit_size</th>\n",
       "    </tr>\n",
       "  </thead>\n",
       "  <tbody>\n",
       "    <tr>\n",
       "      <th>banana</th>\n",
       "      <td>3000</td>\n",
       "      <td>5</td>\n",
       "      <td>bad</td>\n",
       "      <td>medium</td>\n",
       "    </tr>\n",
       "    <tr>\n",
       "      <th>grape</th>\n",
       "      <td>4000</td>\n",
       "      <td>15</td>\n",
       "      <td>good</td>\n",
       "      <td>medium</td>\n",
       "    </tr>\n",
       "    <tr>\n",
       "      <th>apple</th>\n",
       "      <td>2500</td>\n",
       "      <td>4</td>\n",
       "      <td>good</td>\n",
       "      <td>not_small</td>\n",
       "    </tr>\n",
       "    <tr>\n",
       "      <th>mango</th>\n",
       "      <td>1200</td>\n",
       "      <td>10</td>\n",
       "      <td>bad</td>\n",
       "      <td>not_small</td>\n",
       "    </tr>\n",
       "    <tr>\n",
       "      <th>tomato</th>\n",
       "      <td>6000</td>\n",
       "      <td>9</td>\n",
       "      <td>good</td>\n",
       "      <td>small</td>\n",
       "    </tr>\n",
       "  </tbody>\n",
       "</table>\n",
       "</div>"
      ],
      "text/plain": [
       "        fruit_price  fruit_qty fruit_status fruit_size\n",
       "banana         3000          5          bad     medium\n",
       "grape          4000         15         good     medium\n",
       "apple          2500          4         good  not_small\n",
       "mango          1200         10          bad  not_small\n",
       "tomato         6000          9         good      small"
      ]
     },
     "execution_count": 87,
     "metadata": {},
     "output_type": "execute_result"
    }
   ],
   "source": [
    "fruit_data.sort_values(by=['fruit_size'])"
   ]
  },
  {
   "cell_type": "code",
   "execution_count": 89,
   "id": "1be2f525",
   "metadata": {},
   "outputs": [
    {
     "data": {
      "text/html": [
       "<div>\n",
       "<style scoped>\n",
       "    .dataframe tbody tr th:only-of-type {\n",
       "        vertical-align: middle;\n",
       "    }\n",
       "\n",
       "    .dataframe tbody tr th {\n",
       "        vertical-align: top;\n",
       "    }\n",
       "\n",
       "    .dataframe thead th {\n",
       "        text-align: right;\n",
       "    }\n",
       "</style>\n",
       "<table border=\"1\" class=\"dataframe\">\n",
       "  <thead>\n",
       "    <tr style=\"text-align: right;\">\n",
       "      <th></th>\n",
       "      <th>fruit_price</th>\n",
       "      <th>fruit_qty</th>\n",
       "      <th>fruit_status</th>\n",
       "      <th>fruit_size</th>\n",
       "    </tr>\n",
       "  </thead>\n",
       "  <tbody>\n",
       "    <tr>\n",
       "      <th>apple</th>\n",
       "      <td>2500</td>\n",
       "      <td>4</td>\n",
       "      <td>good</td>\n",
       "      <td>not_small</td>\n",
       "    </tr>\n",
       "    <tr>\n",
       "      <th>tomato</th>\n",
       "      <td>6000</td>\n",
       "      <td>9</td>\n",
       "      <td>good</td>\n",
       "      <td>small</td>\n",
       "    </tr>\n",
       "    <tr>\n",
       "      <th>grape</th>\n",
       "      <td>4000</td>\n",
       "      <td>15</td>\n",
       "      <td>good</td>\n",
       "      <td>medium</td>\n",
       "    </tr>\n",
       "    <tr>\n",
       "      <th>banana</th>\n",
       "      <td>3000</td>\n",
       "      <td>5</td>\n",
       "      <td>bad</td>\n",
       "      <td>medium</td>\n",
       "    </tr>\n",
       "    <tr>\n",
       "      <th>mango</th>\n",
       "      <td>1200</td>\n",
       "      <td>10</td>\n",
       "      <td>bad</td>\n",
       "      <td>not_small</td>\n",
       "    </tr>\n",
       "  </tbody>\n",
       "</table>\n",
       "</div>"
      ],
      "text/plain": [
       "        fruit_price  fruit_qty fruit_status fruit_size\n",
       "apple          2500          4         good  not_small\n",
       "tomato         6000          9         good      small\n",
       "grape          4000         15         good     medium\n",
       "banana         3000          5          bad     medium\n",
       "mango          1200         10          bad  not_small"
      ]
     },
     "execution_count": 89,
     "metadata": {},
     "output_type": "execute_result"
    }
   ],
   "source": [
    "fruit_data.sort_values(by=['fruit_status'],ascending=False)"
   ]
  },
  {
   "cell_type": "code",
   "execution_count": null,
   "id": "82a86379",
   "metadata": {},
   "outputs": [],
   "source": []
  }
 ],
 "metadata": {
  "kernelspec": {
   "display_name": "Python 3",
   "language": "python",
   "name": "python3"
  },
  "language_info": {
   "codemirror_mode": {
    "name": "ipython",
    "version": 3
   },
   "file_extension": ".py",
   "mimetype": "text/x-python",
   "name": "python",
   "nbconvert_exporter": "python",
   "pygments_lexer": "ipython3",
   "version": "3.8.8"
  }
 },
 "nbformat": 4,
 "nbformat_minor": 5
}
