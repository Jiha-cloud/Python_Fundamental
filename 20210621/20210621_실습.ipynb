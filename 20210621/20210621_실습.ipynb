{
 "cells": [
  {
   "cell_type": "code",
   "execution_count": 1,
   "id": "2dae951b",
   "metadata": {},
   "outputs": [],
   "source": [
    "import pandas as pd"
   ]
  },
  {
   "cell_type": "code",
   "execution_count": 6,
   "id": "a89496ef",
   "metadata": {},
   "outputs": [
    {
     "name": "stdout",
     "output_type": "stream",
     "text": [
      "국어 점수는 = 80\n",
      "영어 점수는 = 50\n",
      "수학 점수는 = 0\n",
      "총 점은 =  130 평균은 =  65.0\n"
     ]
    }
   ],
   "source": [
    "score_korean = int(input(\"국어 점수는 = \"))\n",
    "score_english = int(input(\"영어 점수는 = \"))\n",
    "score_math = int(input(\"수학 점수는 = \"))\n",
    "\n",
    "print(\"총 점은 = \", score_english+score_korean+score_math, \"평균은 = \",\n",
    "     (score_english+score_korean+score_math)/2)"
   ]
  },
  {
   "cell_type": "code",
   "execution_count": 10,
   "id": "40e4f8dd",
   "metadata": {},
   "outputs": [
    {
     "name": "stdout",
     "output_type": "stream",
     "text": [
      "국어 영어 수학 점수를 쉼표로 구분해서 입력하세요 70,50,80\n"
     ]
    },
    {
     "data": {
      "text/plain": [
       "'70,50,80'"
      ]
     },
     "execution_count": 10,
     "metadata": {},
     "output_type": "execute_result"
    }
   ],
   "source": [
    "scores = []\n",
    "scores = input(\"국어 영어 수학 점수를 쉼표로 구분해서 입력하세요 \")\n",
    "scores"
   ]
  },
  {
   "cell_type": "code",
   "execution_count": 37,
   "id": "6e2f2294",
   "metadata": {},
   "outputs": [
    {
     "name": "stdout",
     "output_type": "stream",
     "text": [
      "국어 영어 수학 사회 과학 점수를 쉼표로 구분해서 입력하세요 (0점은 입력하지마) \n",
      "30,80,90,80\n",
      "총 점은 = 280 평균은 = 70.0\n"
     ]
    }
   ],
   "source": [
    "scores = []\n",
    "scores = input(\"국어 영어 수학 사회 과학 점수를 쉼표로 구분해서 입력하세요 (0점은 입력하지마) \\n\")\n",
    "\n",
    "scores_list = scores.split(',')\n",
    "scores_sum = 0\n",
    "for i in range(0,len(scores_list)):\n",
    "    scores_sum = scores_sum + int(scores_list[i])\n",
    "    \n",
    "scores_avg = scores_sum/len(scores_list)\n",
    "\n",
    "print(\"총 점은 = {} 평균은 = {}\".format(scores_sum,round(scores_avg,2)))"
   ]
  },
  {
   "cell_type": "code",
   "execution_count": 38,
   "id": "ef574d01",
   "metadata": {},
   "outputs": [
    {
     "name": "stdout",
     "output_type": "stream",
     "text": [
      "총점은 280점, 평균은 70.0점, 합격입니다.\n"
     ]
    }
   ],
   "source": [
    "if len(scores_list) < 3:\n",
    "    print(\"과목은 3개를 입력하셔야 합니다.\")\n",
    "elif scores_avg >=60:\n",
    "    print(\"총점은 {}점, 평균은 {}점, 합격입니다.\".format(scores_sum,round(scores_avg,2)))\n",
    "elif scores_avg < 60:\n",
    "    print(\"총점은 {}점, 평균은 {:.2f}점, 불합격입니다.\".format(scores_sum,scores_avg))"
   ]
  },
  {
   "cell_type": "code",
   "execution_count": 45,
   "id": "c060b6ae",
   "metadata": {},
   "outputs": [
    {
     "name": "stdout",
     "output_type": "stream",
     "text": [
      "과목당 점수기준 이하로 과락입니다.\n"
     ]
    }
   ],
   "source": [
    "sta = 0\n",
    "for i in range(0,len(scores_list)):\n",
    "    if int(scores_list[i])<=40:\n",
    "        print(\"과목당 점수기준 이하로 과락입니다.\")\n",
    "        sta = sta - 1\n",
    "    sta = sta + 1\n",
    "    \n",
    "if scores_avg <= 60:\n",
    "    print(\"평균 점수 {}으로 평균 점수 기준 이하로 불합격입니다.\".format(round(scores_avg,2)))\n",
    "elif sta == len(scores_list) and scores_avg > 60:\n",
    "    print(\"평균 점수 {}으로 합격입니다.\".format(round(scores_avg,2)))"
   ]
  },
  {
   "cell_type": "code",
   "execution_count": null,
   "id": "50cfc83a",
   "metadata": {},
   "outputs": [],
   "source": []
  }
 ],
 "metadata": {
  "kernelspec": {
   "display_name": "Python 3",
   "language": "python",
   "name": "python3"
  },
  "language_info": {
   "codemirror_mode": {
    "name": "ipython",
    "version": 3
   },
   "file_extension": ".py",
   "mimetype": "text/x-python",
   "name": "python",
   "nbconvert_exporter": "python",
   "pygments_lexer": "ipython3",
   "version": "3.8.8"
  }
 },
 "nbformat": 4,
 "nbformat_minor": 5
}
