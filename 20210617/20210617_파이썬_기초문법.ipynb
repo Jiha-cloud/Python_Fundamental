{
 "cells": [
  {
   "cell_type": "code",
   "execution_count": 2,
   "id": "4314ba76",
   "metadata": {},
   "outputs": [
    {
     "name": "stdout",
     "output_type": "stream",
     "text": [
      "a+b =  10\n",
      "a-b = 4\n",
      "a*b = 21\n"
     ]
    }
   ],
   "source": [
    "a=7 ; b=3\n",
    "print(\"a+b = \", a+b)\n",
    "print(\"a-b = {}\".format(a-b))\n",
    "print(\"a*b = {}\".format(a*b))"
   ]
  },
  {
   "cell_type": "code",
   "execution_count": 3,
   "id": "2192ba05",
   "metadata": {},
   "outputs": [
    {
     "name": "stdout",
     "output_type": "stream",
     "text": [
      "2\n",
      "1\n"
     ]
    }
   ],
   "source": [
    "a=7 ; b=3\n",
    "print(a//b)\n",
    "print(a%b)"
   ]
  },
  {
   "cell_type": "code",
   "execution_count": 4,
   "id": "f9d40ac1",
   "metadata": {},
   "outputs": [],
   "source": [
    "temp = \"python master\""
   ]
  },
  {
   "cell_type": "code",
   "execution_count": 5,
   "id": "444d2251",
   "metadata": {},
   "outputs": [
    {
     "data": {
      "text/plain": [
       "'pytho'"
      ]
     },
     "execution_count": 5,
     "metadata": {},
     "output_type": "execute_result"
    }
   ],
   "source": [
    "temp[0:5]"
   ]
  },
  {
   "cell_type": "code",
   "execution_count": 6,
   "id": "b1e3d032",
   "metadata": {},
   "outputs": [
    {
     "data": {
      "text/plain": [
       "13"
      ]
     },
     "execution_count": 6,
     "metadata": {},
     "output_type": "execute_result"
    }
   ],
   "source": [
    "len(temp)"
   ]
  },
  {
   "cell_type": "code",
   "execution_count": 9,
   "id": "9fd24426",
   "metadata": {},
   "outputs": [
    {
     "data": {
      "text/plain": [
       "['python', 'master']"
      ]
     },
     "execution_count": 9,
     "metadata": {},
     "output_type": "execute_result"
    }
   ],
   "source": [
    "temp.split(\" \")"
   ]
  },
  {
   "cell_type": "markdown",
   "id": "607790d2",
   "metadata": {},
   "source": [
    "temp2 = \"python is easy\""
   ]
  },
  {
   "cell_type": "code",
   "execution_count": 10,
   "id": "66eb02e8",
   "metadata": {},
   "outputs": [],
   "source": [
    "temp2 = \"python is easy\""
   ]
  },
  {
   "cell_type": "code",
   "execution_count": 11,
   "id": "71aec94b",
   "metadata": {},
   "outputs": [
    {
     "data": {
      "text/plain": [
       "['python', 'is', 'easy']"
      ]
     },
     "execution_count": 11,
     "metadata": {},
     "output_type": "execute_result"
    }
   ],
   "source": [
    "temp2.split(\" \")"
   ]
  },
  {
   "cell_type": "code",
   "execution_count": 19,
   "id": "67b0f894",
   "metadata": {},
   "outputs": [],
   "source": [
    "temp3 = temp2.split()"
   ]
  },
  {
   "cell_type": "code",
   "execution_count": 13,
   "id": "c70fb6b6",
   "metadata": {},
   "outputs": [],
   "source": [
    "temp3 = \"저녁시간대4호선동대문역사문화공원역\""
   ]
  },
  {
   "cell_type": "code",
   "execution_count": 14,
   "id": "40077258",
   "metadata": {},
   "outputs": [],
   "source": [
    "timeZone = temp3[0:5]\n",
    "lineNum = temp3[5:8]\n",
    "stationeName = temp3[8:]"
   ]
  },
  {
   "cell_type": "code",
   "execution_count": 18,
   "id": "d087b61d",
   "metadata": {},
   "outputs": [
    {
     "name": "stdout",
     "output_type": "stream",
     "text": [
      "저녁시간대의 4호선 중 동대문역사문화공원역은 정말 타기 싫다\n"
     ]
    }
   ],
   "source": [
    "print(timeZone + \"의 \" + lineNum + \" 중 \" + stationeName + \"은 정말 타기 싫다\")"
   ]
  },
  {
   "cell_type": "code",
   "execution_count": 21,
   "id": "880042fa",
   "metadata": {},
   "outputs": [
    {
     "data": {
      "text/plain": [
       "'python;;;;is;;;;easy'"
      ]
     },
     "execution_count": 21,
     "metadata": {},
     "output_type": "execute_result"
    }
   ],
   "source": [
    "\";;;;\".join(temp3)"
   ]
  },
  {
   "cell_type": "code",
   "execution_count": null,
   "id": "b6311dc9",
   "metadata": {},
   "outputs": [],
   "source": []
  }
 ],
 "metadata": {
  "kernelspec": {
   "display_name": "Python 3",
   "language": "python",
   "name": "python3"
  },
  "language_info": {
   "codemirror_mode": {
    "name": "ipython",
    "version": 3
   },
   "file_extension": ".py",
   "mimetype": "text/x-python",
   "name": "python",
   "nbconvert_exporter": "python",
   "pygments_lexer": "ipython3",
   "version": "3.8.8"
  }
 },
 "nbformat": 4,
 "nbformat_minor": 5
}
