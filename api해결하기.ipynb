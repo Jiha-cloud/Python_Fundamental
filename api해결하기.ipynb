{
 "cells": [
  {
   "cell_type": "code",
   "execution_count": 1,
   "id": "833d7083",
   "metadata": {},
   "outputs": [],
   "source": [
    "def divide(x,y):\n",
    "    try:\n",
    "        result = x/y\n",
    "    except ZeroDivisionError:\n",
    "        print('0으로 나눌수 없음')\n",
    "    except TypeError:\n",
    "        print('Type Error')\n",
    "    else:\n",
    "        print('결과 = ', result)\n",
    "    finally:\n",
    "        print('마지막 무조건 실행')"
   ]
  },
  {
   "cell_type": "code",
   "execution_count": 2,
   "id": "c5098d6d",
   "metadata": {},
   "outputs": [
    {
     "name": "stdout",
     "output_type": "stream",
     "text": [
      "Type Error\n",
      "마지막 무조건 실행\n"
     ]
    }
   ],
   "source": [
    "divide(2,\"2\")"
   ]
  },
  {
   "cell_type": "code",
   "execution_count": 4,
   "id": "997a2dc7",
   "metadata": {},
   "outputs": [
    {
     "name": "stdout",
     "output_type": "stream",
     "text": [
      "0으로 나눌수 없음\n",
      "마지막 무조건 실행\n"
     ]
    }
   ],
   "source": [
    "divide(2,0)"
   ]
  },
  {
   "cell_type": "code",
   "execution_count": 5,
   "id": "5b0c3819",
   "metadata": {},
   "outputs": [
    {
     "name": "stdout",
     "output_type": "stream",
     "text": [
      "결과 =  1.0\n",
      "마지막 무조건 실행\n"
     ]
    }
   ],
   "source": [
    "divide(2,2)"
   ]
  },
  {
   "cell_type": "code",
   "execution_count": 6,
   "id": "828fb6ec",
   "metadata": {},
   "outputs": [],
   "source": [
    "# 공공데이터 포털\n",
    "# 1. open Api 활용가이드\n",
    "# 2. 인증키 복사\n",
    "# 3. End Point = 기본 url + 컨텐츠 url + parameter"
   ]
  },
  {
   "cell_type": "code",
   "execution_count": 102,
   "id": "3cc37235",
   "metadata": {},
   "outputs": [],
   "source": [
    "mykey = 'Ja%2ByZ1NV%2FSDpNnMh3lLBk3W0O5FUAjNBEUrUT6UtkiOCcbCygYRerhQs7z5jEMaV%2FuMQBR0QfwrnKklJs6IUtQ%3D%3D'\n",
    "end_point = 'http://apis.data.go.kr/B553077/api/open/sdsc'"
   ]
  },
  {
   "cell_type": "code",
   "execution_count": 128,
   "id": "18e351c8",
   "metadata": {},
   "outputs": [],
   "source": [
    "op_url = '/storeZoneInRadius?radius=500&cx=127.004528&cy=37.567538&ServiceKey='"
   ]
  },
  {
   "cell_type": "code",
   "execution_count": 129,
   "id": "6795c60a",
   "metadata": {},
   "outputs": [],
   "source": [
    "data_type='&type=json'"
   ]
  },
  {
   "cell_type": "code",
   "execution_count": 130,
   "id": "20734562",
   "metadata": {},
   "outputs": [
    {
     "name": "stdout",
     "output_type": "stream",
     "text": [
      "http://apis.data.go.kr/B553077/api/open/sdsc/storeZoneInRadius?radius=500&cx=127.004528&cy=37.567538&ServiceKey=Ja%2ByZ1NV%2FSDpNnMh3lLBk3W0O5FUAjNBEUrUT6UtkiOCcbCygYRerhQs7z5jEMaV%2FuMQBR0QfwrnKklJs6IUtQ%3D%3D&type=json\n"
     ]
    }
   ],
   "source": [
    "url = end_point + op_url + mykey + data_type\n",
    "print(url)"
   ]
  },
  {
   "cell_type": "code",
   "execution_count": 131,
   "id": "a86858f3",
   "metadata": {},
   "outputs": [],
   "source": [
    "import urllib.request"
   ]
  },
  {
   "cell_type": "code",
   "execution_count": 132,
   "id": "15577060",
   "metadata": {},
   "outputs": [
    {
     "data": {
      "text/plain": [
       "<http.client.HTTPResponse at 0x263c981ad60>"
      ]
     },
     "execution_count": 132,
     "metadata": {},
     "output_type": "execute_result"
    }
   ],
   "source": [
    "res = urllib.request.urlopen(url)\n",
    "res"
   ]
  },
  {
   "cell_type": "code",
   "execution_count": 133,
   "id": "9e775901",
   "metadata": {},
   "outputs": [
    {
     "data": {
      "text/plain": [
       "str"
      ]
     },
     "execution_count": 133,
     "metadata": {},
     "output_type": "execute_result"
    }
   ],
   "source": [
    "json_str = res.read().decode('utf-8')\n",
    "type(json_str)"
   ]
  },
  {
   "cell_type": "code",
   "execution_count": 134,
   "id": "f4985c3c",
   "metadata": {},
   "outputs": [
    {
     "data": {
      "text/plain": [
       "'{\\n\\t\"header\" : {\\n\\t\\t\"description\" : \"소상공인시장진흥공단 주요상권\"\\n\\t\\t,\"resultCode\" : \"00\"\\n\\t\\t,\"resultMsg\" : \"NORMAL '"
      ]
     },
     "execution_count": 134,
     "metadata": {},
     "output_type": "execute_result"
    }
   ],
   "source": [
    "json_str[:100]"
   ]
  },
  {
   "cell_type": "code",
   "execution_count": 135,
   "id": "392db20d",
   "metadata": {},
   "outputs": [
    {
     "name": "stdout",
     "output_type": "stream",
     "text": [
      "type=  {'header': {'description': '소상공인시장진흥공단 주요상권', 'resultCode': '00', 'resultMsg': 'NORMAL SERVICE'}, 'body': {'items': [{'trarNo': 2214, 'mainTrarNm': '을지로4가역', 'ctprvnCd': '11', 'ctprvnNm': '서울특별시', 'signguCd': '11140', 'signguNm': '중구', 'trarArea': 88434.9, 'coordNum': 8, 'coords': 'POLYGON ((126.999081 37.566789, 127.002102 37.566937, 127.001981 37.568644, 127.001871 37.568655, 127.001873 37.569521, 126.998065 37.568812, 126.998213 37.566753, 126.999081 37.566789))', 'stdrDt': '2021-03-31'}, {'trarNo': 2216, 'mainTrarNm': '동대문시장', 'ctprvnCd': '11', 'ctprvnNm': '서울특별시', 'signguCd': '11140', 'signguNm': '중구', 'trarArea': 68658, 'coordNum': 15, 'coords': 'POLYGON ((127.009453 37.568775, 127.009445 37.569396, 127.009558 37.569397, 127.009543 37.569686, 127.00659 37.569553, 127.006688 37.568112, 127.007709 37.567931, 127.007098 37.567124, 127.006951 37.56706, 127.006146 37.56717, 127.005929 37.566438, 127.007632 37.56611, 127.008198 37.566935, 127.008107 37.566979, 127.009453 37.568775))', 'stdrDt': '2021-03-31'}, {'trarNo': 2207, 'mainTrarNm': '동대문역사문화공원역', 'ctprvnCd': '11', 'ctprvnNm': '서울특별시', 'signguCd': '11140', 'signguNm': '중구', 'trarArea': 81499.1, 'coordNum': 8, 'coords': 'POLYGON ((127.007565 37.565945, 127.004846 37.566394, 127.002877 37.566759, 127.002341 37.566737, 127.00252 37.5647, 127.004682 37.564852, 127.007062 37.564448, 127.007565 37.565945))', 'stdrDt': '2021-03-31'}, {'trarNo': 2226, 'mainTrarNm': '동대문시장', 'ctprvnCd': '11', 'ctprvnNm': '서울특별시', 'signguCd': '11110', 'signguNm': '종로구', 'trarArea': 82364.6, 'coordNum': 28, 'coords': 'POLYGON ((127.009388 37.570565, 127.008984 37.571182, 127.008537 37.57103, 127.006426 37.570998, 127.00658 37.570351, 127.006482 37.570257, 127.006356 37.570327, 127.006198 37.57099, 127.005964 37.570986, 127.005915 37.570267, 127.005804 37.570193, 127.005691 37.570283, 127.005737 37.570983, 127.005376 37.570977, 127.005356 37.570376, 127.005244 37.570291, 127.00513 37.570373, 127.005149 37.570973, 127.003561 37.570947, 127.003571 37.570412, 127.003461 37.570336, 127.003348 37.570409, 127.003335 37.570944, 127.002014 37.570911, 127.002118 37.569718, 127.006712 37.569739, 127.009542 37.569875, 127.009388 37.570565))', 'stdrDt': '2021-03-31'}, {'trarNo': 2225, 'mainTrarNm': '서울 종로구 종로5가역_1', 'ctprvnCd': '11', 'ctprvnNm': '서울특별시', 'signguCd': '11110', 'signguNm': '종로구', 'trarArea': 50246.7, 'coordNum': 20, 'coords': 'POLYGON ((127.001795 37.57082, 127.000088 37.570774, 127.000052 37.570281, 126.999763 37.57022, 126.99964 37.570323, 126.999836 37.570406, 126.999859 37.570757, 126.999321 37.570717, 126.999367 37.570303, 126.999265 37.570221, 126.999145 37.570287, 126.999096 37.5707, 126.999078 37.570524, 126.99887 37.570325, 126.998761 37.570381, 126.998725 37.570672, 126.997866 37.570624, 126.998052 37.568996, 127.001892 37.569705, 127.001795 37.57082))', 'stdrDt': '2021-03-31'}]}}\n"
     ]
    }
   ],
   "source": [
    "# 문자열을 json으로 변환\n",
    "import json\n",
    "json_object = json.loads(json_str)\n",
    "print('type= ',json_object)"
   ]
  },
  {
   "cell_type": "code",
   "execution_count": 136,
   "id": "4a404cb5",
   "metadata": {},
   "outputs": [
    {
     "data": {
      "text/plain": [
       "dict_keys(['header', 'body'])"
      ]
     },
     "execution_count": 136,
     "metadata": {},
     "output_type": "execute_result"
    }
   ],
   "source": [
    "json_object.keys()"
   ]
  },
  {
   "cell_type": "code",
   "execution_count": 137,
   "id": "09d40aa6",
   "metadata": {},
   "outputs": [
    {
     "data": {
      "text/plain": [
       "{'description': '소상공인시장진흥공단 주요상권',\n",
       " 'resultCode': '00',\n",
       " 'resultMsg': 'NORMAL SERVICE'}"
      ]
     },
     "execution_count": 137,
     "metadata": {},
     "output_type": "execute_result"
    }
   ],
   "source": [
    "json_object['header']"
   ]
  },
  {
   "cell_type": "code",
   "execution_count": 140,
   "id": "05e69f1f",
   "metadata": {},
   "outputs": [
    {
     "data": {
      "text/plain": [
       "[{'trarNo': 2214,\n",
       "  'mainTrarNm': '을지로4가역',\n",
       "  'ctprvnCd': '11',\n",
       "  'ctprvnNm': '서울특별시',\n",
       "  'signguCd': '11140',\n",
       "  'signguNm': '중구',\n",
       "  'trarArea': 88434.9,\n",
       "  'coordNum': 8,\n",
       "  'coords': 'POLYGON ((126.999081 37.566789, 127.002102 37.566937, 127.001981 37.568644, 127.001871 37.568655, 127.001873 37.569521, 126.998065 37.568812, 126.998213 37.566753, 126.999081 37.566789))',\n",
       "  'stdrDt': '2021-03-31'},\n",
       " {'trarNo': 2216,\n",
       "  'mainTrarNm': '동대문시장',\n",
       "  'ctprvnCd': '11',\n",
       "  'ctprvnNm': '서울특별시',\n",
       "  'signguCd': '11140',\n",
       "  'signguNm': '중구',\n",
       "  'trarArea': 68658,\n",
       "  'coordNum': 15,\n",
       "  'coords': 'POLYGON ((127.009453 37.568775, 127.009445 37.569396, 127.009558 37.569397, 127.009543 37.569686, 127.00659 37.569553, 127.006688 37.568112, 127.007709 37.567931, 127.007098 37.567124, 127.006951 37.56706, 127.006146 37.56717, 127.005929 37.566438, 127.007632 37.56611, 127.008198 37.566935, 127.008107 37.566979, 127.009453 37.568775))',\n",
       "  'stdrDt': '2021-03-31'},\n",
       " {'trarNo': 2207,\n",
       "  'mainTrarNm': '동대문역사문화공원역',\n",
       "  'ctprvnCd': '11',\n",
       "  'ctprvnNm': '서울특별시',\n",
       "  'signguCd': '11140',\n",
       "  'signguNm': '중구',\n",
       "  'trarArea': 81499.1,\n",
       "  'coordNum': 8,\n",
       "  'coords': 'POLYGON ((127.007565 37.565945, 127.004846 37.566394, 127.002877 37.566759, 127.002341 37.566737, 127.00252 37.5647, 127.004682 37.564852, 127.007062 37.564448, 127.007565 37.565945))',\n",
       "  'stdrDt': '2021-03-31'},\n",
       " {'trarNo': 2226,\n",
       "  'mainTrarNm': '동대문시장',\n",
       "  'ctprvnCd': '11',\n",
       "  'ctprvnNm': '서울특별시',\n",
       "  'signguCd': '11110',\n",
       "  'signguNm': '종로구',\n",
       "  'trarArea': 82364.6,\n",
       "  'coordNum': 28,\n",
       "  'coords': 'POLYGON ((127.009388 37.570565, 127.008984 37.571182, 127.008537 37.57103, 127.006426 37.570998, 127.00658 37.570351, 127.006482 37.570257, 127.006356 37.570327, 127.006198 37.57099, 127.005964 37.570986, 127.005915 37.570267, 127.005804 37.570193, 127.005691 37.570283, 127.005737 37.570983, 127.005376 37.570977, 127.005356 37.570376, 127.005244 37.570291, 127.00513 37.570373, 127.005149 37.570973, 127.003561 37.570947, 127.003571 37.570412, 127.003461 37.570336, 127.003348 37.570409, 127.003335 37.570944, 127.002014 37.570911, 127.002118 37.569718, 127.006712 37.569739, 127.009542 37.569875, 127.009388 37.570565))',\n",
       "  'stdrDt': '2021-03-31'},\n",
       " {'trarNo': 2225,\n",
       "  'mainTrarNm': '서울 종로구 종로5가역_1',\n",
       "  'ctprvnCd': '11',\n",
       "  'ctprvnNm': '서울특별시',\n",
       "  'signguCd': '11110',\n",
       "  'signguNm': '종로구',\n",
       "  'trarArea': 50246.7,\n",
       "  'coordNum': 20,\n",
       "  'coords': 'POLYGON ((127.001795 37.57082, 127.000088 37.570774, 127.000052 37.570281, 126.999763 37.57022, 126.99964 37.570323, 126.999836 37.570406, 126.999859 37.570757, 126.999321 37.570717, 126.999367 37.570303, 126.999265 37.570221, 126.999145 37.570287, 126.999096 37.5707, 126.999078 37.570524, 126.99887 37.570325, 126.998761 37.570381, 126.998725 37.570672, 126.997866 37.570624, 126.998052 37.568996, 127.001892 37.569705, 127.001795 37.57082))',\n",
       "  'stdrDt': '2021-03-31'}]"
      ]
     },
     "execution_count": 140,
     "metadata": {},
     "output_type": "execute_result"
    }
   ],
   "source": [
    "json_object['body']['items']"
   ]
  },
  {
   "cell_type": "code",
   "execution_count": 146,
   "id": "9c9f4178",
   "metadata": {},
   "outputs": [
    {
     "ename": "TypeError",
     "evalue": "list indices must be integers or slices, not str",
     "output_type": "error",
     "traceback": [
      "\u001b[1;31m---------------------------------------------------------------------------\u001b[0m",
      "\u001b[1;31mTypeError\u001b[0m                                 Traceback (most recent call last)",
      "\u001b[1;32m<ipython-input-146-c966ad238dca>\u001b[0m in \u001b[0;36m<module>\u001b[1;34m\u001b[0m\n\u001b[1;32m----> 1\u001b[1;33m \u001b[0mjson_object\u001b[0m\u001b[1;33m[\u001b[0m\u001b[1;34m'body'\u001b[0m\u001b[1;33m]\u001b[0m\u001b[1;33m[\u001b[0m\u001b[1;34m'items'\u001b[0m\u001b[1;33m]\u001b[0m\u001b[1;33m[\u001b[0m\u001b[1;34m'trarNo'\u001b[0m\u001b[1;33m]\u001b[0m\u001b[1;33m\u001b[0m\u001b[1;33m\u001b[0m\u001b[0m\n\u001b[0m",
      "\u001b[1;31mTypeError\u001b[0m: list indices must be integers or slices, not str"
     ]
    }
   ],
   "source": [
    "json_object['body']['items']['trarNo']"
   ]
  },
  {
   "cell_type": "code",
   "execution_count": null,
   "id": "3bb25a43",
   "metadata": {},
   "outputs": [],
   "source": [
    "for item in json_object['body']['items']:\n",
    "    "
   ]
  }
 ],
 "metadata": {
  "kernelspec": {
   "display_name": "Python 3",
   "language": "python",
   "name": "python3"
  },
  "language_info": {
   "codemirror_mode": {
    "name": "ipython",
    "version": 3
   },
   "file_extension": ".py",
   "mimetype": "text/x-python",
   "name": "python",
   "nbconvert_exporter": "python",
   "pygments_lexer": "ipython3",
   "version": "3.8.8"
  }
 },
 "nbformat": 4,
 "nbformat_minor": 5
}
