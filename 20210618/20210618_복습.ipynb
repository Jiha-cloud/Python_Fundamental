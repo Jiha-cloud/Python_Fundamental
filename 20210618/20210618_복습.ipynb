{
 "cells": [
  {
   "cell_type": "code",
   "execution_count": 1,
   "id": "38d8d325",
   "metadata": {},
   "outputs": [],
   "source": [
    "num = '970102-1122113'"
   ]
  },
  {
   "cell_type": "code",
   "execution_count": 2,
   "id": "96ca621a",
   "metadata": {},
   "outputs": [
    {
     "data": {
      "text/plain": [
       "['970102', '1122113']"
      ]
     },
     "execution_count": 2,
     "metadata": {},
     "output_type": "execute_result"
    }
   ],
   "source": [
    "num[0:6]\n",
    "num.split('-')"
   ]
  },
  {
   "cell_type": "code",
   "execution_count": 3,
   "id": "52bd7638",
   "metadata": {},
   "outputs": [
    {
     "data": {
      "text/plain": [
       "'970102'"
      ]
     },
     "execution_count": 3,
     "metadata": {},
     "output_type": "execute_result"
    }
   ],
   "source": [
    "num[0:6]"
   ]
  },
  {
   "cell_type": "code",
   "execution_count": 4,
   "id": "1c074782",
   "metadata": {},
   "outputs": [
    {
     "ename": "SyntaxError",
     "evalue": "invalid syntax (<ipython-input-4-769d571b7902>, line 1)",
     "output_type": "error",
     "traceback": [
      "\u001b[1;36m  File \u001b[1;32m\"<ipython-input-4-769d571b7902>\"\u001b[1;36m, line \u001b[1;32m1\u001b[0m\n\u001b[1;33m    num.split('-').[0]\u001b[0m\n\u001b[1;37m                   ^\u001b[0m\n\u001b[1;31mSyntaxError\u001b[0m\u001b[1;31m:\u001b[0m invalid syntax\n"
     ]
    }
   ],
   "source": [
    "num.split('-').[0]"
   ]
  },
  {
   "cell_type": "code",
   "execution_count": 5,
   "id": "341144a6",
   "metadata": {},
   "outputs": [
    {
     "data": {
      "text/plain": [
       "'970102'"
      ]
     },
     "execution_count": 5,
     "metadata": {},
     "output_type": "execute_result"
    }
   ],
   "source": [
    "num.split('-')[0]"
   ]
  },
  {
   "cell_type": "code",
   "execution_count": 6,
   "id": "d6e081fb",
   "metadata": {},
   "outputs": [
    {
     "ename": "NameError",
     "evalue": "name 'data' is not defined",
     "output_type": "error",
     "traceback": [
      "\u001b[1;31m---------------------------------------------------------------------------\u001b[0m",
      "\u001b[1;31mNameError\u001b[0m                                 Traceback (most recent call last)",
      "\u001b[1;32m<ipython-input-6-13c3ce62e88c>\u001b[0m in \u001b[0;36m<module>\u001b[1;34m\u001b[0m\n\u001b[0;32m      3\u001b[0m \u001b[0mweather\u001b[0m \u001b[1;33m=\u001b[0m \u001b[0ma1\u001b[0m\u001b[1;33m[\u001b[0m\u001b[1;36m8\u001b[0m\u001b[1;33m:\u001b[0m\u001b[1;33m]\u001b[0m\u001b[1;33m\u001b[0m\u001b[1;33m\u001b[0m\u001b[0m\n\u001b[0;32m      4\u001b[0m \u001b[1;33m\u001b[0m\u001b[0m\n\u001b[1;32m----> 5\u001b[1;33m \u001b[0mprint\u001b[0m\u001b[1;33m(\u001b[0m\u001b[1;34m\"날짜 : \"\u001b[0m \u001b[1;33m+\u001b[0m \u001b[0mdata\u001b[0m \u001b[1;33m+\u001b[0m \u001b[1;34m\" 날씨 : \"\u001b[0m \u001b[1;33m+\u001b[0m \u001b[0mweather\u001b[0m\u001b[1;33m)\u001b[0m\u001b[1;33m\u001b[0m\u001b[1;33m\u001b[0m\u001b[0m\n\u001b[0m",
      "\u001b[1;31mNameError\u001b[0m: name 'data' is not defined"
     ]
    }
   ],
   "source": [
    "a1 = '20010331Rainy'\n",
    "date = a1[0:8]\n",
    "weather = a1[8:]\n",
    "\n",
    "print(\"날짜 : \" + data + \" 날씨 : \" + weather)"
   ]
  },
  {
   "cell_type": "code",
   "execution_count": 7,
   "id": "16e5b483",
   "metadata": {},
   "outputs": [
    {
     "name": "stdout",
     "output_type": "stream",
     "text": [
      "날짜 : 20010331 날씨 : Rainy\n"
     ]
    }
   ],
   "source": [
    "print(\"날짜 : \" + date+ \" 날씨 : \" + weather)"
   ]
  },
  {
   "cell_type": "code",
   "execution_count": 8,
   "id": "c5bb2e00",
   "metadata": {},
   "outputs": [
    {
     "name": "stdout",
     "output_type": "stream",
     "text": [
      "2001 0331\n"
     ]
    }
   ],
   "source": [
    "year = a1[:4] ; day = a1[4:8]\n",
    "print(year, day)"
   ]
  },
  {
   "cell_type": "code",
   "execution_count": 12,
   "id": "dc31f11d",
   "metadata": {},
   "outputs": [
    {
     "data": {
      "text/plain": [
       "'Python'"
      ]
     },
     "execution_count": 12,
     "metadata": {},
     "output_type": "execute_result"
    }
   ],
   "source": [
    "a2 = 'Pithon'\n",
    "a2.replace('Pithon','Python')"
   ]
  },
  {
   "cell_type": "code",
   "execution_count": 13,
   "id": "d5ff560f",
   "metadata": {},
   "outputs": [
    {
     "name": "stdout",
     "output_type": "stream",
     "text": [
      "Life\n"
     ]
    }
   ],
   "source": [
    "a3 = [1,2,['a','b',['Life','is']]]\n",
    "print(a3[2][2][0])"
   ]
  },
  {
   "cell_type": "code",
   "execution_count": null,
   "id": "05055e2e",
   "metadata": {},
   "outputs": [],
   "source": []
  }
 ],
 "metadata": {
  "kernelspec": {
   "display_name": "Python 3",
   "language": "python",
   "name": "python3"
  },
  "language_info": {
   "codemirror_mode": {
    "name": "ipython",
    "version": 3
   },
   "file_extension": ".py",
   "mimetype": "text/x-python",
   "name": "python",
   "nbconvert_exporter": "python",
   "pygments_lexer": "ipython3",
   "version": "3.8.8"
  }
 },
 "nbformat": 4,
 "nbformat_minor": 5
}
