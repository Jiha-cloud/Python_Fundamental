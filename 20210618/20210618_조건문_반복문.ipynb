{
 "cells": [
  {
   "cell_type": "markdown",
   "id": "3486be54",
   "metadata": {},
   "source": []
  },
  {
   "cell_type": "code",
   "execution_count": 3,
   "id": "32fdd101",
   "metadata": {
    "scrolled": true
   },
   "outputs": [
    {
     "name": "stdout",
     "output_type": "stream",
     "text": [
      "공부하자.....\n"
     ]
    }
   ],
   "source": [
    "if(True):\n",
    "    print('공부하자.....')"
   ]
  },
  {
   "cell_type": "markdown",
   "id": "31673798",
   "metadata": {},
   "source": [
    "a = [10,20,30,40,50,60]\n",
    "if(a in [10,30,50]):\n",
    "    print('있다고')"
   ]
  },
  {
   "cell_type": "code",
   "execution_count": 6,
   "id": "cfca6b55",
   "metadata": {},
   "outputs": [],
   "source": [
    "a = [10,20,30,40,50,60] \n",
    "if(a in [10,30,50]): \n",
    "    print('있다고')"
   ]
  },
  {
   "cell_type": "code",
   "execution_count": 7,
   "id": "9e7b24ce",
   "metadata": {},
   "outputs": [
    {
     "data": {
      "text/plain": [
       "False"
      ]
     },
     "execution_count": 7,
     "metadata": {},
     "output_type": "execute_result"
    }
   ],
   "source": [
    "a in (10,30,50)"
   ]
  },
  {
   "cell_type": "code",
   "execution_count": 8,
   "id": "aa0008f8",
   "metadata": {},
   "outputs": [
    {
     "data": {
      "text/plain": [
       "False"
      ]
     },
     "execution_count": 8,
     "metadata": {},
     "output_type": "execute_result"
    }
   ],
   "source": [
    "a in (10,20,30)"
   ]
  },
  {
   "cell_type": "code",
   "execution_count": 9,
   "id": "4c58d62a",
   "metadata": {},
   "outputs": [
    {
     "data": {
      "text/plain": [
       "False"
      ]
     },
     "execution_count": 9,
     "metadata": {},
     "output_type": "execute_result"
    }
   ],
   "source": [
    "a in [10,20,30]"
   ]
  },
  {
   "cell_type": "code",
   "execution_count": 13,
   "id": "10d58a00",
   "metadata": {},
   "outputs": [
    {
     "data": {
      "text/plain": [
       "[1, 5, 6, 7, 8, 9, 2, 3, 4]"
      ]
     },
     "execution_count": 13,
     "metadata": {},
     "output_type": "execute_result"
    }
   ],
   "source": [
    "a = []\n",
    "for i in range(1,10):\n",
    "    a.append(i)\n",
    "    \n",
    "for i in range(2,5):\n",
    "    a.remove(i)\n",
    "    a.append(i)\n",
    "    \n",
    "a"
   ]
  },
  {
   "cell_type": "code",
   "execution_count": 17,
   "id": "4dde66b0",
   "metadata": {},
   "outputs": [
    {
     "name": "stdout",
     "output_type": "stream",
     "text": [
      "apple\n",
      "peer\n",
      "cherry\n",
      "banana\n",
      "2000\n",
      "3500\n",
      "4500\n",
      "1500\n",
      "('apple', 2000)\n",
      "('peer', 3500)\n",
      "('cherry', 4500)\n",
      "('banana', 1500)\n"
     ]
    }
   ],
   "source": [
    "fruit_price = {'apple':2000 , 'peer':3500, 'cherry':4500, 'banana':1500}\n",
    "for i in fruit_price.keys():\n",
    "    print(i)\n",
    "    \n",
    "for i in fruit_price.values():\n",
    "    print(i)\n",
    "    "
   ]
  },
  {
   "cell_type": "code",
   "execution_count": 38,
   "id": "e170a07e",
   "metadata": {},
   "outputs": [
    {
     "name": "stdout",
     "output_type": "stream",
     "text": [
      "['peer', 'cherry']\n",
      "\n",
      "\n",
      "['apple', 'banana']\n"
     ]
    }
   ],
   "source": [
    "high_price = []\n",
    "low_price = []\n",
    "for item in fruit_price.items():\n",
    "    if item[1] > 3000:\n",
    "        high_price.append(item[0])\n",
    "    else:\n",
    "        low_price.append(item[0])\n",
    "        \n",
    "print(high_price)\n",
    "print('\\n')\n",
    "print(low_price)"
   ]
  },
  {
   "cell_type": "code",
   "execution_count": 39,
   "id": "2c24b019",
   "metadata": {},
   "outputs": [
    {
     "data": {
      "text/plain": [
       "1"
      ]
     },
     "execution_count": 39,
     "metadata": {},
     "output_type": "execute_result"
    }
   ],
   "source": [
    "1"
   ]
  },
  {
   "cell_type": "code",
   "execution_count": 45,
   "id": "cc44e119",
   "metadata": {},
   "outputs": [
    {
     "name": "stdout",
     "output_type": "stream",
     "text": [
      "숫자는? 3\n",
      "3 는 양수입니다.\n"
     ]
    }
   ],
   "source": [
    "x = int(input(\"숫자는? \"))\n",
    "if x < 0:\n",
    "    print(x , \"는 음수입니다.\")\n",
    "elif x == 0:\n",
    "    print(x , \"는 0입니다.\")\n",
    "else:\n",
    "    print(x , \"는 양수입니다.\")"
   ]
  },
  {
   "cell_type": "code",
   "execution_count": 47,
   "id": "383297b4",
   "metadata": {},
   "outputs": [
    {
     "name": "stdout",
     "output_type": "stream",
     "text": [
      "몇 점이야? 72\n",
      "72 점이면 C네\n"
     ]
    }
   ],
   "source": [
    "x = int(input(\"몇 점이야? \"))\n",
    "if x >= 90:\n",
    "    print(x, \" 점이면 A네\")\n",
    "elif x >=80:\n",
    "    print(x, \"점이면 B네\")\n",
    "elif x >= 70:\n",
    "    print(x, \"점이면 C네\")\n",
    "else:\n",
    "    print(x, \"점이면 그냥 죽어\")"
   ]
  },
  {
   "cell_type": "code",
   "execution_count": 50,
   "id": "4fb848ea",
   "metadata": {},
   "outputs": [
    {
     "name": "stdout",
     "output_type": "stream",
     "text": [
      "0 초\n",
      "1 초\n",
      "2 초\n",
      "3 초\n",
      "4 초\n",
      "끝\n"
     ]
    }
   ],
   "source": [
    "count = 5\n",
    "a = 0\n",
    "while count>0:\n",
    "    print(a,\"초\")\n",
    "    a = a + 1\n",
    "    count = count - 1\n",
    "else:\n",
    "    print(\"끝\")"
   ]
  },
  {
   "cell_type": "code",
   "execution_count": 52,
   "id": "adf69eb3",
   "metadata": {},
   "outputs": [
    {
     "name": "stdout",
     "output_type": "stream",
     "text": [
      "n =  1\n",
      "n =  2\n",
      "n =  3\n",
      "n =  4\n"
     ]
    }
   ],
   "source": [
    "for n in range(1,10):\n",
    "    if n > 4:\n",
    "        break\n",
    "    print(\"n = \",n)"
   ]
  },
  {
   "cell_type": "code",
   "execution_count": 53,
   "id": "93184d10",
   "metadata": {},
   "outputs": [
    {
     "name": "stdout",
     "output_type": "stream",
     "text": [
      "1\n",
      "2\n",
      "3\n",
      "4\n",
      "6\n",
      "7\n",
      "8\n",
      "9\n"
     ]
    }
   ],
   "source": [
    "for n in range(1,10):\n",
    "    if n == 5:\n",
    "        continue\n",
    "    print(n)"
   ]
  },
  {
   "cell_type": "code",
   "execution_count": 54,
   "id": "51ee9f9d",
   "metadata": {},
   "outputs": [
    {
     "name": "stdout",
     "output_type": "stream",
     "text": [
      "['apple', 'banana']\n",
      "\n",
      "\n",
      "['peer', 'cherry']\n"
     ]
    }
   ],
   "source": [
    "# 3000원이 넘는 과일 이름과 3000미만의 과일이름 출력\n",
    "\n",
    "lower_price = []\n",
    "upper_price = []\n",
    "\n",
    "for items in fruit_price.items():\n",
    "    if(items[1]>3000):\n",
    "        lower_price.append(items[0])\n",
    "    else:\n",
    "        upper_price.append(items[0])\n",
    "        \n",
    "print(upper_price)\n",
    "print('\\n')\n",
    "print(lower_price)"
   ]
  },
  {
   "cell_type": "code",
   "execution_count": 69,
   "id": "1c4f2afe",
   "metadata": {},
   "outputs": [
    {
     "name": "stdout",
     "output_type": "stream",
     "text": [
      "3000원 이상의 과일들은  ['apple', 'cherry'] 총 개수는  12\n"
     ]
    }
   ],
   "source": [
    "fruit_count = {\"apple\":[3500,10], \"peer\":[2500,5],\n",
    "               \"cherry\":[5000,2], 'banana':[2900,7]}\n",
    "sum = 0\n",
    "count = []\n",
    "\n",
    "for items in fruit_count.items():\n",
    "    if items[1][0] >= 3000:\n",
    "        count.append(items[0])\n",
    "        sum = sum + items[1][1]\n",
    "        \n",
    "print(\"3000원 이상의 과일들은 \", count,\"총 개수는 \" , sum)\n"
   ]
  },
  {
   "cell_type": "code",
   "execution_count": null,
   "id": "d8f9b6d5",
   "metadata": {},
   "outputs": [],
   "source": []
  }
 ],
 "metadata": {
  "kernelspec": {
   "display_name": "Python 3",
   "language": "python",
   "name": "python3"
  },
  "language_info": {
   "codemirror_mode": {
    "name": "ipython",
    "version": 3
   },
   "file_extension": ".py",
   "mimetype": "text/x-python",
   "name": "python",
   "nbconvert_exporter": "python",
   "pygments_lexer": "ipython3",
   "version": "3.8.8"
  }
 },
 "nbformat": 4,
 "nbformat_minor": 5
}
