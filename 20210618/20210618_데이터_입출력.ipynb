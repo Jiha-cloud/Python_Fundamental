{
 "cells": [
  {
   "cell_type": "code",
   "execution_count": 6,
   "id": "7b01a917",
   "metadata": {},
   "outputs": [],
   "source": [
    "fruit = open('C://Users//학생//0.pjha//fruit.txt','wt')\n",
    "fruit.write('tomato 4000\\n')\n",
    "fruit.write('mango 10000\\n')\n",
    "fruit.write('pumkin 15000\\n')\n",
    "fruit.close()"
   ]
  },
  {
   "cell_type": "code",
   "execution_count": 5,
   "id": "fab410ef",
   "metadata": {},
   "outputs": [],
   "source": [
    "fruit = open('C://Users//학생//0.pjha//fruit.txt','wt')\n",
    "fruit_price = {'apple': 3500, 'peer': 2500, 'cherry':5000}\n",
    "for item in fruit_price.items():\n",
    "    print(item, file=fruit)\n",
    "    \n",
    "fruit.close()"
   ]
  },
  {
   "cell_type": "code",
   "execution_count": 10,
   "id": "d93ed3a2",
   "metadata": {},
   "outputs": [],
   "source": [
    "import csv\n",
    "with open('C://Users//학생//0.pjha//fruit.csv','w',newline=\"\") as fruit:\n",
    "    writer = csv.writer(fruit, delimiter=',')\n",
    "    writer.writerow(['apple'])\n",
    "    writer.writerow(['banana'])\n",
    "    writer.writerow(['tomato'])\n",
    "    writer.writerow(['mango'])\n",
    "    writer.writerow(['cherry'])\n",
    "    writer.writerow(['blueberry'])\n",
    "    "
   ]
  },
  {
   "cell_type": "code",
   "execution_count": 11,
   "id": "d82d6691",
   "metadata": {},
   "outputs": [],
   "source": [
    "# 'r' :read\n",
    "# 'w' : write\n",
    "# 'x' : create and open\n",
    "# 'a' : open for write and append "
   ]
  },
  {
   "cell_type": "code",
   "execution_count": 14,
   "id": "a1a47d01",
   "metadata": {},
   "outputs": [
    {
     "name": "stdout",
     "output_type": "stream",
     "text": [
      "['tomato 4000\\n', 'mango 10000\\n', 'pumkin 15000\\n']\n"
     ]
    }
   ],
   "source": [
    "with open('C://Users//학생//0.pjha//fruit.txt','rt') as fruit_path:\n",
    "    fruit = fruit_path.readlines()\n",
    "    print(fruit)"
   ]
  },
  {
   "cell_type": "code",
   "execution_count": 20,
   "id": "48439d73",
   "metadata": {},
   "outputs": [
    {
     "name": "stdout",
     "output_type": "stream",
     "text": [
      "<_csv.reader object at 0x000001A24E0E1760>\n",
      "['apple']\n",
      "['banana']\n",
      "['tomato']\n",
      "['mango']\n",
      "['cherry']\n",
      "['blueberry']\n"
     ]
    }
   ],
   "source": [
    "with open('C://Users//학생//0.pjha//fruit.csv','rt') as f:\n",
    "    csvRead = csv.reader(f)\n",
    "    print(csvRead)\n",
    "    fruit = []\n",
    "    for i in csvRead:\n",
    "        fruit.append(csvRead)\n",
    "        print(i)"
   ]
  },
  {
   "cell_type": "code",
   "execution_count": 17,
   "id": "1fc6eea7",
   "metadata": {},
   "outputs": [
    {
     "ename": "ValueError",
     "evalue": "I/O operation on closed file.",
     "output_type": "error",
     "traceback": [
      "\u001b[1;31m---------------------------------------------------------------------------\u001b[0m",
      "\u001b[1;31mValueError\u001b[0m                                Traceback (most recent call last)",
      "\u001b[1;32m<ipython-input-17-15d89e1dea93>\u001b[0m in \u001b[0;36m<module>\u001b[1;34m\u001b[0m\n\u001b[0;32m      1\u001b[0m \u001b[0mfruit\u001b[0m \u001b[1;33m=\u001b[0m \u001b[1;33m[\u001b[0m\u001b[1;33m]\u001b[0m\u001b[1;33m\u001b[0m\u001b[1;33m\u001b[0m\u001b[0m\n\u001b[1;32m----> 2\u001b[1;33m \u001b[1;32mfor\u001b[0m \u001b[0mi\u001b[0m \u001b[1;32min\u001b[0m \u001b[0mcsvRead\u001b[0m\u001b[1;33m:\u001b[0m\u001b[1;33m\u001b[0m\u001b[1;33m\u001b[0m\u001b[0m\n\u001b[0m\u001b[0;32m      3\u001b[0m     \u001b[0mfruit\u001b[0m\u001b[1;33m.\u001b[0m\u001b[0mappend\u001b[0m\u001b[1;33m(\u001b[0m\u001b[0mcsvRead\u001b[0m\u001b[1;33m)\u001b[0m\u001b[1;33m\u001b[0m\u001b[1;33m\u001b[0m\u001b[0m\n\u001b[0;32m      4\u001b[0m \u001b[1;33m\u001b[0m\u001b[0m\n\u001b[0;32m      5\u001b[0m \u001b[0mprint\u001b[0m\u001b[1;33m(\u001b[0m\u001b[0mfruit\u001b[0m\u001b[1;33m)\u001b[0m\u001b[1;33m\u001b[0m\u001b[1;33m\u001b[0m\u001b[0m\n",
      "\u001b[1;31mValueError\u001b[0m: I/O operation on closed file."
     ]
    }
   ],
   "source": [
    "fruit = []\n",
    "for i in csvRead:\n",
    "    fruit.append(csvRead)\n",
    "    \n",
    "print(fruit)"
   ]
  },
  {
   "cell_type": "code",
   "execution_count": 21,
   "id": "ef3cc1eb",
   "metadata": {},
   "outputs": [
    {
     "name": "stdout",
     "output_type": "stream",
     "text": [
      "2\n",
      "3\n"
     ]
    }
   ],
   "source": [
    "x1 = [1,2,3]\n",
    "y1 = [2,3,4]\n",
    "\n",
    "for x in x1:\n",
    "    for y in y1:\n",
    "        if x==y:\n",
    "            print(x)"
   ]
  },
  {
   "cell_type": "code",
   "execution_count": 22,
   "id": "e1a11eba",
   "metadata": {},
   "outputs": [
    {
     "data": {
      "text/plain": [
       "{2, 3}"
      ]
     },
     "execution_count": 22,
     "metadata": {},
     "output_type": "execute_result"
    }
   ],
   "source": [
    "z = set(x1).intersection(set(y1))\n",
    "z"
   ]
  },
  {
   "cell_type": "code",
   "execution_count": null,
   "id": "8bf5e644",
   "metadata": {},
   "outputs": [],
   "source": []
  }
 ],
 "metadata": {
  "kernelspec": {
   "display_name": "Python 3",
   "language": "python",
   "name": "python3"
  },
  "language_info": {
   "codemirror_mode": {
    "name": "ipython",
    "version": 3
   },
   "file_extension": ".py",
   "mimetype": "text/x-python",
   "name": "python",
   "nbconvert_exporter": "python",
   "pygments_lexer": "ipython3",
   "version": "3.8.8"
  }
 },
 "nbformat": 4,
 "nbformat_minor": 5
}
