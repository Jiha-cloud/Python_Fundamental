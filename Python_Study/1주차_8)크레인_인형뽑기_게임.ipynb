{
 "cells": [
  {
   "cell_type": "code",
   "execution_count": 1,
   "id": "d21de8dc",
   "metadata": {},
   "outputs": [],
   "source": [
    "import numpy as np\n",
    "import pandas as pd"
   ]
  },
  {
   "cell_type": "code",
   "execution_count": 140,
   "id": "61b8100a",
   "metadata": {},
   "outputs": [],
   "source": [
    "board = np.array([[0,0,0,0,0],[0,0,1,0,3],[0,2,5,0,1],[4,2,4,4,2],[3,5,1,3,1]])\n",
    "board = board.T"
   ]
  },
  {
   "cell_type": "code",
   "execution_count": 114,
   "id": "1b44372a",
   "metadata": {},
   "outputs": [
    {
     "data": {
      "text/plain": [
       "array([[0, 0, 0, 4, 3],\n",
       "       [0, 0, 2, 2, 5],\n",
       "       [0, 1, 5, 4, 1],\n",
       "       [0, 0, 0, 4, 3],\n",
       "       [0, 3, 1, 2, 1]])"
      ]
     },
     "execution_count": 114,
     "metadata": {},
     "output_type": "execute_result"
    }
   ],
   "source": [
    "board\n",
    "43113204"
   ]
  },
  {
   "cell_type": "code",
   "execution_count": 130,
   "id": "2b7a0598",
   "metadata": {},
   "outputs": [
    {
     "data": {
      "text/plain": [
       "array([1, 5, 3, 5, 1, 2, 1, 4])"
      ]
     },
     "execution_count": 130,
     "metadata": {},
     "output_type": "execute_result"
    }
   ],
   "source": [
    "moves = np.array([1,5,3,5,1,2,1,4])\n",
    "moves"
   ]
  },
  {
   "cell_type": "code",
   "execution_count": 131,
   "id": "fd275eb4",
   "metadata": {},
   "outputs": [
    {
     "data": {
      "text/plain": [
       "array([[0, 0, 0, 0, 0, 0, 0, 0]])"
      ]
     },
     "execution_count": 131,
     "metadata": {},
     "output_type": "execute_result"
    }
   ],
   "source": [
    "extract = np.zeros(shape=(1,len(moves))).astype('int32')\n",
    "extract"
   ]
  },
  {
   "cell_type": "code",
   "execution_count": 19,
   "id": "c251ed00",
   "metadata": {},
   "outputs": [],
   "source": [
    "# 0이 있으면 통과하고 1이상의 숫자를 집어야함\n",
    "# moves에서 값을 받아서 열 indexing 행은 0은 지나치고 나오는 1이상의 숫자 추출\n",
    "# 추출한 값은 extract에 담고 같은 숫자가 생기면 pang_num +1"
   ]
  },
  {
   "cell_type": "code",
   "execution_count": 144,
   "id": "7222a048",
   "metadata": {},
   "outputs": [
    {
     "name": "stdout",
     "output_type": "stream",
     "text": [
      "추출값= 4\n",
      "num값= 1\n",
      "추출값= 3\n",
      "num값= 2\n",
      "추출값= 1\n",
      "num값= 3\n",
      "추출값= 1\n",
      "num값= 2\n",
      "추출값= 3\n",
      "num값= 1\n",
      "추출값= 2\n",
      "num값= 2\n",
      "추출값= 4\n",
      "num값= 3\n",
      "[[4 2 4 1 2 4 4 0]]\n",
      "4\n"
     ]
    }
   ],
   "source": [
    "board = np.array([[0,0,0,0,0],[0,0,1,0,3],[0,2,5,0,1],[4,2,4,4,2],[3,5,1,3,1]])\n",
    "board = board.T\n",
    "num = 0\n",
    "pang_num=0\n",
    "for i in moves:\n",
    "    for j in range(5):\n",
    "        if board[i-1][j] != 0:\n",
    "            extract[0][num]=board[i-1][j]\n",
    "            board[i-1][j]=0\n",
    "            print('추출값=',extract[0][num])\n",
    "            if (extract[0][num-1]==extract[0][num])&(num!=0):\n",
    "                pang_num+=2\n",
    "                num-=2\n",
    "            num+=1\n",
    "            print('num값=',num)\n",
    "            break\n",
    "\n",
    "def solution(board, moves):\n",
    "    board = board.T\n",
    "    num = 0\n",
    "    pang_num=0\n",
    "    for i in moves:\n",
    "        for j in range(5):\n",
    "            if board[i-1][j] != 0:\n",
    "                extract[0][num]=board[i-1][j]\n",
    "                board[i-1][j]=0\n",
    "                if (extract[0][num-1]==extract[0][num])&(num!=0):\n",
    "                    pang_num+=2\n",
    "                    num-=2\n",
    "                num+=1\n",
    "                break\n",
    "    answer = pang_num\n",
    "    return answer\n",
    "\n",
    "\n",
    "\n"
   ]
  },
  {
   "cell_type": "code",
   "execution_count": 150,
   "id": "c87c064e",
   "metadata": {},
   "outputs": [
    {
     "name": "stdout",
     "output_type": "stream",
     "text": [
      "4\n"
     ]
    }
   ],
   "source": [
    "import numpy as np\n",
    "def solution(board, moves):\n",
    "    extract = np.zeros(shape=(1,len(moves))).astype('int32')\n",
    "    board = np.array(board)\n",
    "    board = board.T\n",
    "    num = 0\n",
    "    pang_num=0\n",
    "    for i in moves:\n",
    "        for j in range(len(board)):\n",
    "            if board[i-1][j] != 0:\n",
    "                extract[0][num]=board[i-1][j]\n",
    "                board[i-1][j]=0\n",
    "                if (extract[0][num-1]==extract[0][num])&(num!=0):\n",
    "                    pang_num+=2\n",
    "                    num-=2\n",
    "                num+=1\n",
    "                break\n",
    "    answer = pang_num\n",
    "    return answer\n",
    "\n",
    "print(solution([[0,0,0,0,0],[0,0,1,0,3],[0,2,5,0,1],[4,2,4,4,2],[3,5,1,3,1]],[1,5,3,5,1,2,1,4]))"
   ]
  },
  {
   "cell_type": "code",
   "execution_count": null,
   "id": "41b37b87",
   "metadata": {},
   "outputs": [],
   "source": []
  }
 ],
 "metadata": {
  "kernelspec": {
   "display_name": "Python 3",
   "language": "python",
   "name": "python3"
  },
  "language_info": {
   "codemirror_mode": {
    "name": "ipython",
    "version": 3
   },
   "file_extension": ".py",
   "mimetype": "text/x-python",
   "name": "python",
   "nbconvert_exporter": "python",
   "pygments_lexer": "ipython3",
   "version": "3.8.8"
  }
 },
 "nbformat": 4,
 "nbformat_minor": 5
}
