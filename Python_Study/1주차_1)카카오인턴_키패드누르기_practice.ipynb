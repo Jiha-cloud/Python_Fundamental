{
 "cells": [
  {
   "cell_type": "markdown",
   "id": "489d35e2",
   "metadata": {},
   "source": [
    "이 전화 키패드에서 왼손과 오른손의 엄지손가락만을 이용해서 숫자만을 입력하려고 합니다.\n",
    "맨 처음 왼손 엄지손가락은 * 키패드에 오른손 엄지손가락은 #\n",
    "\n",
    "엄지손가락은 상하좌우 4가지 방향으로만 이동할 수 있으며 키패드 이동 한 칸은 거리로 1에 해당합니다.\n",
    "왼쪽 열의 3개의 숫자 1, 4, 7을 입력할 때는 왼손 엄지손가락을 사용합니다.\n",
    "\n",
    "오른쪽 열의 3개의 숫자 3, 6, 9를 입력할 때는 오른손 엄지손가락을 사용합니다.\n",
    "\n",
    "가운데 열의 4개의 숫자 2, 5, 8, 0을 입력할 때는 두 엄지손가락의 현재 키패드의 위치에서 더 가까운 엄지손가락을 사용합니다.\n",
    "\n",
    "4-1. 만약 두 엄지손가락의 거리가 같다면, 오른손잡이는 오른손 엄지손가락, 왼손잡이는 왼손 엄지손가락을 사용합니다.\n",
    "\n",
    "순서대로 누를 번호가 담긴 배열 numbers, 왼손잡이인지 오른손잡이인 지를 나타내는 문자열 hand가 매개변수로 주어질 때, \n",
    "\n",
    "각 번호를 누른 엄지손가락이 왼손인 지 오른손인 지를 나타내는 연속된 문자열 형태로 return 하도록 solution 함수를 완성해주세요.\n",
    "\n",
    "[제한사항]\n",
    "numbers 배열의 크기는 1 이상 1,000 이하입니다.\n",
    "numbers 배열 원소의 값은 0 이상 9 이하인 정수입니다.\n",
    "hand는 \"left\" 또는 \"right\" 입니다.\n",
    "\"left\"는 왼손잡이, \"right\"는 오른손잡이를 의미합니다.\n",
    "왼손 엄지손가락을 사용한 경우는 L, 오른손 엄지손가락을 사용한 경우는 R을 순서대로 이어붙여 문자열 형태로 return 해주세요."
   ]
  },
  {
   "cell_type": "code",
   "execution_count": 1,
   "id": "b3d12b88",
   "metadata": {},
   "outputs": [],
   "source": [
    "import pandas as pd\n",
    "import numpy as np\n",
    "import matplotlib.pyplot as plt"
   ]
  },
  {
   "cell_type": "code",
   "execution_count": null,
   "id": "354ae683",
   "metadata": {},
   "outputs": [],
   "source": [
    "# 왼손 * , 1 , 4, 7, 2, 5, 8, 0\n",
    "# 오른손 #, 3, 6, 9, 2, 5, 8, 0"
   ]
  },
  {
   "cell_type": "code",
   "execution_count": 2,
   "id": "de1231ee",
   "metadata": {},
   "outputs": [],
   "source": [
    "left = pd.DataFrame(np.nan, index = ['*',1,4,7,2,5,8,0], \n",
    "                    columns=['*',1,4,7,2,5,8,0])"
   ]
  },
  {
   "cell_type": "code",
   "execution_count": 4,
   "id": "5196a128",
   "metadata": {},
   "outputs": [],
   "source": [
    "right = pd.DataFrame(np.nan, index = ['#',3,6,9,2,5,8,0], \n",
    "                    columns=['#',3,6,9,2,5,8,0])"
   ]
  },
  {
   "cell_type": "code",
   "execution_count": 21,
   "id": "ff151b75",
   "metadata": {},
   "outputs": [],
   "source": [
    "star = pd.Series([0,3,2,1,4,3,2,1],index = ['*',1,4,7,2,5,8,0])\n",
    "one = pd.Series([3,0,1,2,1,2,3,4],index = ['*',1,4,7,2,5,8,0])\n",
    "four = pd.Series([2,1,0,1,2,1,2,3],index = ['*',1,4,7,2,5,8,0])\n",
    "seven = pd.Series([1,2,1,0,3,2,1,2],index = ['*',1,4,7,2,5,8,0])\n",
    "two = pd.Series([4,1,2,3,0,1,2,3],index = ['*',1,4,7,2,5,8,0])\n",
    "five = pd.Series([3,2,1,2,1,0,1,2],index = ['*',1,4,7,2,5,8,0])\n",
    "eight = pd.Series([2,3,2,1,2,1,0,1],index = ['*',1,4,7,2,5,8,0])\n",
    "zero = pd.Series([1,4,3,2,3,2,1,0],index = ['*',1,4,7,2,5,8,0])\n"
   ]
  },
  {
   "cell_type": "code",
   "execution_count": 31,
   "id": "4d9a7773",
   "metadata": {},
   "outputs": [],
   "source": [
    "left = pd.concat([star,one,four,seven,two,five,eight,zero],axis=1)"
   ]
  },
  {
   "cell_type": "code",
   "execution_count": 41,
   "id": "29f9d7ed",
   "metadata": {},
   "outputs": [],
   "source": [
    "left.rename(columns={0:'*',2:4,3:7,4:2,6:8,7:0},inplace=True)"
   ]
  },
  {
   "cell_type": "code",
   "execution_count": 42,
   "id": "4fa44687",
   "metadata": {},
   "outputs": [],
   "source": [
    "right = left.copy()"
   ]
  },
  {
   "cell_type": "code",
   "execution_count": 45,
   "id": "71caa3a3",
   "metadata": {},
   "outputs": [],
   "source": [
    "right.rename(columns={'*':'#',1:3,4:6,7:9}, index = {'*':'#',1:3,4:6,7:9}\n",
    "            ,inplace=True)"
   ]
  },
  {
   "cell_type": "code",
   "execution_count": 72,
   "id": "c0f05b22",
   "metadata": {},
   "outputs": [],
   "source": [
    "str1=[]\n",
    "left_thumb = '*'\n",
    "right_thumb = '#'"
   ]
  },
  {
   "cell_type": "code",
   "execution_count": 77,
   "id": "e215d86f",
   "metadata": {},
   "outputs": [
    {
     "data": {
      "text/plain": [
       "['L', 'L', 'R', 'L', 'R', 'L', 'R']"
      ]
     },
     "execution_count": 77,
     "metadata": {},
     "output_type": "execute_result"
    }
   ],
   "source": [
    "for i in range(0,len(numbers)):\n",
    "    if numbers[i]== '1' or numbers[i]== '4' or numbers[i]== '7':\n",
    "        str1.append('L')\n",
    "        left_thumb = int(numbers[i])\n",
    "    elif numbers[i] == '3' or numbers[i]== '6' or numbers[i]== '9':\n",
    "        str1.append('R')\n",
    "        right_thumb = int(numbers[i])\n",
    "    elif left.loc[left_thumb,int(numbers[i])]>right.loc[right_thumb,int(number[i])]:\n",
    "        str1.append('R')\n",
    "        right_thumb = int(numbers[i])\n",
    "    elif left.loc[left_thumb,int(numbers[i])]>right.loc[right_thumb,int(numbers[i])]:\n",
    "        str1.append('L')\n",
    "        left_thumb = int(numbers[i])\n",
    "    elif left.loc[left_thumb,int(numbers[i])]==right.loc[right_thumb,int(numbers[i])]:\n",
    "        if hand == 'left':\n",
    "            str1.append('L')\n",
    "            left_thumb = int(numbers[i])\n",
    "        elif hand == 'right':\n",
    "            str1.append('R')\n",
    "            right_thumb = int(numbers[i])\n"
   ]
  },
  {
   "cell_type": "code",
   "execution_count": 87,
   "id": "6a42e8b6",
   "metadata": {},
   "outputs": [
    {
     "ename": "TypeError",
     "evalue": "'list' object is not callable",
     "output_type": "error",
     "traceback": [
      "\u001b[1;31m---------------------------------------------------------------------------\u001b[0m",
      "\u001b[1;31mTypeError\u001b[0m                                 Traceback (most recent call last)",
      "\u001b[1;32m<ipython-input-87-3e58a43b2105>\u001b[0m in \u001b[0;36m<module>\u001b[1;34m\u001b[0m\n\u001b[0;32m      1\u001b[0m \u001b[0mnumbers\u001b[0m \u001b[1;33m=\u001b[0m \u001b[1;36m1234567\u001b[0m\u001b[1;33m\u001b[0m\u001b[1;33m\u001b[0m\u001b[0m\n\u001b[1;32m----> 2\u001b[1;33m \u001b[0mnumbers2\u001b[0m \u001b[1;33m=\u001b[0m \u001b[0mstr\u001b[0m\u001b[1;33m(\u001b[0m\u001b[0mnumbers\u001b[0m\u001b[1;33m)\u001b[0m\u001b[1;33m\u001b[0m\u001b[1;33m\u001b[0m\u001b[0m\n\u001b[0m\u001b[0;32m      3\u001b[0m \u001b[0mnumbers2\u001b[0m\u001b[1;33m\u001b[0m\u001b[1;33m\u001b[0m\u001b[0m\n",
      "\u001b[1;31mTypeError\u001b[0m: 'list' object is not callable"
     ]
    }
   ],
   "source": [
    "numbers = 1234567\n",
    "numbers2 = str(numbers)\n",
    "numbers2"
   ]
  },
  {
   "cell_type": "code",
   "execution_count": null,
   "id": "891ca230",
   "metadata": {},
   "outputs": [],
   "source": [
    "def solution(numbers, hand):\n",
    "    numbers=list(numbers)\n",
    "    answer = ''\n",
    "    return answer"
   ]
  },
  {
   "cell_type": "code",
   "execution_count": null,
   "id": "d0e73dc5",
   "metadata": {},
   "outputs": [],
   "source": []
  }
 ],
 "metadata": {
  "kernelspec": {
   "display_name": "Python 3",
   "language": "python",
   "name": "python3"
  },
  "language_info": {
   "codemirror_mode": {
    "name": "ipython",
    "version": 3
   },
   "file_extension": ".py",
   "mimetype": "text/x-python",
   "name": "python",
   "nbconvert_exporter": "python",
   "pygments_lexer": "ipython3",
   "version": "3.8.8"
  }
 },
 "nbformat": 4,
 "nbformat_minor": 5
}
