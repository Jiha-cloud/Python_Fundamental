{
 "cells": [
  {
   "cell_type": "code",
   "execution_count": 28,
   "id": "bfde645f",
   "metadata": {},
   "outputs": [
    {
     "name": "stdout",
     "output_type": "stream",
     "text": [
      "LLRLLRLL\n"
     ]
    }
   ],
   "source": [
    "import pandas as pd\n",
    "import numpy as np\n",
    "def solution(numbers, hand):\n",
    "    left = pd.DataFrame(np.nan, index = ['*',1,4,7,2,5,8,0], \n",
    "                    columns=['*',1,4,7,2,5,8,0])\n",
    "    right = pd.DataFrame(np.nan, index = ['#',3,6,9,2,5,8,0], \n",
    "                    columns=['#',3,6,9,2,5,8,0])\n",
    "    star = pd.Series([0,3,2,1,4,3,2,1],index = ['*',1,4,7,2,5,8,0])\n",
    "    one = pd.Series([3,0,1,2,1,2,3,4],index = ['*',1,4,7,2,5,8,0])\n",
    "    four = pd.Series([2,1,0,1,2,1,2,3],index = ['*',1,4,7,2,5,8,0])\n",
    "    seven = pd.Series([1,2,1,0,3,2,1,2],index = ['*',1,4,7,2,5,8,0])\n",
    "    two = pd.Series([4,1,2,3,0,1,2,3],index = ['*',1,4,7,2,5,8,0])\n",
    "    five = pd.Series([3,2,1,2,1,0,1,2],index = ['*',1,4,7,2,5,8,0])\n",
    "    eight = pd.Series([2,3,2,1,2,1,0,1],index = ['*',1,4,7,2,5,8,0])\n",
    "    zero = pd.Series([1,4,3,2,3,2,1,0],index = ['*',1,4,7,2,5,8,0])\n",
    "    \n",
    "    left = pd.concat([star,one,four,seven,two,five,eight,zero],axis=1)\n",
    "    left.rename(columns={0:'*',2:4,3:7,4:2,6:8,7:0},inplace=True)\n",
    "    right = left.copy()\n",
    "    right.rename(columns={'*':'#',1:3,4:6,7:9}, index = {'*':'#',1:3,4:6,7:9}\n",
    "            ,inplace=True)\n",
    "    \n",
    "    str1=[]\n",
    "    left_thumb = '*'\n",
    "    right_thumb = '#'\n",
    "    \n",
    "    for i in range(0,len(numbers)):\n",
    "        if numbers[i]== 1 or numbers[i]== 4 or numbers[i]== 7:\n",
    "            str1.append('L')\n",
    "            left_thumb = int(numbers[i])\n",
    "        elif numbers[i] == 3 or numbers[i]== 6 or numbers[i]== 9:\n",
    "            str1.append('R')\n",
    "            right_thumb = int(numbers[i])\n",
    "        elif left.loc[left_thumb,numbers[i]]>right.loc[right_thumb,numbers[i]]:\n",
    "            str1.append('R')\n",
    "            right_thumb = numbers[i]\n",
    "        elif left.loc[left_thumb,numbers[i]]<right.loc[right_thumb,numbers[i]]:\n",
    "            str1.append('L')\n",
    "            left_thumb = int(numbers[i])\n",
    "        elif left.loc[left_thumb,numbers[i]]==right.loc[right_thumb,numbers[i]]:\n",
    "            if hand == 'left':\n",
    "                str1.append('L')\n",
    "                left_thumb = numbers[i]\n",
    "            elif hand == 'right':\n",
    "                str1.append('R')\n",
    "                right_thumb = numbers[i]\n",
    "    \n",
    "    answer = ''\n",
    "    for i in str1:\n",
    "        answer += i\n",
    "    return answer\n",
    "\n",
    "print(solution([1,2,3,4,5,6,7,8],'left'))"
   ]
  },
  {
   "cell_type": "code",
   "execution_count": null,
   "id": "dbf4bb83",
   "metadata": {},
   "outputs": [],
   "source": []
  }
 ],
 "metadata": {
  "kernelspec": {
   "display_name": "Python 3",
   "language": "python",
   "name": "python3"
  },
  "language_info": {
   "codemirror_mode": {
    "name": "ipython",
    "version": 3
   },
   "file_extension": ".py",
   "mimetype": "text/x-python",
   "name": "python",
   "nbconvert_exporter": "python",
   "pygments_lexer": "ipython3",
   "version": "3.8.8"
  }
 },
 "nbformat": 4,
 "nbformat_minor": 5
}
