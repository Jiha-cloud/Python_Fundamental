{
 "cells": [
  {
   "cell_type": "code",
   "execution_count": null,
   "id": "6d833ab3",
   "metadata": {},
   "outputs": [],
   "source": [
    "def solution(arr):\n",
    "    sum = 0\n",
    "    for i in arr:\n",
    "        sum+=i\n",
    "\n",
    "    answer = sum / len(arr)\n",
    "    return answer"
   ]
  }
 ],
 "metadata": {
  "kernelspec": {
   "display_name": "Python 3",
   "language": "python",
   "name": "python3"
  },
  "language_info": {
   "codemirror_mode": {
    "name": "ipython",
    "version": 3
   },
   "file_extension": ".py",
   "mimetype": "text/x-python",
   "name": "python",
   "nbconvert_exporter": "python",
   "pygments_lexer": "ipython3",
   "version": "3.8.8"
  }
 },
 "nbformat": 4,
 "nbformat_minor": 5
}
