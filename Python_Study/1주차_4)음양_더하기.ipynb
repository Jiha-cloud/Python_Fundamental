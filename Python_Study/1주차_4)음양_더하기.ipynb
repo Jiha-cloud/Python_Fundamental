{
 "cells": [
  {
   "cell_type": "code",
   "execution_count": 6,
   "id": "6d833ab3",
   "metadata": {},
   "outputs": [
    {
     "name": "stdout",
     "output_type": "stream",
     "text": [
      "2\n"
     ]
    }
   ],
   "source": [
    "def solution(absolutes, signs):\n",
    "    answer = 0\n",
    "    for i in range(0,len(signs)):\n",
    "        if signs[i]==False:\n",
    "            answer -= absolutes[i]\n",
    "        else:\n",
    "            answer += absolutes[i]\n",
    "        \n",
    "    return answer\n",
    "\n",
    "print(solution([1,2,3],[True,False,True]))"
   ]
  },
  {
   "cell_type": "code",
   "execution_count": null,
   "id": "71ef8758",
   "metadata": {},
   "outputs": [],
   "source": []
  }
 ],
 "metadata": {
  "kernelspec": {
   "display_name": "Python 3",
   "language": "python",
   "name": "python3"
  },
  "language_info": {
   "codemirror_mode": {
    "name": "ipython",
    "version": 3
   },
   "file_extension": ".py",
   "mimetype": "text/x-python",
   "name": "python",
   "nbconvert_exporter": "python",
   "pygments_lexer": "ipython3",
   "version": "3.8.8"
  }
 },
 "nbformat": 4,
 "nbformat_minor": 5
}
